{
 "cells": [
  {
   "attachments": {},
   "cell_type": "markdown",
   "metadata": {},
   "source": [
    "### Importing packages and data_utils.py"
   ]
  },
  {
   "cell_type": "code",
   "execution_count": null,
   "metadata": {},
   "outputs": [],
   "source": [
    "from climsim_utils.data_utils import *"
   ]
  },
  {
   "attachments": {},
   "cell_type": "markdown",
   "metadata": {},
   "source": [
    "### Instantiating class"
   ]
  },
  {
   "cell_type": "code",
   "execution_count": null,
   "metadata": {},
   "outputs": [],
   "source": [
    "grid_path = './grid_info/ClimSim_low-res_grid-info.nc'\n",
    "norm_path = './preprocessing/normalizations/'\n",
    "\n",
    "grid_info = xr.open_dataset(grid_path)\n",
    "input_mean = xr.open_dataset(norm_path + 'inputs/input_mean.nc')\n",
    "input_max = xr.open_dataset(norm_path + 'inputs/input_max.nc')\n",
    "input_min = xr.open_dataset(norm_path + 'inputs/input_min.nc')\n",
    "output_scale = xr.open_dataset(norm_path + 'outputs/output_scale.nc')\n",
    "\n",
    "data = data_utils(grid_info = grid_info, \n",
    "                  input_mean = input_mean, \n",
    "                  input_max = input_max, \n",
    "                  input_min = input_min, \n",
    "                  output_scale = output_scale)"
   ]
  },
  {
   "cell_type": "markdown",
   "metadata": {},
   "source": [
    "### Set variable list"
   ]
  },
  {
   "cell_type": "code",
   "execution_count": null,
   "metadata": {},
   "outputs": [],
   "source": [
    "# set inputs and outputs to V1 subset\n",
    "data.set_to_v2_vars()\n",
    "\n",
    "# v2 inputs (name :: description :: dimension :: units): \n",
    "\n",
    "# 'state_t' :: air temperature :: 60 :: K \n",
    "# 'state_q0001' :: specific humidity :: 60 :: kg/kg\n",
    "# 'state_q0002' :: cloud liquid mixing ratio :: 60 :: kg/kg\n",
    "# 'state_q0003' :: cloud ice mixing ratio :: 60 :: kg/kg\n",
    "# 'state_u' :: zonal wind speed :: 60 :: m/s\n",
    "# 'state_v' :: meridional wind speed :: 60 :: m/s\n",
    "# 'state_ps' :: surface pressure :: 1 :: Pa\n",
    "# 'pbuf_SOLIN' :: solar insolation :: 1 :: W/m^2\n",
    "# 'pbuf_LHFLX' :: surface latent heat flux :: 1 :: W/m^2\n",
    "# 'pbuf_SHFLX' :: surface sensible heat flux :: 1 :: W/m^2\n",
    "# 'pbuf_TAUX' :: zonal surface stress :: 1 :: N/m^2\n",
    "# 'pbuf_TAUY' :: meridional surface stress :: 1 :: N/m^2\n",
    "# 'pbuf_COSZRS' :: cosine of solar zenith angle :: 1\n",
    "# 'cam_in_ALDIF' :: albedo for diffuse longwave radiation :: 1\n",
    "# 'cam_in_ALDIR' :: albedo for direct longwave radiation :: 1\n",
    "# 'cam_in_ASDIF' :: albedo for diffuse shortwave radiation :: 1\n",
    "# 'cam_in_ASDIR' :: albedo for direct shortwave radiation :: 1\n",
    "# 'cam_in_LWUP' :: upward longwave flux :: 1 :: W/m^2\n",
    "# 'cam_in_ICEFRAC' :: sea-ice areal fraction :: 1\n",
    "# 'cam_in_LANDFRAC' :: land areal fraction :: 1\n",
    "# 'cam_in_OCNFRAC' :: ocean areal fraction :: 1\n",
    "# 'cam_in_SNOWHICE' :: snow depth over ice :: 1 :: m\n",
    "# 'cam_in_SNOWHLAND' :: snow depth over land :: 1 :: m\n",
    "# 'pbuf_ozone' :: ozone volume mixing ratio :: 60 :: mol/mol\n",
    "# 'pbuf_CH4' :: methane volume mixing ratio :: 60 :: mol/mol\n",
    "# 'pbuf_N2O' :: nitrous oxide volume mixing ratio :: 60 :: mol/mol\n",
    "\n",
    "# v2 outputs (name :: description :: dimension :: units): \n",
    "\n",
    "# 'ptend_t' :: heating tendency :: 60 :: K/s \n",
    "# 'ptend_q0001' :: moistening tendency :: 60 :: kg/kg/s\n",
    "# 'ptend_q0002' :: cloud liquid mixing ratio change over time :: 60 :: kg/kg/s\n",
    "# 'ptend_q0003' :: cloud ice mixing ratio change over time :: 60 :: kg/kg/s\n",
    "# 'ptend_u' :: zonal wind acceleration :: 60 :: m/s^2\n",
    "# 'ptend_v' :: meridional wind acceleration :: 60 :: m/s^2\n",
    "# 'cam_out_NETSW' :: net shortwave flux at surface :: 1 :: W/m^2\n",
    "# 'cam_out_FLWDS' :: downward longwave flux at surface :: 1 :: W/m^2 \n",
    "# 'cam_out_PRECSC' :: snow rate (liquid water equivalent) :: 1 :: m/s \n",
    "# 'cam_out_PRECC' :: rain rate :: 1 :: m/s\n",
    "# 'cam_out_SOLS' :: downward visible direct solar flux to surface :: 1 :: W/m^2\n",
    "# 'cam_out_SOLL' :: downward near-infrared direct solar flux to surface :: 1 :: W/m^2\n",
    "# 'cam_out_SOLSD' :: downward diffuse solar flux to surface :: 1 :: W/m^2\n",
    "# 'cam_out_SOLLD' :: downward diffuse near-infrared solar flux to surface :: 1 :: W/m^2"
   ]
  },
  {
   "attachments": {},
   "cell_type": "markdown",
   "metadata": {},
   "source": [
    "### Create training data"
   ]
  },
  {
   "cell_type": "code",
   "execution_count": null,
   "metadata": {},
   "outputs": [],
   "source": [
    "# set data path\n",
    "data.data_path = '/ocean/projects/atm200007p/jlin96/neurips_proj/e3sm_train/'\n",
    "\n",
    "# set regular expressions for selecting training data\n",
    "data.set_regexps(data_split = 'train', \n",
    "                 regexps = ['E3SM-MMF.mli.000[1234567]-*-*-*.nc', # years 1 through 7\n",
    "                            'E3SM-MMF.mli.0008-01-*-*.nc']) # first month of year 8\n",
    "\n",
    "# set temporal subsampling\n",
    "data.set_stride_sample(data_split = 'train', stride_sample = 7)\n",
    "\n",
    "# create list of files to extract data from\n",
    "data.set_filelist(data_split = 'train')\n",
    "\n",
    "# do not normalize\n",
    "data.normalize = False\n",
    "\n",
    "# save numpy files of training data\n",
    "data.save_as_npy(data_split = 'train', save_path = '')"
   ]
  },
  {
   "attachments": {},
   "cell_type": "markdown",
   "metadata": {},
   "source": [
    "### Create validation data"
   ]
  },
  {
   "cell_type": "code",
   "execution_count": null,
   "metadata": {},
   "outputs": [],
   "source": [
    "# set data path\n",
    "data.data_path = '/ocean/projects/atm200007p/jlin96/neurips_proj/e3sm_train/'\n",
    "\n",
    "# set regular expressions for selecting validation data\n",
    "data.set_regexps(data_split = 'val',\n",
    "                 regexps = ['E3SM-MMF.mli.0008-0[23456789]-*-*.nc', # months 2 through 9 of year 8\n",
    "                            'E3SM-MMF.mli.0008-1[012]-*-*.nc', # months 10 through 12 of year 8\n",
    "                            'E3SM-MMF.mli.0009-01-*-*.nc']) # first month of year 9\n",
    "\n",
    "# set temporal subsampling\n",
    "data.set_stride_sample(data_split = 'val', stride_sample = 7)\n",
    "\n",
    "# create list of files to extract data from\n",
    "data.set_filelist(data_split = 'val')\n",
    "\n",
    "# do not normalize\n",
    "data.normalize = False\n",
    "\n",
    "# save numpy files of validation data\n",
    "data.save_as_npy(data_split = 'val', save_path = '')"
   ]
  },
  {
   "attachments": {},
   "cell_type": "markdown",
   "metadata": {},
   "source": [
    "### Create test data"
   ]
  },
  {
   "cell_type": "code",
   "execution_count": null,
   "metadata": {},
   "outputs": [],
   "source": [
    "# set data path for test data\n",
    "data.data_path = '/ocean/projects/atm200007p/jlin96/neurips_proj/e3sm_test/'\n",
    "\n",
    "# set regular expressions for selecting scoring data (stride of 6 is needed for daily averaging)\n",
    "data.set_regexps(data_split = 'test',\n",
    "                 regexps = ['E3SM-MMF.mli.0009-0[3456789]-*-*.nc', # months 3 through 9 of year 9\n",
    "                            'E3SM-MMF.mli.0009-1[012]-*-*.nc', # months 10 through 12 of year 9\n",
    "                            'E3SM-MMF.mli.0010-*-*.nc', # all months of year 10\n",
    "                            'E3SM-MMF.mli.0011-0[12]-*-*.nc']) # months 1 and 2 of year 11\n",
    "\n",
    "# set temporal subsampling\n",
    "data.set_stride_sample(data_split = 'test', stride_sample = 6)\n",
    "\n",
    "# create list of files to extract data from\n",
    "data.set_filelist(data_split = 'test')\n",
    "\n",
    "# do not normalize\n",
    "data.normalize = False\n",
    "\n",
    "# save numpy files of scoring data\n",
    "data.save_as_npy(data_split = 'test', save_path = '')"
   ]
  },
  {
   "cell_type": "code",
   "execution_count": null,
   "metadata": {},
   "outputs": [],
   "source": [
    "print('finished')"
   ]
  }
 ],
 "metadata": {
  "kernelspec": {
   "display_name": "Python 3 (ipykernel)",
   "language": "python",
   "name": "python3"
  },
  "language_info": {
   "codemirror_mode": {
    "name": "ipython",
    "version": 3
   },
   "file_extension": ".py",
   "mimetype": "text/x-python",
   "name": "python",
   "nbconvert_exporter": "python",
   "pygments_lexer": "ipython3",
   "version": "3.9.13"
  },
  "orig_nbformat": 4
 },
 "nbformat": 4,
 "nbformat_minor": 2
}
