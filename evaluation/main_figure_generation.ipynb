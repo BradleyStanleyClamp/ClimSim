{
 "cells": [
  {
   "attachments": {},
   "cell_type": "markdown",
   "metadata": {},
   "source": [
    "### Import data_utils"
   ]
  },
  {
   "cell_type": "code",
   "execution_count": 1,
   "metadata": {},
   "outputs": [
    {
     "name": "stderr",
     "output_type": "stream",
     "text": [
      "2023-08-20 15:59:59.477099: I tensorflow/core/platform/cpu_feature_guard.cc:182] This TensorFlow binary is optimized to use available CPU instructions in performance-critical operations.\n",
      "To enable the following instructions: AVX2 FMA, in other operations, rebuild TensorFlow with the appropriate compiler flags.\n",
      "2023-08-20 16:00:02.047468: W tensorflow/compiler/tf2tensorrt/utils/py_utils.cc:38] TF-TRT Warning: Could not find TensorRT\n"
     ]
    }
   ],
   "source": [
    "from climsim_utils.data_utils import *"
   ]
  },
  {
   "cell_type": "markdown",
   "metadata": {},
   "source": [
    "### Instantiate class"
   ]
  },
  {
   "cell_type": "code",
   "execution_count": 2,
   "metadata": {},
   "outputs": [],
   "source": [
    "grid_path = '/ocean/projects/atm200007p/jlin96/neurips_proj/ClimSim_release/grid_info/ClimSim_low-res_grid-info.nc'\n",
    "norm_path = '/ocean/projects/atm200007p/jlin96/neurips_proj/ClimSim_release/normalizations/'\n",
    "\n",
    "grid_info = xr.open_dataset(grid_path)\n",
    "input_mean = xr.open_dataset(norm_path + 'inputs/input_mean.nc')\n",
    "input_max = xr.open_dataset(norm_path + 'inputs/input_max.nc')\n",
    "input_min = xr.open_dataset(norm_path + 'inputs/input_min.nc')\n",
    "output_scale = xr.open_dataset(norm_path + 'outputs/output_scale.nc')\n",
    "\n",
    "data = data_utils(grid_info = grid_info, \n",
    "                  input_mean = input_mean, \n",
    "                  input_max = input_max, \n",
    "                  input_min = input_min, \n",
    "                  output_scale = output_scale)"
   ]
  },
  {
   "cell_type": "markdown",
   "metadata": {},
   "source": [
    "### Load data and set pressure grid"
   ]
  },
  {
   "cell_type": "code",
   "execution_count": 3,
   "metadata": {},
   "outputs": [],
   "source": [
    "# paths to scoring data\n",
    "input_path = '/ocean/projects/atm200007p/jlin96/neurips_proj/e3sm_train_npy/scoring_input.npy'\n",
    "target_path = '/ocean/projects/atm200007p/jlin96/neurips_proj/e3sm_train_npy/scoring_target.npy'\n",
    "\n",
    "# paths to model predictions\n",
    "cvae_pred_path = '/ocean/projects/atm200007p/shared/neurips_proj/final_metrics/predictions/cVAE/cvae_preds_manual.h5'\n",
    "hsr_pred_path = '/ocean/projects/atm200007p/shared/neurips_proj/final_metrics/predictions/HSR/hsr_preds_bestcrps.h5'\n",
    "rpn_pred_path = '/ocean/projects/atm200007p/jlin96/neurips_proj/figure_ingredients/rpn_pred_v1_stride6.npy'\n",
    "cnn_pred_path = '/ocean/projects/atm200007p/jlin96/neurips_proj/figure_ingredients/val_predict_cnn_reshaped_stride6_FINAL.npy'\n",
    "mlp_pred_path = '/ocean/projects/atm200007p/jlin96/neurips_proj/figure_ingredients/001_backup_phase-7_retrained_models_step2_lot-147_trial_0027.best.h5.npy'\n",
    "\n",
    "# path to target input\n",
    "data.input_scoring = np.load(input_path)\n",
    "\n",
    "# path to target output\n",
    "data.target_scoring = np.load(target_path)\n",
    "\n",
    "# set pressure weights\n",
    "data.set_pressure_grid(data.input_scoring)\n",
    "\n",
    "# load model predictions\n",
    "data.model_names = ['CNN','cVAE','HSR','MLP', 'RPN']\n",
    "preds = [data.load_npy_file(load_path = cnn_pred_path), \n",
    "         data.load_h5_file(load_path = cvae_pred_path), \n",
    "         data.load_h5_file(load_path = hsr_pred_path), \n",
    "         data.load_npy_file(load_path = mlp_pred_path), \n",
    "         data.load_npy_file(load_path = rpn_pred_path)]\n",
    "data.preds_scoring = dict(zip(data.model_names, preds))"
   ]
  },
  {
   "cell_type": "markdown",
   "metadata": {},
   "source": [
    "### Weight outputs\n",
    "\n",
    "1. Undo output scaling\n",
    "\n",
    "2.  Weight vertical levels by dp/g\n",
    "\n",
    "3. Weight horizontal area of each grid cell by a[x]/mean(a[x])\n",
    "\n",
    "4. Convert units to a common energy unit"
   ]
  },
  {
   "cell_type": "code",
   "execution_count": 4,
   "metadata": {},
   "outputs": [
    {
     "ename": "KeyboardInterrupt",
     "evalue": "",
     "output_type": "error",
     "traceback": [
      "\u001b[0;31m---------------------------------------------------------------------------\u001b[0m",
      "\u001b[0;31mKeyboardInterrupt\u001b[0m                         Traceback (most recent call last)",
      "\u001b[1;32m/ocean/projects/atm200007p/jlin96/neurips_proj/ClimSim_release/evaluation/main_figure_generation.ipynb Cell 8\u001b[0m in \u001b[0;36m<cell line: 2>\u001b[0;34m()\u001b[0m\n\u001b[1;32m      <a href='vscode-notebook-cell://ssh-remote%2Bbridges2.psc.edu/ocean/projects/atm200007p/jlin96/neurips_proj/ClimSim_release/evaluation/main_figure_generation.ipynb#X10sdnNjb2RlLXJlbW90ZQ%3D%3D?line=0'>1</a>\u001b[0m data\u001b[39m.\u001b[39mreweight_target(data_split \u001b[39m=\u001b[39m \u001b[39m'\u001b[39m\u001b[39mscoring\u001b[39m\u001b[39m'\u001b[39m)\n\u001b[0;32m----> <a href='vscode-notebook-cell://ssh-remote%2Bbridges2.psc.edu/ocean/projects/atm200007p/jlin96/neurips_proj/ClimSim_release/evaluation/main_figure_generation.ipynb#X10sdnNjb2RlLXJlbW90ZQ%3D%3D?line=1'>2</a>\u001b[0m data\u001b[39m.\u001b[39;49mreweight_preds(data_split \u001b[39m=\u001b[39;49m \u001b[39m'\u001b[39;49m\u001b[39mscoring\u001b[39;49m\u001b[39m'\u001b[39;49m)\n",
      "File \u001b[0;32m/ocean/projects/atm200007p/jlin96/neurips_proj/ClimSim_release/climsim_utils/data_utils.py:584\u001b[0m, in \u001b[0;36mdata_utils.reweight_preds\u001b[0;34m(self, data_split)\u001b[0m\n\u001b[1;32m    582\u001b[0m     \u001b[39massert\u001b[39;00m \u001b[39mself\u001b[39m\u001b[39m.\u001b[39mpreds_scoring \u001b[39mis\u001b[39;00m \u001b[39mnot\u001b[39;00m \u001b[39mNone\u001b[39;00m\n\u001b[1;32m    583\u001b[0m     \u001b[39mfor\u001b[39;00m model_name \u001b[39min\u001b[39;00m \u001b[39mself\u001b[39m\u001b[39m.\u001b[39mmodel_names:\n\u001b[0;32m--> 584\u001b[0m         \u001b[39mself\u001b[39m\u001b[39m.\u001b[39mpreds_scoring[model_name] \u001b[39m=\u001b[39m \u001b[39mself\u001b[39;49m\u001b[39m.\u001b[39;49moutput_weighting(\u001b[39mself\u001b[39;49m\u001b[39m.\u001b[39;49mpreds_scoring[model_name])\n\u001b[1;32m    585\u001b[0m \u001b[39melif\u001b[39;00m data_split \u001b[39m==\u001b[39m \u001b[39m'\u001b[39m\u001b[39mtest\u001b[39m\u001b[39m'\u001b[39m:\n\u001b[1;32m    586\u001b[0m     \u001b[39massert\u001b[39;00m \u001b[39mself\u001b[39m\u001b[39m.\u001b[39mpreds_test \u001b[39mis\u001b[39;00m \u001b[39mnot\u001b[39;00m \u001b[39mNone\u001b[39;00m\n",
      "File \u001b[0;32m/ocean/projects/atm200007p/jlin96/neurips_proj/ClimSim_release/climsim_utils/data_utils.py:496\u001b[0m, in \u001b[0;36mdata_utils.output_weighting\u001b[0;34m(self, output)\u001b[0m\n\u001b[1;32m    490\u001b[0m \u001b[39m# heating = heating.transpose((2,0,1))\u001b[39;00m\n\u001b[1;32m    491\u001b[0m \u001b[39m# moistening = moistening.transpose((2,0,1))\u001b[39;00m\n\u001b[1;32m    492\u001b[0m \u001b[39m# scalar_outputs = scalar_outputs.transpose((2,0,1))\u001b[39;00m\n\u001b[1;32m    493\u001b[0m \n\u001b[1;32m    494\u001b[0m \u001b[39m# [0] Undo output scaling\u001b[39;00m\n\u001b[1;32m    495\u001b[0m heating \u001b[39m=\u001b[39m heating\u001b[39m/\u001b[39m\u001b[39mself\u001b[39m\u001b[39m.\u001b[39moutput_scale[\u001b[39m'\u001b[39m\u001b[39mptend_t\u001b[39m\u001b[39m'\u001b[39m]\u001b[39m.\u001b[39mvalues[np\u001b[39m.\u001b[39mnewaxis, np\u001b[39m.\u001b[39mnewaxis, :]\n\u001b[0;32m--> 496\u001b[0m moistening \u001b[39m=\u001b[39m moistening\u001b[39m/\u001b[39;49m\u001b[39mself\u001b[39;49m\u001b[39m.\u001b[39;49moutput_scale[\u001b[39m'\u001b[39;49m\u001b[39mptend_q0001\u001b[39;49m\u001b[39m'\u001b[39;49m]\u001b[39m.\u001b[39;49mvalues[np\u001b[39m.\u001b[39;49mnewaxis, np\u001b[39m.\u001b[39;49mnewaxis, :]\n\u001b[1;32m    497\u001b[0m netsw \u001b[39m=\u001b[39m netsw\u001b[39m/\u001b[39m\u001b[39mself\u001b[39m\u001b[39m.\u001b[39moutput_scale[\u001b[39m'\u001b[39m\u001b[39mcam_out_NETSW\u001b[39m\u001b[39m'\u001b[39m]\u001b[39m.\u001b[39mvalues\n\u001b[1;32m    498\u001b[0m flwds \u001b[39m=\u001b[39m flwds\u001b[39m/\u001b[39m\u001b[39mself\u001b[39m\u001b[39m.\u001b[39moutput_scale[\u001b[39m'\u001b[39m\u001b[39mcam_out_FLWDS\u001b[39m\u001b[39m'\u001b[39m]\u001b[39m.\u001b[39mvalues\n",
      "\u001b[0;31mKeyboardInterrupt\u001b[0m: "
     ]
    }
   ],
   "source": [
    "data.reweight_target(data_split = 'scoring')\n",
    "data.reweight_preds(data_split = 'scoring')"
   ]
  },
  {
   "cell_type": "markdown",
   "metadata": {},
   "source": [
    "### Calculate metrics"
   ]
  },
  {
   "cell_type": "code",
   "execution_count": null,
   "metadata": {},
   "outputs": [],
   "source": [
    "hmm = data.preds_scoring['MLP']"
   ]
  },
  {
   "cell_type": "code",
   "execution_count": null,
   "metadata": {},
   "outputs": [],
   "source": [
    "for name in data.preds_scoring:\n",
    "    print(name)"
   ]
  },
  {
   "cell_type": "code",
   "execution_count": null,
   "metadata": {},
   "outputs": [],
   "source": [
    "columns = ['A', 'B', 'C']\n",
    "index = ['X', 'Y', 'Z']\n",
    "df = pd.DataFrame(columns=columns, index=index)\n",
    "df.index.name = 'Variable'\n",
    "df"
   ]
  },
  {
   "cell_type": "code",
   "execution_count": null,
   "metadata": {},
   "outputs": [],
   "source": [
    "df['A']"
   ]
  },
  {
   "cell_type": "code",
   "execution_count": null,
   "metadata": {},
   "outputs": [],
   "source": [
    "data.calc_MAE(hmm['heating'], data.target_scoring['heating'])"
   ]
  },
  {
   "cell_type": "code",
   "execution_count": null,
   "metadata": {},
   "outputs": [],
   "source": [
    "data.target_scoring"
   ]
  },
  {
   "cell_type": "code",
   "execution_count": null,
   "metadata": {},
   "outputs": [],
   "source": [
    "for var in hmm:\n",
    "    print(var)"
   ]
  },
  {
   "cell_type": "code",
   "execution_count": null,
   "metadata": {},
   "outputs": [],
   "source": [
    "hmm['heating'].mean(axis = (0,1)).shape"
   ]
  },
  {
   "cell_type": "code",
   "execution_count": null,
   "metadata": {},
   "outputs": [],
   "source": [
    "tuple(range(hmm['heating'].ndim-1))"
   ]
  },
  {
   "cell_type": "code",
   "execution_count": null,
   "metadata": {},
   "outputs": [],
   "source": [
    "scoring_data.preds_scoring['CNN'].shape"
   ]
  },
  {
   "cell_type": "code",
   "execution_count": null,
   "metadata": {},
   "outputs": [],
   "source": [
    "\n",
    "cnn_ex = scoring_data.calc_MAE(scoring_data.preds_scoring['CNN'], scoring_data.target_scoring)"
   ]
  },
  {
   "cell_type": "code",
   "execution_count": null,
   "metadata": {},
   "outputs": [],
   "source": [
    "scoring_data.preds_scoring['CNN'].shape"
   ]
  },
  {
   "cell_type": "code",
   "execution_count": null,
   "metadata": {},
   "outputs": [],
   "source": []
  },
  {
   "attachments": {},
   "cell_type": "markdown",
   "metadata": {},
   "source": [
    "## Time to compare"
   ]
  },
  {
   "attachments": {},
   "cell_type": "markdown",
   "metadata": {},
   "source": [
    "### Weighted output values"
   ]
  },
  {
   "cell_type": "code",
   "execution_count": null,
   "metadata": {},
   "outputs": [],
   "source": [
    "assert(np.sum(DS_ENERGY['true']['ptend_t'].values - heating) == 0)\n",
    "assert(DS_ENERGY['true']['ptend_t'].values.shape == heating.shape)\n",
    "\n",
    "assert(np.sum(DS_ENERGY['true']['ptend_q0001'].values - moistening) == 0)\n",
    "assert(DS_ENERGY['true']['ptend_q0001'].values.shape == moistening.shape)\n",
    "\n",
    "assert(np.sum(DS_ENERGY['true']['cam_out_NETSW'].values - netsw) == 0)\n",
    "assert(DS_ENERGY['true']['cam_out_NETSW'].values.shape == netsw.shape)\n",
    "\n",
    "assert(np.sum(DS_ENERGY['true']['cam_out_FLWDS'].values - flwds) == 0)\n",
    "assert(DS_ENERGY['true']['cam_out_FLWDS'].values.shape == flwds.shape)\n",
    "\n",
    "assert(np.sum(DS_ENERGY['true']['cam_out_PRECSC'].values - precsc) == 0)\n",
    "assert(DS_ENERGY['true']['cam_out_PRECSC'].values.shape == precsc.shape)\n",
    "\n",
    "assert(np.sum(DS_ENERGY['true']['cam_out_PRECC'].values - precc) == 0)\n",
    "assert(DS_ENERGY['true']['cam_out_PRECC'].values.shape == precc.shape)\n",
    "\n",
    "assert(np.sum(DS_ENERGY['true']['cam_out_SOLS'].values - sols) == 0)\n",
    "assert(DS_ENERGY['true']['cam_out_SOLS'].values.shape == sols.shape)\n",
    "\n",
    "assert(np.sum(DS_ENERGY['true']['cam_out_SOLL'].values - soll) == 0)\n",
    "assert(DS_ENERGY['true']['cam_out_SOLL'].values.shape == soll.shape)\n",
    "\n",
    "assert(np.sum(DS_ENERGY['true']['cam_out_SOLSD'].values - solsd) == 0)\n",
    "assert(DS_ENERGY['true']['cam_out_SOLSD'].values.shape == solsd.shape)\n",
    "\n",
    "assert(np.sum(DS_ENERGY['true']['cam_out_SOLLD'].values - solld) == 0)\n",
    "assert(DS_ENERGY['true']['cam_out_SOLLD'].values.shape == solld.shape)"
   ]
  },
  {
   "attachments": {},
   "cell_type": "markdown",
   "metadata": {},
   "source": [
    "### Metrics"
   ]
  },
  {
   "cell_type": "code",
   "execution_count": null,
   "metadata": {},
   "outputs": [],
   "source": [
    "heating_mlp, moistening_mlp, netsw_mlp, flwds_mlp, precsc_mlp, precc_mlp, sols_mlp, soll_mlp, solsd_mlp, solld_mlp = \\\n",
    "    scoring_data.output_weighting(scoring_data.preds_scoring['MLP'])"
   ]
  },
  {
   "cell_type": "code",
   "execution_count": null,
   "metadata": {},
   "outputs": [],
   "source": [
    "pred = heating_mlp\n",
    "actual = heating"
   ]
  },
  {
   "cell_type": "code",
   "execution_count": null,
   "metadata": {},
   "outputs": [],
   "source": [
    "sq_diff = (pred - actual)**2\n",
    "var_time = (actual - actual.mean(axis = 0)[np.newaxis, :, :])**2\n",
    "(1 - sq_diff.mean(axis = 0)/var_time.mean(axis = 0)).mean(axis = 0).shape"
   ]
  },
  {
   "cell_type": "code",
   "execution_count": null,
   "metadata": {},
   "outputs": [],
   "source": [
    "sq_diff.shape"
   ]
  },
  {
   "cell_type": "code",
   "execution_count": null,
   "metadata": {},
   "outputs": [],
   "source": [
    "var_time.shape"
   ]
  },
  {
   "cell_type": "code",
   "execution_count": null,
   "metadata": {},
   "outputs": [],
   "source": [
    "sq_diff[..., None].shape"
   ]
  },
  {
   "cell_type": "code",
   "execution_count": null,
   "metadata": {},
   "outputs": [],
   "source": [
    "scoring_data.latlonnum"
   ]
  },
  {
   "cell_type": "code",
   "execution_count": null,
   "metadata": {},
   "outputs": [],
   "source": []
  },
  {
   "cell_type": "code",
   "execution_count": null,
   "metadata": {},
   "outputs": [],
   "source": [
    "heating_mlp.shape"
   ]
  },
  {
   "cell_type": "code",
   "execution_count": null,
   "metadata": {},
   "outputs": [],
   "source": [
    "len(heating_mlp.shape)"
   ]
  },
  {
   "cell_type": "code",
   "execution_count": null,
   "metadata": {},
   "outputs": [],
   "source": [
    "assert heating_mlp.shape == (4380, 384, 60) or len(heating_mlp.shape) == 2"
   ]
  },
  {
   "cell_type": "code",
   "execution_count": null,
   "metadata": {},
   "outputs": [],
   "source": [
    "heating.sum(axis = 0).shape"
   ]
  },
  {
   "cell_type": "code",
   "execution_count": null,
   "metadata": {},
   "outputs": [],
   "source": [
    "heating.mean(axis = 0)[np.newaxis, :, :].shape"
   ]
  },
  {
   "attachments": {},
   "cell_type": "markdown",
   "metadata": {},
   "source": [
    "##### MAE"
   ]
  },
  {
   "cell_type": "code",
   "execution_count": null,
   "metadata": {},
   "outputs": [],
   "source": [
    "np.mean(np.abs(heating_mlp - heating))"
   ]
  },
  {
   "cell_type": "code",
   "execution_count": null,
   "metadata": {},
   "outputs": [],
   "source": []
  },
  {
   "cell_type": "code",
   "execution_count": null,
   "metadata": {},
   "outputs": [],
   "source": [
    "hmm = np.abs(heating_mlp - heating).mean(axis = (0,1))"
   ]
  },
  {
   "cell_type": "code",
   "execution_count": null,
   "metadata": {},
   "outputs": [],
   "source": [
    "np.mean(hmm)"
   ]
  },
  {
   "cell_type": "code",
   "execution_count": null,
   "metadata": {},
   "outputs": [],
   "source": [
    "np.mean(np.abs(moistening_mlp - moistening))"
   ]
  },
  {
   "cell_type": "code",
   "execution_count": null,
   "metadata": {},
   "outputs": [],
   "source": [
    "np.mean(np.abs(netsw_mlp - netsw))"
   ]
  },
  {
   "cell_type": "code",
   "execution_count": null,
   "metadata": {},
   "outputs": [],
   "source": [
    "np.mean(np.abs(flwds_mlp - flwds))"
   ]
  },
  {
   "cell_type": "code",
   "execution_count": null,
   "metadata": {},
   "outputs": [],
   "source": [
    "np.mean(np.abs(precsc_mlp - precsc))"
   ]
  },
  {
   "cell_type": "code",
   "execution_count": null,
   "metadata": {},
   "outputs": [],
   "source": [
    "np.mean(np.abs(precc_mlp - precc))"
   ]
  },
  {
   "cell_type": "code",
   "execution_count": null,
   "metadata": {},
   "outputs": [],
   "source": [
    "np.mean(np.abs(sols_mlp - sols))"
   ]
  },
  {
   "cell_type": "code",
   "execution_count": null,
   "metadata": {},
   "outputs": [],
   "source": [
    "np.mean(np.abs(soll_mlp - soll))"
   ]
  },
  {
   "cell_type": "code",
   "execution_count": null,
   "metadata": {},
   "outputs": [],
   "source": [
    "np.mean(np.abs(solsd_mlp - solsd))"
   ]
  },
  {
   "cell_type": "code",
   "execution_count": null,
   "metadata": {},
   "outputs": [],
   "source": [
    "np.mean(np.abs(solld_mlp - solld))"
   ]
  },
  {
   "attachments": {},
   "cell_type": "markdown",
   "metadata": {},
   "source": [
    "##### RMSE"
   ]
  },
  {
   "cell_type": "code",
   "execution_count": null,
   "metadata": {},
   "outputs": [],
   "source": [
    "np.sqrt(np.mean((heating_mlp - heating)**2))"
   ]
  },
  {
   "cell_type": "code",
   "execution_count": null,
   "metadata": {},
   "outputs": [],
   "source": [
    "np.sqrt(np.mean((moistening_mlp - moistening)**2))"
   ]
  },
  {
   "cell_type": "code",
   "execution_count": null,
   "metadata": {},
   "outputs": [],
   "source": [
    "np.sqrt(np.mean((precsc_mlp - precsc)**2))"
   ]
  },
  {
   "cell_type": "code",
   "execution_count": null,
   "metadata": {},
   "outputs": [],
   "source": [
    "np.sqrt(np.mean((solld_mlp - solld)**2))"
   ]
  },
  {
   "cell_type": "code",
   "execution_count": null,
   "metadata": {},
   "outputs": [],
   "source": []
  }
 ],
 "metadata": {
  "kernelspec": {
   "display_name": "Python 3 (ipykernel)",
   "language": "python",
   "name": "python3"
  },
  "language_info": {
   "codemirror_mode": {
    "name": "ipython",
    "version": 3
   },
   "file_extension": ".py",
   "mimetype": "text/x-python",
   "name": "python",
   "nbconvert_exporter": "python",
   "pygments_lexer": "ipython3",
   "version": "3.9.13"
  },
  "orig_nbformat": 4
 },
 "nbformat": 4,
 "nbformat_minor": 2
}
