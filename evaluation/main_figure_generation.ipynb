{
 "cells": [
  {
   "attachments": {},
   "cell_type": "markdown",
   "metadata": {},
   "source": [
    "### Importing data_utils.py"
   ]
  },
  {
   "cell_type": "code",
   "execution_count": null,
   "metadata": {},
   "outputs": [],
   "source": [
    "from climsim_utils.data_utils import *"
   ]
  },
  {
   "cell_type": "markdown",
   "metadata": {},
   "source": [
    "### Instantiating class"
   ]
  },
  {
   "cell_type": "code",
   "execution_count": null,
   "metadata": {},
   "outputs": [],
   "source": [
    "grid_path = '/ocean/projects/atm200007p/jlin96/neurips_proj/ClimSim_release/grid_info/ClimSim_low-res_grid-info.nc'\n",
    "norm_path = '/ocean/projects/atm200007p/jlin96/neurips_proj/ClimSim_release/normalizations/'\n",
    "\n",
    "grid_info = xr.open_dataset(grid_path)\n",
    "input_mean = xr.open_dataset(norm_path + 'inputs/input_mean.nc')\n",
    "input_max = xr.open_dataset(norm_path + 'inputs/input_max.nc')\n",
    "input_min = xr.open_dataset(norm_path + 'inputs/input_min.nc')\n",
    "output_scale = xr.open_dataset(norm_path + 'outputs/output_scale.nc')\n",
    "\n",
    "scoring_data = data_utils(grid_info = grid_info, \n",
    "                          input_mean = input_mean, \n",
    "                          input_max = input_max, \n",
    "                          input_min = input_min, \n",
    "                          output_scale = output_scale)"
   ]
  },
  {
   "cell_type": "markdown",
   "metadata": {},
   "source": [
    "### Loading data and setting pressure grid"
   ]
  },
  {
   "cell_type": "code",
   "execution_count": null,
   "metadata": {},
   "outputs": [],
   "source": [
    "# paths to scoring data\n",
    "input_scoring_path = '/ocean/projects/atm200007p/jlin96/neurips_proj/e3sm_train_npy/scoring_input.npy'\n",
    "target_scoring_path = '/ocean/projects/atm200007p/jlin96/neurips_proj/figure_ingredients/scoring_target.npy'\n",
    "\n",
    "# paths to model predictions\n",
    "cvae_pred_path = '/ocean/projects/atm200007p/shared/neurips_proj/final_metrics/predictions/cVAE/cvae_preds_manual.h5'\n",
    "hsr_pred_path = '/ocean/projects/atm200007p/shared/neurips_proj/final_metrics/predictions/HSR/hsr_preds_bestcrps.h5'\n",
    "rpn_pred_path = '/ocean/projects/atm200007p/jlin96/neurips_proj/figure_ingredients/rpn_pred_v1_stride6.npy'\n",
    "cnn_pred_path = '/ocean/projects/atm200007p/jlin96/neurips_proj/figure_ingredients/val_predict_cnn_reshaped_stride6_FINAL.npy'\n",
    "mlp_pred_path = '/ocean/projects/atm200007p/jlin96/neurips_proj/figure_ingredients/001_backup_phase-7_retrained_models_step2_lot-147_trial_0027.best.h5.npy'\n",
    "\n",
    "# path to target input\n",
    "scoring_data.input_scoring = np.load(input_scoring_path)\n",
    "\n",
    "# path to target output\n",
    "scoring_data.target_scoring = np.load(target_scoring_path)\n",
    "\n",
    "# set pressure weights\n",
    "scoring_data.set_pressure_grid(scoring_data.input_scoring)\n",
    "\n",
    "# load model predictions\n",
    "scoring_data.model_names = ['CNN','cVAE','HSR','MLP', 'RPN']\n",
    "preds = [scoring_data.load_npy_file(load_path = cnn_pred_path), \n",
    "         scoring_data.load_h5_file(load_path = cvae_pred_path), \n",
    "         scoring_data.load_h5_file(load_path = hsr_pred_path), \n",
    "         scoring_data.load_npy_file(load_path = mlp_pred_path), \n",
    "         scoring_data.load_npy_file(load_path = rpn_pred_path)]\n",
    "scoring_data.preds_scoring = dict(zip(scoring_data.model_names, preds))"
   ]
  },
  {
   "cell_type": "markdown",
   "metadata": {},
   "source": [
    "### Create dictionaries and pandas dataframes for metrics"
   ]
  },
  {
   "cell_type": "code",
   "execution_count": null,
   "metadata": {},
   "outputs": [],
   "source": []
  },
  {
   "cell_type": "code",
   "execution_count": null,
   "metadata": {},
   "outputs": [],
   "source": []
  },
  {
   "cell_type": "code",
   "execution_count": null,
   "metadata": {},
   "outputs": [],
   "source": []
  },
  {
   "attachments": {},
   "cell_type": "markdown",
   "metadata": {},
   "source": [
    "## Time to compare"
   ]
  },
  {
   "attachments": {},
   "cell_type": "markdown",
   "metadata": {},
   "source": [
    "### Weighted output values"
   ]
  },
  {
   "cell_type": "code",
   "execution_count": null,
   "metadata": {},
   "outputs": [],
   "source": [
    "assert(np.sum(DS_ENERGY['true']['ptend_t'].values - heating) == 0)\n",
    "assert(DS_ENERGY['true']['ptend_t'].values.shape == heating.shape)\n",
    "\n",
    "assert(np.sum(DS_ENERGY['true']['ptend_q0001'].values - moistening) == 0)\n",
    "assert(DS_ENERGY['true']['ptend_q0001'].values.shape == moistening.shape)\n",
    "\n",
    "assert(np.sum(DS_ENERGY['true']['cam_out_NETSW'].values - netsw) == 0)\n",
    "assert(DS_ENERGY['true']['cam_out_NETSW'].values.shape == netsw.shape)\n",
    "\n",
    "assert(np.sum(DS_ENERGY['true']['cam_out_FLWDS'].values - flwds) == 0)\n",
    "assert(DS_ENERGY['true']['cam_out_FLWDS'].values.shape == flwds.shape)\n",
    "\n",
    "assert(np.sum(DS_ENERGY['true']['cam_out_PRECSC'].values - precsc) == 0)\n",
    "assert(DS_ENERGY['true']['cam_out_PRECSC'].values.shape == precsc.shape)\n",
    "\n",
    "assert(np.sum(DS_ENERGY['true']['cam_out_PRECC'].values - precc) == 0)\n",
    "assert(DS_ENERGY['true']['cam_out_PRECC'].values.shape == precc.shape)\n",
    "\n",
    "assert(np.sum(DS_ENERGY['true']['cam_out_SOLS'].values - sols) == 0)\n",
    "assert(DS_ENERGY['true']['cam_out_SOLS'].values.shape == sols.shape)\n",
    "\n",
    "assert(np.sum(DS_ENERGY['true']['cam_out_SOLL'].values - soll) == 0)\n",
    "assert(DS_ENERGY['true']['cam_out_SOLL'].values.shape == soll.shape)\n",
    "\n",
    "assert(np.sum(DS_ENERGY['true']['cam_out_SOLSD'].values - solsd) == 0)\n",
    "assert(DS_ENERGY['true']['cam_out_SOLSD'].values.shape == solsd.shape)\n",
    "\n",
    "assert(np.sum(DS_ENERGY['true']['cam_out_SOLLD'].values - solld) == 0)\n",
    "assert(DS_ENERGY['true']['cam_out_SOLLD'].values.shape == solld.shape)"
   ]
  },
  {
   "attachments": {},
   "cell_type": "markdown",
   "metadata": {},
   "source": [
    "### Metrics"
   ]
  },
  {
   "cell_type": "code",
   "execution_count": null,
   "metadata": {},
   "outputs": [],
   "source": [
    "heating_mlp, moistening_mlp, netsw_mlp, flwds_mlp, precsc_mlp, precc_mlp, sols_mlp, soll_mlp, solsd_mlp, solld_mlp = \\\n",
    "    scoring_data.output_weighting(scoring_data.preds_scoring['MLP'])"
   ]
  },
  {
   "cell_type": "code",
   "execution_count": null,
   "metadata": {},
   "outputs": [],
   "source": [
    "pred = heating_mlp\n",
    "actual = heating"
   ]
  },
  {
   "cell_type": "code",
   "execution_count": null,
   "metadata": {},
   "outputs": [],
   "source": [
    "sq_diff = (pred - actual)**2\n",
    "var_time = (actual - actual.mean(axis = 0)[np.newaxis, :, :])**2\n",
    "(1 - sq_diff.mean(axis = 0)/var_time.mean(axis = 0)).mean(axis = 0).shape"
   ]
  },
  {
   "cell_type": "code",
   "execution_count": null,
   "metadata": {},
   "outputs": [],
   "source": [
    "sq_diff.shape"
   ]
  },
  {
   "cell_type": "code",
   "execution_count": null,
   "metadata": {},
   "outputs": [],
   "source": [
    "var_time.shape"
   ]
  },
  {
   "cell_type": "code",
   "execution_count": null,
   "metadata": {},
   "outputs": [],
   "source": [
    "sq_diff[..., None].shape"
   ]
  },
  {
   "cell_type": "code",
   "execution_count": null,
   "metadata": {},
   "outputs": [],
   "source": [
    "scoring_data.latlonnum"
   ]
  },
  {
   "cell_type": "code",
   "execution_count": null,
   "metadata": {},
   "outputs": [],
   "source": []
  },
  {
   "cell_type": "code",
   "execution_count": null,
   "metadata": {},
   "outputs": [],
   "source": [
    "heating_mlp.shape"
   ]
  },
  {
   "cell_type": "code",
   "execution_count": null,
   "metadata": {},
   "outputs": [],
   "source": [
    "len(heating_mlp.shape)"
   ]
  },
  {
   "cell_type": "code",
   "execution_count": null,
   "metadata": {},
   "outputs": [],
   "source": [
    "assert heating_mlp.shape == (4380, 384, 60) or len(heating_mlp.shape) == 2"
   ]
  },
  {
   "cell_type": "code",
   "execution_count": null,
   "metadata": {},
   "outputs": [],
   "source": [
    "heating.sum(axis = 0).shape"
   ]
  },
  {
   "cell_type": "code",
   "execution_count": null,
   "metadata": {},
   "outputs": [],
   "source": [
    "heating.mean(axis = 0)[np.newaxis, :, :].shape"
   ]
  },
  {
   "attachments": {},
   "cell_type": "markdown",
   "metadata": {},
   "source": [
    "##### MAE"
   ]
  },
  {
   "cell_type": "code",
   "execution_count": null,
   "metadata": {},
   "outputs": [],
   "source": [
    "np.mean(np.abs(heating_mlp - heating))"
   ]
  },
  {
   "cell_type": "code",
   "execution_count": null,
   "metadata": {},
   "outputs": [],
   "source": []
  },
  {
   "cell_type": "code",
   "execution_count": null,
   "metadata": {},
   "outputs": [],
   "source": [
    "hmm = np.abs(heating_mlp - heating).mean(axis = (0,1))"
   ]
  },
  {
   "cell_type": "code",
   "execution_count": null,
   "metadata": {},
   "outputs": [],
   "source": [
    "np.mean(hmm)"
   ]
  },
  {
   "cell_type": "code",
   "execution_count": null,
   "metadata": {},
   "outputs": [],
   "source": [
    "np.mean(np.abs(moistening_mlp - moistening))"
   ]
  },
  {
   "cell_type": "code",
   "execution_count": null,
   "metadata": {},
   "outputs": [],
   "source": [
    "np.mean(np.abs(netsw_mlp - netsw))"
   ]
  },
  {
   "cell_type": "code",
   "execution_count": null,
   "metadata": {},
   "outputs": [],
   "source": [
    "np.mean(np.abs(flwds_mlp - flwds))"
   ]
  },
  {
   "cell_type": "code",
   "execution_count": null,
   "metadata": {},
   "outputs": [],
   "source": [
    "np.mean(np.abs(precsc_mlp - precsc))"
   ]
  },
  {
   "cell_type": "code",
   "execution_count": null,
   "metadata": {},
   "outputs": [],
   "source": [
    "np.mean(np.abs(precc_mlp - precc))"
   ]
  },
  {
   "cell_type": "code",
   "execution_count": null,
   "metadata": {},
   "outputs": [],
   "source": [
    "np.mean(np.abs(sols_mlp - sols))"
   ]
  },
  {
   "cell_type": "code",
   "execution_count": null,
   "metadata": {},
   "outputs": [],
   "source": [
    "np.mean(np.abs(soll_mlp - soll))"
   ]
  },
  {
   "cell_type": "code",
   "execution_count": null,
   "metadata": {},
   "outputs": [],
   "source": [
    "np.mean(np.abs(solsd_mlp - solsd))"
   ]
  },
  {
   "cell_type": "code",
   "execution_count": null,
   "metadata": {},
   "outputs": [],
   "source": [
    "np.mean(np.abs(solld_mlp - solld))"
   ]
  },
  {
   "attachments": {},
   "cell_type": "markdown",
   "metadata": {},
   "source": [
    "##### RMSE"
   ]
  },
  {
   "cell_type": "code",
   "execution_count": null,
   "metadata": {},
   "outputs": [],
   "source": [
    "np.sqrt(np.mean((heating_mlp - heating)**2))"
   ]
  },
  {
   "cell_type": "code",
   "execution_count": null,
   "metadata": {},
   "outputs": [],
   "source": [
    "np.sqrt(np.mean((moistening_mlp - moistening)**2))"
   ]
  },
  {
   "cell_type": "code",
   "execution_count": null,
   "metadata": {},
   "outputs": [],
   "source": [
    "np.sqrt(np.mean((precsc_mlp - precsc)**2))"
   ]
  },
  {
   "cell_type": "code",
   "execution_count": null,
   "metadata": {},
   "outputs": [],
   "source": [
    "np.sqrt(np.mean((solld_mlp - solld)**2))"
   ]
  },
  {
   "cell_type": "code",
   "execution_count": null,
   "metadata": {},
   "outputs": [],
   "source": []
  }
 ],
 "metadata": {
  "kernelspec": {
   "display_name": "Python 3 (ipykernel)",
   "language": "python",
   "name": "python3"
  },
  "language_info": {
   "codemirror_mode": {
    "name": "ipython",
    "version": 3
   },
   "file_extension": ".py",
   "mimetype": "text/x-python",
   "name": "python",
   "nbconvert_exporter": "python",
   "pygments_lexer": "ipython3",
   "version": "3.9.13"
  },
  "orig_nbformat": 4
 },
 "nbformat": 4,
 "nbformat_minor": 2
}
