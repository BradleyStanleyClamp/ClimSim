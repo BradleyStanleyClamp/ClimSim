{
 "cells": [
  {
   "cell_type": "markdown",
   "metadata": {},
   "source": [
    "### Importing packages and data_utils.py"
   ]
  },
  {
   "cell_type": "code",
   "execution_count": 1,
   "metadata": {},
   "outputs": [
    {
     "name": "stderr",
     "output_type": "stream",
     "text": [
      "2024-01-11 14:01:23.520167: I tensorflow/core/platform/cpu_feature_guard.cc:182] This TensorFlow binary is optimized to use available CPU instructions in performance-critical operations.\n",
      "To enable the following instructions: AVX2 FMA, in other operations, rebuild TensorFlow with the appropriate compiler flags.\n",
      "2024-01-11 14:01:42.118362: W tensorflow/compiler/tf2tensorrt/utils/py_utils.cc:38] TF-TRT Warning: Could not find TensorRT\n"
     ]
    }
   ],
   "source": [
    "from climsim_utils.data_utils import *"
   ]
  },
  {
   "cell_type": "markdown",
   "metadata": {},
   "source": [
    "### Instantiate class"
   ]
  },
  {
   "cell_type": "code",
   "execution_count": 2,
   "metadata": {},
   "outputs": [],
   "source": [
    "grid_path = '/ocean/projects/atm200007p/jlin96/ClimSim/grid_info/ClimSim_low-res_grid-info.nc'\n",
    "norm_path = '/ocean/projects/atm200007p/jlin96/ClimSim/preprocessing/normalizations/'\n",
    "\n",
    "grid_info = xr.open_dataset(grid_path)\n",
    "input_mean = xr.open_dataset(norm_path + 'inputs/input_mean.nc')\n",
    "input_max = xr.open_dataset(norm_path + 'inputs/input_max.nc')\n",
    "input_min = xr.open_dataset(norm_path + 'inputs/input_min.nc')\n",
    "output_scale = xr.open_dataset(norm_path + 'outputs/output_scale.nc')\n",
    "\n",
    "data = data_utils(grid_info = grid_info,\n",
    "                  input_mean = input_mean,\n",
    "                  input_max = input_max,\n",
    "                  input_min = input_min,\n",
    "                  output_scale = output_scale)\n",
    "\n",
    "# set variables to V1 subset\n",
    "data.set_to_v1_vars()"
   ]
  },
  {
   "cell_type": "markdown",
   "metadata": {},
   "source": [
    "### Load scoring data"
   ]
  },
  {
   "cell_type": "code",
   "execution_count": 3,
   "metadata": {},
   "outputs": [],
   "source": [
    "data.model_names = ['HSR', 'RPN', 'cVAE']\n",
    "\n",
    "scoring_input_path = \"/ocean/projects/atm200007p/jlin96/neurips_proj/e3sm_train_npy/scoring_input.npy\"\n",
    "scoring_target_path = \"/ocean/projects/atm200007p/jlin96/neurips_proj/e3sm_train_npy/scoring_target.npy\"\n",
    "\n",
    "# path to target input\n",
    "data.input_scoring = np.load(scoring_input_path)\n",
    "\n",
    "# path to target output\n",
    "data.target_scoring = np.load(scoring_target_path)\n",
    "\n",
    "data.set_pressure_grid(data_split = 'scoring')\n",
    "\n",
    "data.reweight_target(data_split = 'scoring')"
   ]
  },
  {
   "cell_type": "markdown",
   "metadata": {},
   "source": [
    "### Load samples"
   ]
  },
  {
   "cell_type": "code",
   "execution_count": 4,
   "metadata": {},
   "outputs": [],
   "source": [
    "cvae_samples_path = '/ocean/projects/atm200007p/jlin96/neurips_proj/shared_folder/final_metrics/predictions/cVAE/cvae_samples_manual.h5'\n",
    "hsr_samples_path = '/ocean/projects/atm200007p/jlin96/neurips_proj/crps_ingredients/hsr_samples_bestcrps.h5'\n",
    "rpn_samples_path = '/ocean/projects/atm200007p/jlin96/neurips_proj/crps_ingredients/RPN_crps_32_samples.npy'\n",
    "\n",
    "cvae_color = '#D55E00'\n",
    "hsr_color = '#E69F00'\n",
    "rpn_color = '#009E73'"
   ]
  },
  {
   "cell_type": "code",
   "execution_count": 5,
   "metadata": {},
   "outputs": [],
   "source": [
    "cvae_samples = data_utils.load_h5_file(cvae_samples_path)"
   ]
  },
  {
   "cell_type": "code",
   "execution_count": 6,
   "metadata": {},
   "outputs": [
    {
     "data": {
      "text/plain": [
       "(1681920, 128, 128)"
      ]
     },
     "execution_count": 6,
     "metadata": {},
     "output_type": "execute_result"
    }
   ],
   "source": [
    "cvae_samples.shape"
   ]
  },
  {
   "cell_type": "code",
   "execution_count": 7,
   "metadata": {},
   "outputs": [],
   "source": [
    "cvae_samples = cvae_samples[:,:,:32]"
   ]
  },
  {
   "cell_type": "code",
   "execution_count": 9,
   "metadata": {},
   "outputs": [],
   "source": [
    "cvae_samples = np.expand_dims(data.output_weighting(cvae_samples[:,:,0], data_split = 'scoring', just_weights = True), axis = -1) * cvae_samples"
   ]
  },
  {
   "cell_type": "code",
   "execution_count": 8,
   "metadata": {},
   "outputs": [],
   "source": [
    "hsr_samples = data_utils.load_h5_file(hsr_samples_path)\n",
    "hsr_samples = np.expand_dims(data.output_weighting(hsr_samples[:,:,0], data_split = 'scoring', just_weights = True), axis = -1) * hsr_samples\n",
    "\n",
    "rpn_samples = data_utils.load_npy_file(rpn_samples_path)\n",
    "rpn_samples = np.expand_dims(data.output_weighting(rpn_samples[:,:,0], data_split = 'scoring', just_weights = True), axis = -1) * rpn_samples"
   ]
  },
  {
   "cell_type": "markdown",
   "metadata": {},
   "source": [
    "### Define useful functions"
   ]
  },
  {
   "cell_type": "code",
   "execution_count": 10,
   "metadata": {},
   "outputs": [],
   "source": [
    "num_samples = 1681920\n",
    "\n",
    "def reshape_output(output, var):\n",
    "    if var == 'ptend_t':\n",
    "        ans = output.reshape((int(num_samples/data.num_latlon), data.num_latlon, 60))\n",
    "    elif var == 'ptend_q0001':\n",
    "        ans = output.reshape((int(num_samples/data.num_latlon), data.num_latlon, 60))\n",
    "    elif var == 'netsw':\n",
    "        ans = output.reshape((int(num_samples/data.num_latlon), data.num_latlon))\n",
    "    elif var == 'flwds':\n",
    "        ans = output.reshape((int(num_samples/data.num_latlon), data.num_latlon))\n",
    "    elif var == 'precsc':\n",
    "        ans = output.reshape((int(num_samples/data.num_latlon), data.num_latlon))\n",
    "    elif var == 'precc':\n",
    "        ans = output.reshape((int(num_samples/data.num_latlon), data.num_latlon))\n",
    "    elif var == 'sols':\n",
    "        ans = output.reshape((int(num_samples/data.num_latlon), data.num_latlon))\n",
    "    elif var == 'soll':\n",
    "        ans = output.reshape((int(num_samples/data.num_latlon), data.num_latlon))\n",
    "    elif var == 'solsd':\n",
    "        ans = output.reshape((int(num_samples/data.num_latlon), data.num_latlon))\n",
    "    elif var == 'solld':\n",
    "        ans = output.reshape((int(num_samples/data.num_latlon), data.num_latlon))\n",
    "    return ans\n",
    "\n",
    "def reshape_samplepreds(samplepreds, var, num_crps):\n",
    "    if var == 'ptend_t':\n",
    "        ans = np.concatenate([np.expand_dims(reshape_output(samplepreds[:,:60,crps_idx], var), -1) for crps_idx in range(num_crps)], axis = -1)\n",
    "    elif var == 'ptend_q0001':\n",
    "        ans = np.concatenate([np.expand_dims(reshape_output(samplepreds[:,60:120,crps_idx], var), -1) for crps_idx in range(num_crps)], axis = -1)\n",
    "    elif var == 'netsw':\n",
    "        ans = np.concatenate([np.expand_dims(reshape_output(samplepreds[:,120,crps_idx], var), -1) for crps_idx in range(num_crps)], axis = -1)\n",
    "    elif var == 'flwds':\n",
    "        ans = np.concatenate([np.expand_dims(reshape_output(samplepreds[:,121,crps_idx], var), -1) for crps_idx in range(num_crps)], axis = -1)\n",
    "    elif var == 'precsc':\n",
    "        ans = np.concatenate([np.expand_dims(reshape_output(samplepreds[:,122,crps_idx], var), -1) for crps_idx in range(num_crps)], axis = -1)\n",
    "    elif var == 'precc':\n",
    "        ans = np.concatenate([np.expand_dims(reshape_output(samplepreds[:,123,crps_idx], var), -1) for crps_idx in range(num_crps)], axis = -1)\n",
    "    elif var == 'sols':\n",
    "        ans = np.concatenate([np.expand_dims(reshape_output(samplepreds[:,124,crps_idx], var), -1) for crps_idx in range(num_crps)], axis = -1)\n",
    "    elif var == 'soll':\n",
    "        ans = np.concatenate([np.expand_dims(reshape_output(samplepreds[:,125,crps_idx], var), -1) for crps_idx in range(num_crps)], axis = -1)\n",
    "    elif var == 'solsd':\n",
    "        ans = np.concatenate([np.expand_dims(reshape_output(samplepreds[:,126,crps_idx], var), -1) for crps_idx in range(num_crps)], axis = -1)\n",
    "    elif var == 'solld':\n",
    "        ans = np.concatenate([np.expand_dims(reshape_output(samplepreds[:,127,crps_idx], var), -1) for crps_idx in range(num_crps)], axis = -1)\n",
    "    return ans"
   ]
  },
  {
   "cell_type": "markdown",
   "metadata": {},
   "source": [
    "### Calculate CRPS"
   ]
  },
  {
   "cell_type": "code",
   "execution_count": 11,
   "metadata": {},
   "outputs": [],
   "source": [
    "hsr_ptend_t_samples = reshape_samplepreds(hsr_samples, 'ptend_t', 32)\n",
    "hsr_ptend_q0001_samples = reshape_samplepreds(hsr_samples, 'ptend_q0001', 32)\n",
    "hsr_netsw_samples = reshape_samplepreds(hsr_samples, 'netsw', 32)\n",
    "hsr_flwds_samples = reshape_samplepreds(hsr_samples, 'flwds', 32)\n",
    "hsr_precsc_samples = reshape_samplepreds(hsr_samples, 'precsc', 32)\n",
    "hsr_precc_samples = reshape_samplepreds(hsr_samples, 'precc', 32)\n",
    "hsr_sols_samples = reshape_samplepreds(hsr_samples, 'sols', 32)\n",
    "hsr_soll_samples = reshape_samplepreds(hsr_samples, 'soll', 32)\n",
    "hsr_solsd_samples = reshape_samplepreds(hsr_samples, 'solsd', 32)\n",
    "hsr_solld_samples = reshape_samplepreds(hsr_samples, 'solld', 32)\n",
    "\n",
    "hsr_ptend_t_CRPS = data.calc_CRPS(hsr_ptend_t_samples, data.target_weighted_scoring['ptend_t'])\n",
    "hsr_ptend_q0001_CRPS = data.calc_CRPS(hsr_ptend_q0001_samples, data.target_weighted_scoring['ptend_q0001'])\n",
    "hsr_netsw_CRPS = data.calc_CRPS(hsr_netsw_samples, data.target_weighted_scoring['cam_out_NETSW'])\n",
    "hsr_flwds_CRPS = data.calc_CRPS(hsr_flwds_samples, data.target_weighted_scoring['cam_out_FLWDS'])\n",
    "hsr_precsc_CRPS = data.calc_CRPS(hsr_precsc_samples, data.target_weighted_scoring['cam_out_PRECSC'])\n",
    "hsr_precc_CRPS = data.calc_CRPS(hsr_precc_samples, data.target_weighted_scoring['cam_out_PRECC'])\n",
    "hsr_sols_CRPS = data.calc_CRPS(hsr_sols_samples, data.target_weighted_scoring['cam_out_SOLS'])\n",
    "hsr_soll_CRPS = data.calc_CRPS(hsr_soll_samples, data.target_weighted_scoring['cam_out_SOLL'])\n",
    "hsr_solsd_CRPS = data.calc_CRPS(hsr_solsd_samples, data.target_weighted_scoring['cam_out_SOLSD'])\n",
    "hsr_solld_CRPS = data.calc_CRPS(hsr_solld_samples, data.target_weighted_scoring['cam_out_SOLLD'])"
   ]
  },
  {
   "cell_type": "code",
   "execution_count": 12,
   "metadata": {},
   "outputs": [],
   "source": [
    "rpn_ptend_t_samples = reshape_samplepreds(rpn_samples, 'ptend_t', 32)\n",
    "rpn_ptend_q0001_samples = reshape_samplepreds(rpn_samples, 'ptend_q0001', 32)\n",
    "rpn_netsw_samples = reshape_samplepreds(rpn_samples, 'netsw', 32)\n",
    "rpn_flwds_samples = reshape_samplepreds(rpn_samples, 'flwds', 32)\n",
    "rpn_precsc_samples = reshape_samplepreds(rpn_samples, 'precsc', 32)\n",
    "rpn_precc_samples = reshape_samplepreds(rpn_samples, 'precc', 32)\n",
    "rpn_sols_samples = reshape_samplepreds(rpn_samples, 'sols', 32)\n",
    "rpn_soll_samples = reshape_samplepreds(rpn_samples, 'soll', 32)\n",
    "rpn_solsd_samples = reshape_samplepreds(rpn_samples, 'solsd', 32)\n",
    "rpn_solld_samples = reshape_samplepreds(rpn_samples, 'solld', 32)\n",
    "\n",
    "rpn_ptend_t_CRPS = data.calc_CRPS(rpn_ptend_t_samples, data.target_weighted_scoring['ptend_t'])\n",
    "rpn_ptend_q0001_CRPS = data.calc_CRPS(rpn_ptend_q0001_samples, data.target_weighted_scoring['ptend_q0001'])\n",
    "rpn_netsw_CRPS = data.calc_CRPS(rpn_netsw_samples, data.target_weighted_scoring['cam_out_NETSW'])\n",
    "rpn_flwds_CRPS = data.calc_CRPS(rpn_flwds_samples, data.target_weighted_scoring['cam_out_FLWDS'])\n",
    "rpn_precsc_CRPS = data.calc_CRPS(rpn_precsc_samples, data.target_weighted_scoring['cam_out_PRECSC'])\n",
    "rpn_precc_CRPS = data.calc_CRPS(rpn_precc_samples, data.target_weighted_scoring['cam_out_PRECC'])\n",
    "rpn_sols_CRPS = data.calc_CRPS(rpn_sols_samples, data.target_weighted_scoring['cam_out_SOLS'])\n",
    "rpn_soll_CRPS = data.calc_CRPS(rpn_soll_samples, data.target_weighted_scoring['cam_out_SOLL'])\n",
    "rpn_solsd_CRPS = data.calc_CRPS(rpn_solsd_samples, data.target_weighted_scoring['cam_out_SOLSD'])\n",
    "rpn_solld_CRPS = data.calc_CRPS(rpn_solld_samples, data.target_weighted_scoring['cam_out_SOLLD'])"
   ]
  },
  {
   "cell_type": "code",
   "execution_count": 13,
   "metadata": {},
   "outputs": [],
   "source": [
    "cvae_ptend_t_samples = reshape_samplepreds(cvae_samples, 'ptend_t', 32)\n",
    "cvae_ptend_q0001_samples = reshape_samplepreds(cvae_samples, 'ptend_q0001', 32)\n",
    "cvae_netsw_samples = reshape_samplepreds(cvae_samples, 'netsw', 32)\n",
    "cvae_flwds_samples = reshape_samplepreds(cvae_samples, 'flwds', 32)\n",
    "cvae_precsc_samples = reshape_samplepreds(cvae_samples, 'precsc', 32)\n",
    "cvae_precc_samples = reshape_samplepreds(cvae_samples, 'precc', 32)\n",
    "cvae_sols_samples = reshape_samplepreds(cvae_samples, 'sols', 32)\n",
    "cvae_soll_samples = reshape_samplepreds(cvae_samples, 'soll', 32)\n",
    "cvae_solsd_samples = reshape_samplepreds(cvae_samples, 'solsd', 32)\n",
    "cvae_solld_samples = reshape_samplepreds(cvae_samples, 'solld', 32)\n",
    "\n",
    "cvae_ptend_t_CRPS = data.calc_CRPS(cvae_ptend_t_samples, data.target_weighted_scoring['ptend_t'])\n",
    "cvae_ptend_q0001_CRPS = data.calc_CRPS(cvae_ptend_q0001_samples, data.target_weighted_scoring['ptend_q0001'])\n",
    "cvae_netsw_CRPS = data.calc_CRPS(cvae_netsw_samples, data.target_weighted_scoring['cam_out_NETSW'])\n",
    "cvae_flwds_CRPS = data.calc_CRPS(cvae_flwds_samples, data.target_weighted_scoring['cam_out_FLWDS'])\n",
    "cvae_precsc_CRPS = data.calc_CRPS(cvae_precsc_samples, data.target_weighted_scoring['cam_out_PRECSC'])\n",
    "cvae_precc_CRPS = data.calc_CRPS(cvae_precc_samples, data.target_weighted_scoring['cam_out_PRECC'])\n",
    "cvae_sols_CRPS = data.calc_CRPS(cvae_sols_samples, data.target_weighted_scoring['cam_out_SOLS'])\n",
    "cvae_soll_CRPS = data.calc_CRPS(cvae_soll_samples, data.target_weighted_scoring['cam_out_SOLL'])\n",
    "cvae_solsd_CRPS = data.calc_CRPS(cvae_solsd_samples, data.target_weighted_scoring['cam_out_SOLSD'])\n",
    "cvae_solld_CRPS = data.calc_CRPS(cvae_solld_samples, data.target_weighted_scoring['cam_out_SOLLD'])"
   ]
  },
  {
   "cell_type": "code",
   "execution_count": 19,
   "metadata": {},
   "outputs": [
    {
     "data": {
      "text/plain": [
       "<matplotlib.legend.Legend at 0x146f122d5700>"
      ]
     },
     "execution_count": 19,
     "metadata": {},
     "output_type": "execute_result"
    },
    {
     "data": {
      "image/png": "[encoded data removed]",
      "text/plain": [
       "<Figure size 800x400 with 1 Axes>"
      ]
     },
     "metadata": {},
     "output_type": "display_data"
    }
   ],
   "source": [
    "plt.figure(figsize=(8, 4)) \n",
    "plt.plot(range(60), hsr_ptend_t_CRPS, label='HSR', color = hsr_color)\n",
    "plt.plot(range(60), rpn_ptend_t_CRPS, label='RPN', color = rpn_color)\n",
    "plt.plot(range(60), cvae_ptend_t_CRPS, label='cVAE', color = cvae_color)\n",
    "plt.xlabel('Level index')\n",
    "plt.ylabel('W/m2')\n",
    "plt.title('CRPS (dT/dt)')\n",
    "plt.legend()"
   ]
  },
  {
   "cell_type": "code",
   "execution_count": 20,
   "metadata": {},
   "outputs": [
    {
     "data": {
      "text/plain": [
       "<matplotlib.legend.Legend at 0x146f1223e0d0>"
      ]
     },
     "execution_count": 20,
     "metadata": {},
     "output_type": "execute_result"
    },
    {
     "data": {
      "image/png": "[encoded data removed]",
      "text/plain": [
       "<Figure size 800x400 with 1 Axes>"
      ]
     },
     "metadata": {},
     "output_type": "display_data"
    }
   ],
   "source": [
    "plt.figure(figsize=(8, 4)) \n",
    "plt.plot(range(60), hsr_ptend_q0001_CRPS, label = 'HSR', color = hsr_color)\n",
    "plt.plot(range(60), rpn_ptend_q0001_CRPS, label = 'RPN', color = rpn_color)\n",
    "plt.plot(range(60), cvae_ptend_q0001_CRPS, label = 'cVAE', color = cvae_color)\n",
    "plt.xlabel('Level index')\n",
    "plt.ylabel('W/m2')\n",
    "plt.title('CRPS (dq/dt)')\n",
    "plt.legend()"
   ]
  },
  {
   "cell_type": "code",
   "execution_count": 21,
   "metadata": {},
   "outputs": [
    {
     "name": "stdout",
     "output_type": "stream",
     "text": [
      "CRPS for HSR\n",
      "ptend_t\n",
      "4.313504539871828\n",
      "ptend_q0001\n",
      "7.12245889893346\n",
      "netsw\n",
      "26.895344194394585\n",
      "flwds\n",
      "9.065343572310345\n",
      "precsc\n",
      "6.618401567459723\n",
      "precc\n",
      "68.50627526150829\n",
      "sols\n",
      "15.12969800863887\n",
      "soll\n",
      "18.457977895795874\n",
      "solsd\n",
      "9.058934716176298\n",
      "solld\n",
      "8.581095657206207\n"
     ]
    }
   ],
   "source": [
    "print(\"CRPS for HSR\")\n",
    "print('ptend_t')\n",
    "print(np.mean(hsr_ptend_t_CRPS))\n",
    "print('ptend_q0001')\n",
    "print(np.mean(hsr_ptend_q0001_CRPS))\n",
    "print('netsw')\n",
    "print(hsr_netsw_CRPS)\n",
    "print('flwds')\n",
    "print(hsr_flwds_CRPS)\n",
    "print('precsc')\n",
    "print(hsr_precsc_CRPS)\n",
    "print('precc')\n",
    "print(hsr_precc_CRPS)\n",
    "print('sols')\n",
    "print(hsr_sols_CRPS)\n",
    "print('soll')\n",
    "print(hsr_soll_CRPS)\n",
    "print('solsd')\n",
    "print(hsr_solsd_CRPS)\n",
    "print('solld')\n",
    "print(hsr_solld_CRPS)"
   ]
  },
  {
   "cell_type": "code",
   "execution_count": 22,
   "metadata": {},
   "outputs": [
    {
     "name": "stdout",
     "output_type": "stream",
     "text": [
      "CRPS for RPN\n",
      "ptend_t\n",
      "2.8339022416018427\n",
      "ptend_q0001\n",
      "4.836236775278909\n",
      "netsw\n",
      "25.52540066464738\n",
      "flwds\n",
      "8.089928346967545\n",
      "precsc\n",
      "4.2208184862440286\n",
      "precc\n",
      "42.654252680984726\n",
      "sols\n",
      "13.49815523576003\n",
      "soll\n",
      "16.114603384709252\n",
      "solsd\n",
      "7.165124211075875\n",
      "solld\n",
      "6.630592244535045\n"
     ]
    }
   ],
   "source": [
    "print(\"CRPS for RPN\")\n",
    "print('ptend_t')\n",
    "print(np.mean(rpn_ptend_t_CRPS))\n",
    "print('ptend_q0001')\n",
    "print(np.mean(rpn_ptend_q0001_CRPS))\n",
    "print('netsw')\n",
    "print(rpn_netsw_CRPS)\n",
    "print('flwds')\n",
    "print(rpn_flwds_CRPS)\n",
    "print('precsc')\n",
    "print(rpn_precsc_CRPS)\n",
    "print('precc')\n",
    "print(rpn_precc_CRPS)\n",
    "print('sols')\n",
    "print(rpn_sols_CRPS)\n",
    "print('soll')\n",
    "print(rpn_soll_CRPS)\n",
    "print('solsd')\n",
    "print(rpn_solsd_CRPS)\n",
    "print('solld')\n",
    "print(rpn_solld_CRPS)"
   ]
  },
  {
   "cell_type": "code",
   "execution_count": 23,
   "metadata": {},
   "outputs": [
    {
     "name": "stdout",
     "output_type": "stream",
     "text": [
      "CRPS for cVAE\n",
      "ptend_t\n",
      "2.8504252865757516\n",
      "ptend_q0001\n",
      "5.130390935874431\n",
      "netsw\n",
      "23.056108295577115\n",
      "flwds\n",
      "7.251907936160639\n",
      "precsc\n",
      "4.371026159008593\n",
      "precc\n",
      "42.6236004156111\n",
      "sols\n",
      "13.70586179628509\n",
      "soll\n",
      "16.30985747819903\n",
      "solsd\n",
      "6.333200907220096\n",
      "solld\n",
      "6.427539581252627\n"
     ]
    }
   ],
   "source": [
    "print(\"CRPS for cVAE\")\n",
    "print('ptend_t')\n",
    "print(np.mean(cvae_ptend_t_CRPS))\n",
    "print('ptend_q0001')\n",
    "print(np.mean(cvae_ptend_q0001_CRPS))\n",
    "print('netsw')\n",
    "print(cvae_netsw_CRPS)\n",
    "print('flwds')\n",
    "print(cvae_flwds_CRPS)\n",
    "print('precsc')\n",
    "print(cvae_precsc_CRPS)\n",
    "print('precc')\n",
    "print(cvae_precc_CRPS)\n",
    "print('sols')\n",
    "print(cvae_sols_CRPS)\n",
    "print('soll')\n",
    "print(cvae_soll_CRPS)\n",
    "print('solsd')\n",
    "print(cvae_solsd_CRPS)\n",
    "print('solld')\n",
    "print(cvae_solld_CRPS)"
   ]
  },
  {
   "cell_type": "code",
   "execution_count": 26,
   "metadata": {},
   "outputs": [],
   "source": [
    "# Define the categories and number of model groups\n",
    "categories = ['dT/dt', 'dq/dt', 'NETSW', 'FLWDS', 'PRECSC', 'PRECC', 'SOLS', 'SOLL', 'SOLSD', 'SOLLD']\n",
    "num_groups = 3\n",
    "colors = [hsr_color, rpn_color, cvae_color]\n",
    "values = np.zeros((num_groups, len(categories)))\n",
    "\n",
    "values[0,0] = np.mean(hsr_ptend_t_CRPS)\n",
    "values[1,0] = np.mean(rpn_ptend_t_CRPS)\n",
    "values[2,0] = np.mean(cvae_ptend_t_CRPS)\n",
    "\n",
    "values[0,1] = np.mean(hsr_ptend_q0001_CRPS)\n",
    "values[1,1] = np.mean(rpn_ptend_q0001_CRPS)\n",
    "values[2,1] = np.mean(cvae_ptend_q0001_CRPS)\n",
    "\n",
    "values[0,2] = hsr_netsw_CRPS\n",
    "values[1,2] = rpn_netsw_CRPS\n",
    "values[2,2] = cvae_netsw_CRPS\n",
    "\n",
    "values[0,3] = hsr_flwds_CRPS\n",
    "values[1,3] = rpn_flwds_CRPS\n",
    "values[2,3] = cvae_flwds_CRPS\n",
    "\n",
    "values[0,4] = hsr_precsc_CRPS\n",
    "values[1,4] = rpn_precsc_CRPS\n",
    "values[2,4] = cvae_precsc_CRPS\n",
    "\n",
    "values[0,5] = hsr_precc_CRPS\n",
    "values[1,5] = rpn_precc_CRPS\n",
    "values[2,5] = cvae_precc_CRPS\n",
    "\n",
    "values[0,6] = hsr_sols_CRPS\n",
    "values[1,6] = rpn_sols_CRPS\n",
    "values[2,6] = cvae_sols_CRPS\n",
    "\n",
    "values[0,7] = hsr_soll_CRPS\n",
    "values[1,7] = rpn_soll_CRPS\n",
    "values[2,7] = cvae_soll_CRPS\n",
    "\n",
    "values[0,8] = hsr_solsd_CRPS\n",
    "values[1,8] = rpn_solsd_CRPS\n",
    "values[2,8] = cvae_solsd_CRPS\n",
    "\n",
    "values[0,9] = hsr_solld_CRPS\n",
    "values[1,9] = rpn_solld_CRPS\n",
    "values[2,9] = cvae_solld_CRPS"
   ]
  },
  {
   "cell_type": "code",
   "execution_count": null,
   "metadata": {},
   "outputs": [],
   "source": [
    "# Create the figure and the axes\n",
    "fig, ax = plt.subplots(figsize=(10, 3))\n",
    "\n",
    "# Plot the bars for each model group\n",
    "for i in range(num_groups):\n",
    "    ax.bar(pos + i * width, values[i], width, label=f'Model {i+1}', color=colors[i])\n",
    "\n",
    "# Set the y-axis to log scale\n",
    "# ax.set_yscale('log')\n",
    "\n",
    "# Set the axis labels and title\n",
    "ax.set_ylabel('W/m2')\n",
    "\n",
    "# Set the x-axis category labels\n",
    "ax.set_xticks(pos + width * (num_groups - 1) / 2)\n",
    "ax.set_xticklabels(categories)\n",
    "\n",
    "# Add a legend\n",
    "# ax.legend()\n",
    "\n",
    "# Rotate the tick labels for better readability\n",
    "# plt.setp(ax.get_xticklabels(), rotation=45, ha=\"right\", rotation_mode=\"anchor\")\n",
    "plt.setp(ax.get_xticklabels())\n",
    "\n",
    "# Save the recreated plot to a file\n",
    "recreated_plot_path = './crps_bar_plot_corrected.png'\n",
    "# plt.savefig(recreated_plot_path)\n",
    "plt.show(), recreated_plot_path"
   ]
  },
  {
   "cell_type": "code",
   "execution_count": null,
   "metadata": {},
   "outputs": [],
   "source": []
  }
 ],
 "metadata": {
  "kernelspec": {
   "display_name": "Python 3 (ipykernel)",
   "language": "python",
   "name": "python3"
  }
 },
 "nbformat": 4,
 "nbformat_minor": 2
}
