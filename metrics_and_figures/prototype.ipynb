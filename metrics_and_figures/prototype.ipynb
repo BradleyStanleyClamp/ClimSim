{
 "cells": [
  {
   "cell_type": "code",
   "execution_count": 1,
   "metadata": {},
   "outputs": [],
   "source": [
    "FN_MODEL_OUTPUT = {'MLP':  '/ocean/projects/atm200007p/jlin96/neurips_proj/figure_ingredients/001_backup_phase-7_retrained_models_step2_lot-147_trial_0027.best.h5.npy',\n",
    "                   'RPN':  '/ocean/projects/atm200007p/jlin96/neurips_proj/figure_ingredients/rpn_pred_v1_stride6.npy',\n",
    "                   'CNN':  '/ocean/projects/atm200007p/jlin96/neurips_proj/figure_ingredients/val_predict_cnn_reshaped_stride6_FINAL.npy',\n",
    "                   # 'cVAE': './model_outputs/cvae_preds_bestcrps.h5',\n",
    "                   'cVAE': '/ocean/projects/atm200007p/jlin96/neurips_proj/figure_ingredients/cvae.h5',\n",
    "                   'HSR': '/ocean/projects/atm200007p/jlin96/neurips_proj/figure_ingredients/hsr_preds_bestcrps.h5',\n",
    "                  }"
   ]
  },
  {
   "cell_type": "code",
   "execution_count": 2,
   "metadata": {},
   "outputs": [],
   "source": [
    "# model name\n",
    "# (model name is used for the output)\n",
    "model_name = 'MLP'\n",
    "\n",
    "# input of validation dataset (npy)\n",
    "fn_x_true = '/ocean/projects/atm200007p/jlin96/neurips_proj/e3sm_train_npy/val_input_stride6.npy'\n",
    "\n",
    "# true output of validation dataset (npy)\n",
    "fn_y_true = '/ocean/projects/atm200007p/jlin96/neurips_proj/e3sm_train_npy/val_target_stride6.npy'\n",
    "\n",
    "# Model predicted output of varlidation dataset (npy)\n",
    "fn_y_pred = FN_MODEL_OUTPUT[model_name]\n",
    "\n",
    "# model grid information (nc)\n",
    "fn_grid = '/ocean/projects/atm200007p/jlin96/neurips_proj/ClimSim_release/grid_info/E3SM-MMF_ne4_grid-info.orig.nc'\n",
    "\n",
    "# normalization scale factors (nc)\n",
    "fn_mli_mean  = '/ocean/projects/atm200007p/jlin96/neurips_proj/ClimSim_release/norm_factors/mli_mean.nc'\n",
    "fn_mli_min   = '/ocean/projects/atm200007p/jlin96/neurips_proj/ClimSim_release/norm_factors/mli_min.nc'\n",
    "fn_mli_max   = '/ocean/projects/atm200007p/jlin96/neurips_proj/ClimSim_release/norm_factors/mli_max.nc'\n",
    "fn_mlo_scale = '/ocean/projects/atm200007p/jlin96/neurips_proj/ClimSim_release/norm_factors/mlo_scale.nc'\n",
    "\n",
    "# fn_save_output\n",
    "fn_save_metrics = f'./metrics/{model_name}.metrics.csv'\n",
    "fn_save_metrics_avg = f'./metrics/{model_name}.metrics.lev-avg.csv'"
   ]
  },
  {
   "cell_type": "code",
   "execution_count": 3,
   "metadata": {},
   "outputs": [],
   "source": [
    "# physical constatns from (E3SM_ROOT/share/util/shr_const_mod.F90)\n",
    "grav    = 9.80616    # acceleration of gravity ~ m/s^2\n",
    "cp      = 1.00464e3  # specific heat of dry air   ~ J/kg/K\n",
    "lv      = 2.501e6    # latent heat of evaporation ~ J/kg\n",
    "lf      = 3.337e5    # latent heat of fusion      ~ J/kg\n",
    "ls      = lv + lf    # latent heat of sublimation ~ J/kg\n",
    "rho_air = 101325./ (6.02214e26*1.38065e-23/28.966) / 273.15 # density of dry air at STP  ~ kg/m^3\n",
    "                                                            # ~ 1.2923182846924677\n",
    "                                                            # SHR_CONST_PSTD/(SHR_CONST_RDAIR*SHR_CONST_TKFRZ)\n",
    "                                                            # SHR_CONST_RDAIR   = SHR_CONST_RGAS/SHR_CONST_MWDAIR\n",
    "                                                            # SHR_CONST_RGAS    = SHR_CONST_AVOGAD*SHR_CONST_BOLTZ\n",
    "rho_h20 = 1.e3       # density of fresh water     ~ kg/m^ 3\n",
    "\n",
    "vars_mlo_energy_conv = {'ptend_t':cp,\n",
    "                        'ptend_q0001':lv,\n",
    "                        'cam_out_NETSW':1.,\n",
    "                        'cam_out_FLWDS':1.,\n",
    "                        'cam_out_PRECSC':lv*rho_h20,\n",
    "                        'cam_out_PRECC':lv*rho_h20,\n",
    "                        'cam_out_SOLS':1.,\n",
    "                        'cam_out_SOLL':1.,\n",
    "                        'cam_out_SOLSD':1.,\n",
    "                        'cam_out_SOLLD':1.\n",
    "                       }"
   ]
  },
  {
   "cell_type": "code",
   "execution_count": 4,
   "metadata": {},
   "outputs": [],
   "source": [
    "import numpy as np\n",
    "import xarray as xr\n",
    "import pandas as pd\n",
    "import matplotlib.pyplot as plt\n",
    "from data_utils import *\n",
    "\n",
    "# set dimemsion names for xarray datasets\n",
    "dim_name_level  = 'lev'\n",
    "dim_name_sample = 'sample'"
   ]
  },
  {
   "cell_type": "code",
   "execution_count": 5,
   "metadata": {},
   "outputs": [],
   "source": [
    "# load input dataset\n",
    "x_true = np.load(fn_x_true).astype(np.float64)\n",
    "y_true = np.load(fn_y_true).astype(np.float64)\n",
    "if fn_y_pred[-3:] == '.h5':\n",
    "    y_pred = xr.open_dataset(fn_y_pred)['pred'].values\n",
    "else:\n",
    "    y_pred = np.load(fn_y_pred).astype(np.float64)\n",
    "N_samples = y_pred.shape[0] \n",
    "\n",
    "# load norm/scale factors\n",
    "mlo_scale = xr.open_dataset(fn_mlo_scale)\n",
    "mli_mean  = xr.open_dataset(fn_mli_mean)\n",
    "mli_min   = xr.open_dataset(fn_mli_min)\n",
    "mli_max   = xr.open_dataset(fn_mli_max)"
   ]
  },
  {
   "cell_type": "code",
   "execution_count": 6,
   "metadata": {},
   "outputs": [],
   "source": [
    "# load grid information\n",
    "ds_grid = xr.open_dataset(fn_grid) # has ncol:384\n",
    "N_ncol = len(ds_grid['ncol']) # length of ncol dimension (nlat * nlon)\n",
    "\n",
    "# make area-weights\n",
    "ds_grid['area_wgt'] = ds_grid['area'] / ds_grid['area'].mean('ncol')\n",
    "\n",
    "# map ds_grid's ncol dimension -> the N_samples dimension of npy-loayd arrays (e.g., y_pred)\n",
    "to_xarray = {'area_wgt': (dim_name_sample,np.tile(ds_grid['area_wgt'], int(N_samples/len(ds_grid['ncol'])))),\n",
    "            }\n",
    "to_xarray = xr.Dataset(to_xarray)\n",
    "\n",
    "# add nsample-mapped grid variables back to ds_grid\n",
    "ds_grid = xr.merge([ds_grid  [['P0', 'hyai', 'hyam','hybi','hybm','lat','lon','area']],\n",
    "                    to_xarray[['area_wgt']]])"
   ]
  },
  {
   "cell_type": "code",
   "execution_count": 7,
   "metadata": {},
   "outputs": [],
   "source": [
    "# list of ML output variables\n",
    "vars_mlo = ['ptend_t','ptend_q0001','cam_out_NETSW','cam_out_FLWDS','cam_out_PRECSC',\n",
    "            'cam_out_PRECC','cam_out_SOLS','cam_out_SOLL','cam_out_SOLSD','cam_out_SOLLD'] # mlo mean ML output.\n",
    "\n",
    "# length of each variable\n",
    "vars_mlo_len = {'ptend_t':60,\n",
    "                'ptend_q0001':60,\n",
    "                'cam_out_NETSW':1,\n",
    "                'cam_out_FLWDS':1,\n",
    "                'cam_out_PRECSC':1,\n",
    "                'cam_out_PRECC':1,\n",
    "                'cam_out_SOLS':1,\n",
    "                'cam_out_SOLL':1,\n",
    "                'cam_out_SOLSD':1,\n",
    "                'cam_out_SOLLD':1\n",
    "               }\n",
    "\n",
    "# map the length of dimension to the name of dimension\n",
    "len_to_dim = {60:dim_name_level,\n",
    "              N_samples: dim_name_sample}"
   ]
  },
  {
   "cell_type": "code",
   "execution_count": 8,
   "metadata": {},
   "outputs": [],
   "source": [
    "# Here, we first construct a dictionary of {var name: (dimension name, array-like)},\n",
    "# then, map the dictionary to an Xarray Dataset.\n",
    "# (ref: https://docs.xarray.dev/en/stable/generated/xarray.Dataset.html)\n",
    "\n",
    "DS = {}\n",
    "\n",
    "for kds in ['true', 'pred']:\n",
    "    if kds=='true':\n",
    "        work = y_true\n",
    "    elif kds=='pred':\n",
    "        work = y_pred\n",
    "\n",
    "    # [1] Construct dictionary for xarray dataset\n",
    "    #     format is key for variable name /\n",
    "    #               value for a turple of (dimension names, data).\n",
    "    to_xarray = {}\n",
    "    for k, kvar in enumerate(vars_mlo):\n",
    "\n",
    "        # length of variable (ie, number of levels)\n",
    "        kvar_len = vars_mlo_len[kvar]\n",
    "\n",
    "        # set dimensions of variable\n",
    "        if kvar_len == 60:\n",
    "            kvar_dims = (dim_name_sample, dim_name_level)\n",
    "        elif kvar_len == 1:\n",
    "            kvar_dims = dim_name_sample\n",
    "\n",
    "        # set start and end indices of variable in the loaded numpy array\n",
    "        # then, add 'kvar':(kvar_dims, <np_array>) to dictionary\n",
    "        if k==0: ind1=0\n",
    "        ind2 = ind1 + kvar_len\n",
    "\n",
    "        # scaled output\n",
    "        kvar_data = np.squeeze(work[:,ind1:ind2])\n",
    "        # unscaled output\n",
    "        kvar_data = kvar_data / mlo_scale[kvar].values\n",
    "\n",
    "        to_xarray[kvar] = (kvar_dims, kvar_data)\n",
    "\n",
    "        ind1 = ind2\n",
    "\n",
    "    # [2] convert dict to xarray dataset\n",
    "    DS[kds] = xr.Dataset(to_xarray)\n",
    "\n",
    "    # [3] add surface pressure ('state_ps') from ml input\n",
    "    # normalized ps\n",
    "    state_ps =  xr.DataArray(x_true[:,120], dims=('sample'), name='state_ps')\n",
    "    # denormalized ps\n",
    "    state_ps = state_ps * (mli_max['state_ps'] - mli_min['state_ps']) + mli_mean['state_ps']\n",
    "    DS[kds]['state_ps'] = state_ps\n",
    "\n",
    "    # [4] add grid information\n",
    "    DS[kds] = xr.merge([DS[kds], ds_grid])\n",
    "\n",
    "    # [5] add pressure thickness of each level, dp\n",
    "    # FYI, in a hybrid sigma vertical coordinate system, pressure at level z is\n",
    "    # P[x,z] = hyam[z]*P0 + hybm[z]*PS[x,z],\n",
    "    # where, hyam and hybm are \n",
    "    tmp = DS[kds]['P0']*DS[kds]['hyai'] + DS[kds]['state_ps']*DS[kds]['hybi']\n",
    "    tmp = tmp.isel(ilev=slice(1,61)).values - tmp.isel(ilev=slice(0,60)).values\n",
    "    tmp = tmp.transpose()\n",
    "    DS[kds]['dp'] = xr.DataArray(tmp, dims=('sample', 'lev'))\n",
    "\n",
    "    # [6] break (sample) to (ncol,time)\n",
    "    N_timestep = int(N_samples/N_ncol)\n",
    "    dim_ncol     = np.arange(N_ncol)\n",
    "    dim_timestep = np.arange(N_timestep)\n",
    "    new_ind = pd.MultiIndex.from_product([dim_timestep, dim_ncol],\n",
    "                                         names=['time', 'ncol'])\n",
    "    DS[kds] = DS[kds].assign_coords(sample=new_ind).unstack('sample')"
   ]
  },
  {
   "cell_type": "code",
   "execution_count": 9,
   "metadata": {},
   "outputs": [],
   "source": [
    "# [1] Weight vertical levels by dp/g that is equivalent to a mass of air within a grid cell per unit area [kg/m2]\n",
    "# [2] Weight horizontal area of each grid cell by a[x]/mean(a[x]).\n",
    "# [3] Unit conversion to a common energy unit\n",
    "\n",
    "DS_ENERGY = {}\n",
    "for kds in ['true','pred']:\n",
    "    # Make a copy to keep original dataset\n",
    "    DS_ENERGY[kds] = DS[kds].copy(deep=True)\n",
    "\n",
    "    # vertical weighting / area weighting / unit conversion\n",
    "    for kvar in vars_mlo:\n",
    "\n",
    "        # [1] weight vertical levels by dp/g\n",
    "        #     ONLY for vertically-resolved variables, e.g., ptend_{t,q0001}\n",
    "        # dp/g = - \\rho * dz\n",
    "        if vars_mlo_len[kvar] == 60:\n",
    "            DS_ENERGY[kds][kvar] = DS_ENERGY[kds][kvar] * DS_ENERGY[kds]['dp']/grav\n",
    "\n",
    "        # [2] weight area\n",
    "        #     for ALL variables\n",
    "        DS_ENERGY[kds][kvar] = DS_ENERGY[kds]['area_wgt'] * DS_ENERGY[kds][kvar]\n",
    "\n",
    "        # [3] convert units to W/m2\n",
    "        #     for variables with different units, e.g., ptend_{t,q0001}, precsc, precc\n",
    "        DS_ENERGY[kds][kvar] =  vars_mlo_energy_conv[kvar] * DS_ENERGY[kds][kvar]"
   ]
  },
  {
   "cell_type": "code",
   "execution_count": 65,
   "metadata": {},
   "outputs": [
    {
     "data": {
      "text/plain": [
       "'ptend_t'"
      ]
     },
     "execution_count": 65,
     "metadata": {},
     "output_type": "execute_result"
    }
   ],
   "source": [
    "vars_mlo[0]"
   ]
  },
  {
   "cell_type": "code",
   "execution_count": 86,
   "metadata": {},
   "outputs": [
    {
     "data": {
      "text/plain": [
       "9.419429889941447e-18"
      ]
     },
     "execution_count": 86,
     "metadata": {},
     "output_type": "execute_result"
    }
   ],
   "source": [
    "np.sum((DS['true']['ptend_t'].values[:,1,:]*mlo_scale['ptend_t'].values[:,np.newaxis]).transpose() - y_true[384:384+384,0:60])"
   ]
  },
  {
   "cell_type": "code",
   "execution_count": 91,
   "metadata": {},
   "outputs": [],
   "source": [
    "jerrymander = y_true[:,:60].reshape((int(1681920/384), 384, 60))"
   ]
  },
  {
   "cell_type": "code",
   "execution_count": 93,
   "metadata": {},
   "outputs": [
    {
     "data": {
      "text/plain": [
       "(4380, 384, 60)"
      ]
     },
     "execution_count": 93,
     "metadata": {},
     "output_type": "execute_result"
    }
   ],
   "source": [
    "jerrymander.shape"
   ]
  },
  {
   "cell_type": "code",
   "execution_count": 105,
   "metadata": {},
   "outputs": [
    {
     "data": {
      "text/plain": [
       "(1681920, 128)"
      ]
     },
     "execution_count": 105,
     "metadata": {},
     "output_type": "execute_result"
    }
   ],
   "source": [
    "y_true.shape"
   ]
  },
  {
   "cell_type": "code",
   "execution_count": 184,
   "metadata": {},
   "outputs": [
    {
     "data": {
      "text/plain": [
       "array([1004.64, 1004.64, 1004.64, 1004.64, 1004.64, 1004.64, 1004.64,\n",
       "       1004.64, 1004.64, 1004.64, 1004.64, 1004.64, 1004.64, 1004.64,\n",
       "       1004.64, 1004.64, 1004.64, 1004.64, 1004.64, 1004.64, 1004.64,\n",
       "       1004.64, 1004.64, 1004.64, 1004.64, 1004.64, 1004.64, 1004.64,\n",
       "       1004.64, 1004.64, 1004.64, 1004.64, 1004.64, 1004.64, 1004.64,\n",
       "       1004.64, 1004.64, 1004.64, 1004.64, 1004.64, 1004.64, 1004.64,\n",
       "       1004.64, 1004.64, 1004.64, 1004.64, 1004.64, 1004.64, 1004.64,\n",
       "       1004.64, 1004.64, 1004.64, 1004.64, 1004.64, 1004.64, 1004.64,\n",
       "       1004.64, 1004.64, 1004.64, 1004.64])"
      ]
     },
     "execution_count": 184,
     "metadata": {},
     "output_type": "execute_result"
    }
   ],
   "source": [
    "mlo_scale['ptend_t'].values"
   ]
  },
  {
   "cell_type": "code",
   "execution_count": 193,
   "metadata": {},
   "outputs": [
    {
     "data": {
      "text/plain": [
       "(4380, 384, 60)"
      ]
     },
     "execution_count": 193,
     "metadata": {},
     "output_type": "execute_result"
    }
   ],
   "source": [
    "y_true[:,:60].reshape((int(1681920/384), 384, 60)).shape"
   ]
  },
  {
   "cell_type": "code",
   "execution_count": 187,
   "metadata": {},
   "outputs": [
    {
     "data": {
      "text/plain": [
       "(4380, 384, 60)"
      ]
     },
     "execution_count": 187,
     "metadata": {},
     "output_type": "execute_result"
    }
   ],
   "source": [
    "y_true[:,60:120].reshape((int(1681920/384), 384, 60)).shape"
   ]
  },
  {
   "cell_type": "code",
   "execution_count": 208,
   "metadata": {},
   "outputs": [
    {
     "data": {
      "text/plain": [
       "(4380, 384)"
      ]
     },
     "execution_count": 208,
     "metadata": {},
     "output_type": "execute_result"
    }
   ],
   "source": [
    "y_true[:,120].reshape((int(1681920/384), 384)).shape"
   ]
  },
  {
   "cell_type": "code",
   "execution_count": 198,
   "metadata": {},
   "outputs": [
    {
     "data": {
      "text/plain": [
       "(1, 1, 60)"
      ]
     },
     "execution_count": 198,
     "metadata": {},
     "output_type": "execute_result"
    }
   ],
   "source": [
    "mlo_scale['ptend_t'].values[np.newaxis, np.newaxis, :].shape"
   ]
  },
  {
   "cell_type": "code",
   "execution_count": 204,
   "metadata": {},
   "outputs": [
    {
     "data": {
      "text/plain": [
       "array(0.0024)"
      ]
     },
     "execution_count": 204,
     "metadata": {},
     "output_type": "execute_result"
    }
   ],
   "source": [
    "mlo_scale['cam_out_NETSW'].values"
   ]
  },
  {
   "cell_type": "code",
   "execution_count": 205,
   "metadata": {},
   "outputs": [
    {
     "ename": "NameError",
     "evalue": "name 'area_wgt' is not defined",
     "output_type": "error",
     "traceback": [
      "\u001b[0;31m---------------------------------------------------------------------------\u001b[0m",
      "\u001b[0;31mNameError\u001b[0m                                 Traceback (most recent call last)",
      "\u001b[1;32m/ocean/projects/atm200007p/jlin96/neurips_proj/ClimSim_release/metrics_and_figures/prototype.ipynb Cell 21\u001b[0m in \u001b[0;36m<cell line: 1>\u001b[0;34m()\u001b[0m\n\u001b[0;32m----> <a href='vscode-notebook-cell://ssh-remote%2Bbridges2.psc.edu/ocean/projects/atm200007p/jlin96/neurips_proj/ClimSim_release/metrics_and_figures/prototype.ipynb#Y336sdnNjb2RlLXJlbW90ZQ%3D%3D?line=0'>1</a>\u001b[0m area_wgt\n",
      "\u001b[0;31mNameError\u001b[0m: name 'area_wgt' is not defined"
     ]
    }
   ],
   "source": [
    "area_wgt"
   ]
  },
  {
   "cell_type": "markdown",
   "metadata": {},
   "source": [
    "# Unit testing"
   ]
  },
  {
   "cell_type": "markdown",
   "metadata": {},
   "source": []
  },
  {
   "cell_type": "code",
   "execution_count": 142,
   "metadata": {},
   "outputs": [
    {
     "data": {
      "text/plain": [
       "['ptend_t',\n",
       " 'ptend_q0001',\n",
       " 'cam_out_NETSW',\n",
       " 'cam_out_FLWDS',\n",
       " 'cam_out_PRECSC',\n",
       " 'cam_out_PRECC',\n",
       " 'cam_out_SOLS',\n",
       " 'cam_out_SOLL',\n",
       " 'cam_out_SOLSD',\n",
       " 'cam_out_SOLLD']"
      ]
     },
     "execution_count": 142,
     "metadata": {},
     "output_type": "execute_result"
    }
   ],
   "source": [
    "vars_mlo"
   ]
  },
  {
   "cell_type": "code",
   "execution_count": 103,
   "metadata": {},
   "outputs": [
    {
     "data": {
      "text/plain": [
       "0.0"
      ]
     },
     "execution_count": 103,
     "metadata": {},
     "output_type": "execute_result"
    }
   ],
   "source": [
    "np.sum(y_true[:,:60].reshape((int(1681920/384), 384, 60))[1,:,:] - y_true[384:384+384,0:60])"
   ]
  },
  {
   "cell_type": "code",
   "execution_count": 138,
   "metadata": {},
   "outputs": [
    {
     "data": {
      "text/plain": [
       "9.419429889941447e-18"
      ]
     },
     "execution_count": 138,
     "metadata": {},
     "output_type": "execute_result"
    }
   ],
   "source": [
    "np.sum((DS['true']['ptend_t'].values[:,1,:]*mlo_scale['ptend_t'].values[:,np.newaxis]).transpose() - y_true[384:384+384,0:60])"
   ]
  },
  {
   "cell_type": "code",
   "execution_count": 104,
   "metadata": {},
   "outputs": [
    {
     "data": {
      "text/plain": [
       "0.0"
      ]
     },
     "execution_count": 104,
     "metadata": {},
     "output_type": "execute_result"
    }
   ],
   "source": [
    "np.sum(y_true[:,60:120].reshape((int(1681920/384), 384, 60))[1,:,:] - y_true[384:384+384,60:120])"
   ]
  },
  {
   "cell_type": "code",
   "execution_count": 143,
   "metadata": {},
   "outputs": [
    {
     "data": {
      "text/plain": [
       "1.1922414029637306e-16"
      ]
     },
     "execution_count": 143,
     "metadata": {},
     "output_type": "execute_result"
    }
   ],
   "source": [
    "np.sum((DS['true']['ptend_q0001'].values[:,1,:]*mlo_scale['ptend_q0001'].values[:,np.newaxis]).transpose() - y_true[384:384+384,60:120])"
   ]
  },
  {
   "cell_type": "code",
   "execution_count": 107,
   "metadata": {},
   "outputs": [
    {
     "data": {
      "text/plain": [
       "0.0"
      ]
     },
     "execution_count": 107,
     "metadata": {},
     "output_type": "execute_result"
    }
   ],
   "source": [
    "np.sum(y_true[:,120].reshape((int(1681920/384), 384, 1))[1,:,:] - y_true[384:384+384,120])"
   ]
  },
  {
   "cell_type": "code",
   "execution_count": 163,
   "metadata": {},
   "outputs": [
    {
     "data": {
      "text/plain": [
       "-7.563394355258879e-16"
      ]
     },
     "execution_count": 163,
     "metadata": {},
     "output_type": "execute_result"
    }
   ],
   "source": [
    "np.sum(DS['true']['cam_out_NETSW'].values[1,:]*mlo_scale['cam_out_NETSW'].values - y_true[384:384+384,120])"
   ]
  },
  {
   "cell_type": "code",
   "execution_count": 108,
   "metadata": {},
   "outputs": [
    {
     "data": {
      "text/plain": [
       "0.0"
      ]
     },
     "execution_count": 108,
     "metadata": {},
     "output_type": "execute_result"
    }
   ],
   "source": [
    "np.sum(y_true[:,121].reshape((int(1681920/384), 384, 1))[1,:,:] - y_true[384:384+384,121])"
   ]
  },
  {
   "cell_type": "code",
   "execution_count": 164,
   "metadata": {},
   "outputs": [
    {
     "data": {
      "text/plain": [
       "0.0"
      ]
     },
     "execution_count": 164,
     "metadata": {},
     "output_type": "execute_result"
    }
   ],
   "source": [
    "np.sum(DS['true']['cam_out_FLWDS'].values[1,:]*mlo_scale['cam_out_FLWDS'].values - y_true[384:384+384,121])"
   ]
  },
  {
   "cell_type": "code",
   "execution_count": 109,
   "metadata": {},
   "outputs": [
    {
     "data": {
      "text/plain": [
       "0.0"
      ]
     },
     "execution_count": 109,
     "metadata": {},
     "output_type": "execute_result"
    }
   ],
   "source": [
    "np.sum(y_true[:,122].reshape((int(1681920/384), 384, 1))[1,:,:] - y_true[384:384+384,122])"
   ]
  },
  {
   "cell_type": "code",
   "execution_count": null,
   "metadata": {},
   "outputs": [],
   "source": [
    "np.sum(DS['true']['cam_out_FLWDS'].values[1,:]*mlo_scale['cam_out_FLWDS'].values - y_true[384:384+384,121])"
   ]
  },
  {
   "cell_type": "code",
   "execution_count": 110,
   "metadata": {},
   "outputs": [
    {
     "data": {
      "text/plain": [
       "-5.684341886080802e-14"
      ]
     },
     "execution_count": 110,
     "metadata": {},
     "output_type": "execute_result"
    }
   ],
   "source": [
    "np.sum(y_true[:,123].reshape((int(1681920/384), 384, 1))[1,:,:] - y_true[384:384+384,123])"
   ]
  },
  {
   "cell_type": "code",
   "execution_count": 111,
   "metadata": {},
   "outputs": [
    {
     "data": {
      "text/plain": [
       "4.547473508864641e-13"
      ]
     },
     "execution_count": 111,
     "metadata": {},
     "output_type": "execute_result"
    }
   ],
   "source": [
    "np.sum(y_true[:,124].reshape((int(1681920/384), 384, 1))[1,:,:] - y_true[384:384+384,124])"
   ]
  },
  {
   "cell_type": "code",
   "execution_count": 126,
   "metadata": {},
   "outputs": [
    {
     "data": {
      "text/plain": [
       "-4.661160346586257e-12"
      ]
     },
     "execution_count": 126,
     "metadata": {},
     "output_type": "execute_result"
    }
   ],
   "source": [
    "np.sum(y_true[:,125].reshape((int(1681920/384), 384, 1))[1,:,:] - y_true[384:384+384,125])"
   ]
  },
  {
   "cell_type": "code",
   "execution_count": 127,
   "metadata": {},
   "outputs": [
    {
     "data": {
      "text/plain": [
       "0.0"
      ]
     },
     "execution_count": 127,
     "metadata": {},
     "output_type": "execute_result"
    }
   ],
   "source": [
    "np.sum(y_true[:,126].reshape((int(1681920/384), 384, 1))[1,:,:] - y_true[384:384+384,126])"
   ]
  },
  {
   "cell_type": "code",
   "execution_count": 128,
   "metadata": {},
   "outputs": [
    {
     "data": {
      "text/plain": [
       "0.0"
      ]
     },
     "execution_count": 128,
     "metadata": {},
     "output_type": "execute_result"
    }
   ],
   "source": [
    "np.sum(y_true[:,127].reshape((int(1681920/384), 384, 1))[1,:,:] - y_true[384:384+384,127])"
   ]
  },
  {
   "cell_type": "code",
   "execution_count": 173,
   "metadata": {},
   "outputs": [
    {
     "data": {
      "text/plain": [
       "0.0"
      ]
     },
     "execution_count": 173,
     "metadata": {},
     "output_type": "execute_result"
    }
   ],
   "source": [
    "np.sum(y_true[:,120:].reshape((int(1681920/384), 384, -1))[1,:,:] - y_true[384:384+384,120:])"
   ]
  },
  {
   "cell_type": "code",
   "execution_count": 179,
   "metadata": {},
   "outputs": [
    {
     "data": {
      "text/plain": [
       "(384, 8)"
      ]
     },
     "execution_count": 179,
     "metadata": {},
     "output_type": "execute_result"
    }
   ],
   "source": [
    "scalarmander = y_true[:, 120:].reshape((int(1681920/384), 384, -1))[1,:,:]\n",
    "scalarmander.shape"
   ]
  },
  {
   "cell_type": "code",
   "execution_count": 181,
   "metadata": {},
   "outputs": [
    {
     "data": {
      "text/plain": [
       "0.0"
      ]
     },
     "execution_count": 181,
     "metadata": {},
     "output_type": "execute_result"
    }
   ],
   "source": [
    "scalarmander = y_true[:, 120:].reshape((int(1681920/384), 384, -1))[1,:,:]\n",
    "np.sum(scalarmander-y_true[384:384+384,120:])"
   ]
  },
  {
   "cell_type": "code",
   "execution_count": 165,
   "metadata": {},
   "outputs": [
    {
     "data": {
      "text/plain": [
       "(4380, 384, 8)"
      ]
     },
     "execution_count": 165,
     "metadata": {},
     "output_type": "execute_result"
    }
   ],
   "source": [
    "y_true[:,120:].reshape((int(1681920/384), 384, -1)).shape"
   ]
  },
  {
   "cell_type": "code",
   "execution_count": 167,
   "metadata": {},
   "outputs": [
    {
     "data": {
      "text/plain": [
       "(4380, 384, 60)"
      ]
     },
     "execution_count": 167,
     "metadata": {},
     "output_type": "execute_result"
    }
   ],
   "source": [
    "y_true[:,60:120].reshape((int(1681920/384), 384, 60)).shape"
   ]
  },
  {
   "cell_type": "code",
   "execution_count": 137,
   "metadata": {},
   "outputs": [
    {
     "data": {
      "text/plain": [
       "9.419429889941447e-18"
      ]
     },
     "execution_count": 137,
     "metadata": {},
     "output_type": "execute_result"
    }
   ],
   "source": [
    "np.sum((DS['true']['ptend_t'].values[:,1,:]*mlo_scale['ptend_t'].values[:,np.newaxis]).transpose() - y_true[384:384+384,0:60])"
   ]
  },
  {
   "cell_type": "code",
   "execution_count": 134,
   "metadata": {},
   "outputs": [
    {
     "data": {
      "text/plain": [
       "(4380, 384, 8)"
      ]
     },
     "execution_count": 134,
     "metadata": {},
     "output_type": "execute_result"
    }
   ],
   "source": [
    "y_true[:,120:].reshape((int(1681920/384), 384, -1)).shape"
   ]
  },
  {
   "cell_type": "code",
   "execution_count": 136,
   "metadata": {},
   "outputs": [
    {
     "data": {
      "text/plain": [
       "0.0"
      ]
     },
     "execution_count": 136,
     "metadata": {},
     "output_type": "execute_result"
    }
   ],
   "source": [
    "np.sum(y_true[:,120:].reshape((int(1681920/384), 384, -1))[1,:,:] - y_true[384:384+384,120:])"
   ]
  },
  {
   "cell_type": "code",
   "execution_count": 169,
   "metadata": {},
   "outputs": [
    {
     "data": {
      "text/plain": [
       "518.2811775077098"
      ]
     },
     "execution_count": 169,
     "metadata": {},
     "output_type": "execute_result"
    }
   ],
   "source": [
    "scalarmander = y_true[:, 120:].reshape((int(1681920/384), 384, -1))\n",
    "np.sum(scalarmander[1,:,1]-y_true[384:384+384,120])"
   ]
  },
  {
   "cell_type": "code",
   "execution_count": 99,
   "metadata": {},
   "outputs": [],
   "source": [
    "hmm3 = y_true[:, 120:].reshape((int(1681920/384), 384, 8))"
   ]
  },
  {
   "cell_type": "code",
   "execution_count": 98,
   "metadata": {},
   "outputs": [
    {
     "data": {
      "text/plain": [
       "518.2811775077098"
      ]
     },
     "execution_count": 98,
     "metadata": {},
     "output_type": "execute_result"
    }
   ],
   "source": [
    "np.sum(scalarmander[1,:,1]-y_true[384:384+384,120])"
   ]
  },
  {
   "cell_type": "code",
   "execution_count": 168,
   "metadata": {},
   "outputs": [
    {
     "data": {
      "text/plain": [
       "(384,)"
      ]
     },
     "execution_count": 168,
     "metadata": {},
     "output_type": "execute_result"
    }
   ],
   "source": [
    "scalarmander[1,:,1].shape"
   ]
  },
  {
   "cell_type": "code",
   "execution_count": 90,
   "metadata": {},
   "outputs": [
    {
     "data": {
      "text/plain": [
       "1681920"
      ]
     },
     "execution_count": 90,
     "metadata": {},
     "output_type": "execute_result"
    }
   ],
   "source": [
    "y_true.shape[0]"
   ]
  },
  {
   "cell_type": "code",
   "execution_count": 58,
   "metadata": {},
   "outputs": [
    {
     "data": {
      "text/plain": [
       "(60, 4380, 384)"
      ]
     },
     "execution_count": 58,
     "metadata": {},
     "output_type": "execute_result"
    }
   ],
   "source": [
    "hakd = y_true[:, 0:60].reshape((4380, 384, 60)).transpose((2,0,1))/mlo_scale['ptend_t'].values[:,np.newaxis,np.newaxis]\n",
    "hakd.shape"
   ]
  },
  {
   "cell_type": "code",
   "execution_count": 13,
   "metadata": {},
   "outputs": [
    {
     "data": {
      "text/plain": [
       "(60, 4380, 384)"
      ]
     },
     "execution_count": 13,
     "metadata": {},
     "output_type": "execute_result"
    }
   ],
   "source": [
    "y_pred[:, 0:60].reshape((4380, 384, 60)).transpose((2,0,1)).shape"
   ]
  },
  {
   "cell_type": "code",
   "execution_count": 14,
   "metadata": {},
   "outputs": [
    {
     "data": {
      "text/plain": [
       "(4380, 384)"
      ]
     },
     "execution_count": 14,
     "metadata": {},
     "output_type": "execute_result"
    }
   ],
   "source": [
    "pred_ex = np.array(DS_ENERGY['pred'][vars_mlo[2]])\n",
    "pred_ex.shape"
   ]
  },
  {
   "cell_type": "code",
   "execution_count": 15,
   "metadata": {},
   "outputs": [
    {
     "data": {
      "text/plain": [
       "(8, 4380, 384)"
      ]
     },
     "execution_count": 15,
     "metadata": {},
     "output_type": "execute_result"
    }
   ],
   "source": [
    "wowza = y_pred[:,120:].reshape((4380, 384, -1)).transpose((2, 0, 1))\n",
    "wowza.shape"
   ]
  },
  {
   "cell_type": "code",
   "execution_count": null,
   "metadata": {},
   "outputs": [],
   "source": []
  },
  {
   "cell_type": "code",
   "execution_count": 16,
   "metadata": {},
   "outputs": [],
   "source": [
    "wak = y_pred[:,120]"
   ]
  },
  {
   "cell_type": "code",
   "execution_count": 31,
   "metadata": {},
   "outputs": [],
   "source": [
    "state_ps_alt = x_true[:,120]*(mli_max['state_ps'].values - mli_min['state_ps'].values) + mli_mean['state_ps'].values\n",
    "state_ps_alt_reshaped = np.reshape(state_ps_alt, (-1,384))"
   ]
  },
  {
   "cell_type": "code",
   "execution_count": 32,
   "metadata": {},
   "outputs": [
    {
     "data": {
      "text/plain": [
       "(1681920,)"
      ]
     },
     "execution_count": 32,
     "metadata": {},
     "output_type": "execute_result"
    }
   ],
   "source": [
    "state_ps_alt.shape"
   ]
  },
  {
   "cell_type": "code",
   "execution_count": 33,
   "metadata": {},
   "outputs": [
    {
     "data": {
      "text/plain": [
       "(4380, 384)"
      ]
     },
     "execution_count": 33,
     "metadata": {},
     "output_type": "execute_result"
    }
   ],
   "source": [
    "state_ps_alt_reshaped.shape"
   ]
  },
  {
   "cell_type": "code",
   "execution_count": 34,
   "metadata": {},
   "outputs": [],
   "source": [
    "hmm2 = np.array(ds_grid['P0']*ds_grid['hyai'])[:,np.newaxis,np.newaxis] + ds_grid['hybi'].values[:, np.newaxis, np.newaxis] * state_ps_alt_reshaped[np.newaxis, :, :]"
   ]
  },
  {
   "cell_type": "code",
   "execution_count": 35,
   "metadata": {},
   "outputs": [
    {
     "data": {
      "text/plain": [
       "(61, 4380, 384)"
      ]
     },
     "execution_count": 35,
     "metadata": {},
     "output_type": "execute_result"
    }
   ],
   "source": [
    "hmm2.shape"
   ]
  },
  {
   "cell_type": "code",
   "execution_count": 36,
   "metadata": {},
   "outputs": [],
   "source": [
    "lol = hmm2[1:61,:,:] - hmm2[0:60,:,:]"
   ]
  },
  {
   "cell_type": "code",
   "execution_count": 37,
   "metadata": {},
   "outputs": [],
   "source": [
    "dp_ref = DS[kds]['dp'].values"
   ]
  },
  {
   "cell_type": "code",
   "execution_count": 38,
   "metadata": {},
   "outputs": [
    {
     "data": {
      "text/plain": [
       "0.0"
      ]
     },
     "execution_count": 38,
     "metadata": {},
     "output_type": "execute_result"
    }
   ],
   "source": [
    "np.sum(lol-dp_ref)"
   ]
  },
  {
   "cell_type": "code",
   "execution_count": 39,
   "metadata": {},
   "outputs": [
    {
     "data": {
      "text/plain": [
       "(60, 4380, 384)"
      ]
     },
     "execution_count": 39,
     "metadata": {},
     "output_type": "execute_result"
    }
   ],
   "source": [
    "dp_ref.shape"
   ]
  },
  {
   "cell_type": "code",
   "execution_count": 40,
   "metadata": {},
   "outputs": [
    {
     "data": {
      "text/plain": [
       "(1681920,)"
      ]
     },
     "execution_count": 40,
     "metadata": {},
     "output_type": "execute_result"
    }
   ],
   "source": [
    "ds_grid['area_wgt'].shape"
   ]
  },
  {
   "cell_type": "code",
   "execution_count": 41,
   "metadata": {},
   "outputs": [
    {
     "data": {
      "text/html": [
       "<div><svg style=\"position: absolute; width: 0; height: 0; overflow: hidden\">\n",
       "<defs>\n",
       "<symbol id=\"icon-database\" viewBox=\"0 0 32 32\">\n",
       "<path d=\"M16 0c-8.837 0-16 2.239-16 5v4c0 2.761 7.163 5 16 5s16-2.239 16-5v-4c0-2.761-7.163-5-16-5z\"></path>\n",
       "<path d=\"M16 17c-8.837 0-16-2.239-16-5v6c0 2.761 7.163 5 16 5s16-2.239 16-5v-6c0 2.761-7.163 5-16 5z\"></path>\n",
       "<path d=\"M16 26c-8.837 0-16-2.239-16-5v6c0 2.761 7.163 5 16 5s16-2.239 16-5v-6c0 2.761-7.163 5-16 5z\"></path>\n",
       "</symbol>\n",
       "<symbol id=\"icon-file-text2\" viewBox=\"0 0 32 32\">\n",
       "<path d=\"M28.681 7.159c-0.694-0.947-1.662-2.053-2.724-3.116s-2.169-2.030-3.116-2.724c-1.612-1.182-2.393-1.319-2.841-1.319h-15.5c-1.378 0-2.5 1.121-2.5 2.5v27c0 1.378 1.122 2.5 2.5 2.5h23c1.378 0 2.5-1.122 2.5-2.5v-19.5c0-0.448-0.137-1.23-1.319-2.841zM24.543 5.457c0.959 0.959 1.712 1.825 2.268 2.543h-4.811v-4.811c0.718 0.556 1.584 1.309 2.543 2.268zM28 29.5c0 0.271-0.229 0.5-0.5 0.5h-23c-0.271 0-0.5-0.229-0.5-0.5v-27c0-0.271 0.229-0.5 0.5-0.5 0 0 15.499-0 15.5 0v7c0 0.552 0.448 1 1 1h7v19.5z\"></path>\n",
       "<path d=\"M23 26h-14c-0.552 0-1-0.448-1-1s0.448-1 1-1h14c0.552 0 1 0.448 1 1s-0.448 1-1 1z\"></path>\n",
       "<path d=\"M23 22h-14c-0.552 0-1-0.448-1-1s0.448-1 1-1h14c0.552 0 1 0.448 1 1s-0.448 1-1 1z\"></path>\n",
       "<path d=\"M23 18h-14c-0.552 0-1-0.448-1-1s0.448-1 1-1h14c0.552 0 1 0.448 1 1s-0.448 1-1 1z\"></path>\n",
       "</symbol>\n",
       "</defs>\n",
       "</svg>\n",
       "<style>/* CSS stylesheet for displaying xarray objects in jupyterlab.\n",
       " *\n",
       " */\n",
       "\n",
       ":root {\n",
       "  --xr-font-color0: var(--jp-content-font-color0, rgba(0, 0, 0, 1));\n",
       "  --xr-font-color2: var(--jp-content-font-color2, rgba(0, 0, 0, 0.54));\n",
       "  --xr-font-color3: var(--jp-content-font-color3, rgba(0, 0, 0, 0.38));\n",
       "  --xr-border-color: var(--jp-border-color2, #e0e0e0);\n",
       "  --xr-disabled-color: var(--jp-layout-color3, #bdbdbd);\n",
       "  --xr-background-color: var(--jp-layout-color0, white);\n",
       "  --xr-background-color-row-even: var(--jp-layout-color1, white);\n",
       "  --xr-background-color-row-odd: var(--jp-layout-color2, #eeeeee);\n",
       "}\n",
       "\n",
       "html[theme=dark],\n",
       "body[data-theme=dark],\n",
       "body.vscode-dark {\n",
       "  --xr-font-color0: rgba(255, 255, 255, 1);\n",
       "  --xr-font-color2: rgba(255, 255, 255, 0.54);\n",
       "  --xr-font-color3: rgba(255, 255, 255, 0.38);\n",
       "  --xr-border-color: #1F1F1F;\n",
       "  --xr-disabled-color: #515151;\n",
       "  --xr-background-color: #111111;\n",
       "  --xr-background-color-row-even: #111111;\n",
       "  --xr-background-color-row-odd: #313131;\n",
       "}\n",
       "\n",
       ".xr-wrap {\n",
       "  display: block !important;\n",
       "  min-width: 300px;\n",
       "  max-width: 700px;\n",
       "}\n",
       "\n",
       ".xr-text-repr-fallback {\n",
       "  /* fallback to plain text repr when CSS is not injected (untrusted notebook) */\n",
       "  display: none;\n",
       "}\n",
       "\n",
       ".xr-header {\n",
       "  padding-top: 6px;\n",
       "  padding-bottom: 6px;\n",
       "  margin-bottom: 4px;\n",
       "  border-bottom: solid 1px var(--xr-border-color);\n",
       "}\n",
       "\n",
       ".xr-header > div,\n",
       ".xr-header > ul {\n",
       "  display: inline;\n",
       "  margin-top: 0;\n",
       "  margin-bottom: 0;\n",
       "}\n",
       "\n",
       ".xr-obj-type,\n",
       ".xr-array-name {\n",
       "  margin-left: 2px;\n",
       "  margin-right: 10px;\n",
       "}\n",
       "\n",
       ".xr-obj-type {\n",
       "  color: var(--xr-font-color2);\n",
       "}\n",
       "\n",
       ".xr-sections {\n",
       "  padding-left: 0 !important;\n",
       "  display: grid;\n",
       "  grid-template-columns: 150px auto auto 1fr 20px 20px;\n",
       "}\n",
       "\n",
       ".xr-section-item {\n",
       "  display: contents;\n",
       "}\n",
       "\n",
       ".xr-section-item input {\n",
       "  display: none;\n",
       "}\n",
       "\n",
       ".xr-section-item input + label {\n",
       "  color: var(--xr-disabled-color);\n",
       "}\n",
       "\n",
       ".xr-section-item input:enabled + label {\n",
       "  cursor: pointer;\n",
       "  color: var(--xr-font-color2);\n",
       "}\n",
       "\n",
       ".xr-section-item input:enabled + label:hover {\n",
       "  color: var(--xr-font-color0);\n",
       "}\n",
       "\n",
       ".xr-section-summary {\n",
       "  grid-column: 1;\n",
       "  color: var(--xr-font-color2);\n",
       "  font-weight: 500;\n",
       "}\n",
       "\n",
       ".xr-section-summary > span {\n",
       "  display: inline-block;\n",
       "  padding-left: 0.5em;\n",
       "}\n",
       "\n",
       ".xr-section-summary-in:disabled + label {\n",
       "  color: var(--xr-font-color2);\n",
       "}\n",
       "\n",
       ".xr-section-summary-in + label:before {\n",
       "  display: inline-block;\n",
       "  content: '►';\n",
       "  font-size: 11px;\n",
       "  width: 15px;\n",
       "  text-align: center;\n",
       "}\n",
       "\n",
       ".xr-section-summary-in:disabled + label:before {\n",
       "  color: var(--xr-disabled-color);\n",
       "}\n",
       "\n",
       ".xr-section-summary-in:checked + label:before {\n",
       "  content: '▼';\n",
       "}\n",
       "\n",
       ".xr-section-summary-in:checked + label > span {\n",
       "  display: none;\n",
       "}\n",
       "\n",
       ".xr-section-summary,\n",
       ".xr-section-inline-details {\n",
       "  padding-top: 4px;\n",
       "  padding-bottom: 4px;\n",
       "}\n",
       "\n",
       ".xr-section-inline-details {\n",
       "  grid-column: 2 / -1;\n",
       "}\n",
       "\n",
       ".xr-section-details {\n",
       "  display: none;\n",
       "  grid-column: 1 / -1;\n",
       "  margin-bottom: 5px;\n",
       "}\n",
       "\n",
       ".xr-section-summary-in:checked ~ .xr-section-details {\n",
       "  display: contents;\n",
       "}\n",
       "\n",
       ".xr-array-wrap {\n",
       "  grid-column: 1 / -1;\n",
       "  display: grid;\n",
       "  grid-template-columns: 20px auto;\n",
       "}\n",
       "\n",
       ".xr-array-wrap > label {\n",
       "  grid-column: 1;\n",
       "  vertical-align: top;\n",
       "}\n",
       "\n",
       ".xr-preview {\n",
       "  color: var(--xr-font-color3);\n",
       "}\n",
       "\n",
       ".xr-array-preview,\n",
       ".xr-array-data {\n",
       "  padding: 0 5px !important;\n",
       "  grid-column: 2;\n",
       "}\n",
       "\n",
       ".xr-array-data,\n",
       ".xr-array-in:checked ~ .xr-array-preview {\n",
       "  display: none;\n",
       "}\n",
       "\n",
       ".xr-array-in:checked ~ .xr-array-data,\n",
       ".xr-array-preview {\n",
       "  display: inline-block;\n",
       "}\n",
       "\n",
       ".xr-dim-list {\n",
       "  display: inline-block !important;\n",
       "  list-style: none;\n",
       "  padding: 0 !important;\n",
       "  margin: 0;\n",
       "}\n",
       "\n",
       ".xr-dim-list li {\n",
       "  display: inline-block;\n",
       "  padding: 0;\n",
       "  margin: 0;\n",
       "}\n",
       "\n",
       ".xr-dim-list:before {\n",
       "  content: '(';\n",
       "}\n",
       "\n",
       ".xr-dim-list:after {\n",
       "  content: ')';\n",
       "}\n",
       "\n",
       ".xr-dim-list li:not(:last-child):after {\n",
       "  content: ',';\n",
       "  padding-right: 5px;\n",
       "}\n",
       "\n",
       ".xr-has-index {\n",
       "  font-weight: bold;\n",
       "}\n",
       "\n",
       ".xr-var-list,\n",
       ".xr-var-item {\n",
       "  display: contents;\n",
       "}\n",
       "\n",
       ".xr-var-item > div,\n",
       ".xr-var-item label,\n",
       ".xr-var-item > .xr-var-name span {\n",
       "  background-color: var(--xr-background-color-row-even);\n",
       "  margin-bottom: 0;\n",
       "}\n",
       "\n",
       ".xr-var-item > .xr-var-name:hover span {\n",
       "  padding-right: 5px;\n",
       "}\n",
       "\n",
       ".xr-var-list > li:nth-child(odd) > div,\n",
       ".xr-var-list > li:nth-child(odd) > label,\n",
       ".xr-var-list > li:nth-child(odd) > .xr-var-name span {\n",
       "  background-color: var(--xr-background-color-row-odd);\n",
       "}\n",
       "\n",
       ".xr-var-name {\n",
       "  grid-column: 1;\n",
       "}\n",
       "\n",
       ".xr-var-dims {\n",
       "  grid-column: 2;\n",
       "}\n",
       "\n",
       ".xr-var-dtype {\n",
       "  grid-column: 3;\n",
       "  text-align: right;\n",
       "  color: var(--xr-font-color2);\n",
       "}\n",
       "\n",
       ".xr-var-preview {\n",
       "  grid-column: 4;\n",
       "}\n",
       "\n",
       ".xr-var-name,\n",
       ".xr-var-dims,\n",
       ".xr-var-dtype,\n",
       ".xr-preview,\n",
       ".xr-attrs dt {\n",
       "  white-space: nowrap;\n",
       "  overflow: hidden;\n",
       "  text-overflow: ellipsis;\n",
       "  padding-right: 10px;\n",
       "}\n",
       "\n",
       ".xr-var-name:hover,\n",
       ".xr-var-dims:hover,\n",
       ".xr-var-dtype:hover,\n",
       ".xr-attrs dt:hover {\n",
       "  overflow: visible;\n",
       "  width: auto;\n",
       "  z-index: 1;\n",
       "}\n",
       "\n",
       ".xr-var-attrs,\n",
       ".xr-var-data {\n",
       "  display: none;\n",
       "  background-color: var(--xr-background-color) !important;\n",
       "  padding-bottom: 5px !important;\n",
       "}\n",
       "\n",
       ".xr-var-attrs-in:checked ~ .xr-var-attrs,\n",
       ".xr-var-data-in:checked ~ .xr-var-data {\n",
       "  display: block;\n",
       "}\n",
       "\n",
       ".xr-var-data > table {\n",
       "  float: right;\n",
       "}\n",
       "\n",
       ".xr-var-name span,\n",
       ".xr-var-data,\n",
       ".xr-attrs {\n",
       "  padding-left: 25px !important;\n",
       "}\n",
       "\n",
       ".xr-attrs,\n",
       ".xr-var-attrs,\n",
       ".xr-var-data {\n",
       "  grid-column: 1 / -1;\n",
       "}\n",
       "\n",
       "dl.xr-attrs {\n",
       "  padding: 0;\n",
       "  margin: 0;\n",
       "  display: grid;\n",
       "  grid-template-columns: 125px auto;\n",
       "}\n",
       "\n",
       ".xr-attrs dt,\n",
       ".xr-attrs dd {\n",
       "  padding: 0;\n",
       "  margin: 0;\n",
       "  float: left;\n",
       "  padding-right: 10px;\n",
       "  width: auto;\n",
       "}\n",
       "\n",
       ".xr-attrs dt {\n",
       "  font-weight: normal;\n",
       "  grid-column: 1;\n",
       "}\n",
       "\n",
       ".xr-attrs dt:hover span {\n",
       "  display: inline-block;\n",
       "  background: var(--xr-background-color);\n",
       "  padding-right: 10px;\n",
       "}\n",
       "\n",
       ".xr-attrs dd {\n",
       "  grid-column: 2;\n",
       "  white-space: pre-wrap;\n",
       "  word-break: break-all;\n",
       "}\n",
       "\n",
       ".xr-icon-database,\n",
       ".xr-icon-file-text2 {\n",
       "  display: inline-block;\n",
       "  vertical-align: middle;\n",
       "  width: 1em;\n",
       "  height: 1.5em !important;\n",
       "  stroke-width: 0;\n",
       "  stroke: currentColor;\n",
       "  fill: currentColor;\n",
       "}\n",
       "</style><pre class='xr-text-repr-fallback'>&lt;xarray.DataArray &#x27;area_wgt&#x27; (time: 4380, ncol: 384)&gt;\n",
       "array([[0.83877478, 0.9382394 , 0.9382394 , ..., 0.9382394 , 0.9382394 ,\n",
       "        0.83877478],\n",
       "       [0.83877478, 0.9382394 , 0.9382394 , ..., 0.9382394 , 0.9382394 ,\n",
       "        0.83877478],\n",
       "       [0.83877478, 0.9382394 , 0.9382394 , ..., 0.9382394 , 0.9382394 ,\n",
       "        0.83877478],\n",
       "       ...,\n",
       "       [0.83877478, 0.9382394 , 0.9382394 , ..., 0.9382394 , 0.9382394 ,\n",
       "        0.83877478],\n",
       "       [0.83877478, 0.9382394 , 0.9382394 , ..., 0.9382394 , 0.9382394 ,\n",
       "        0.83877478],\n",
       "       [0.83877478, 0.9382394 , 0.9382394 , ..., 0.9382394 , 0.9382394 ,\n",
       "        0.83877478]])\n",
       "Coordinates:\n",
       "  * time     (time) int64 0 1 2 3 4 5 6 7 ... 4373 4374 4375 4376 4377 4378 4379\n",
       "  * ncol     (ncol) int64 0 1 2 3 4 5 6 7 8 ... 376 377 378 379 380 381 382 383</pre><div class='xr-wrap' style='display:none'><div class='xr-header'><div class='xr-obj-type'>xarray.DataArray</div><div class='xr-array-name'>'area_wgt'</div><ul class='xr-dim-list'><li><span class='xr-has-index'>time</span>: 4380</li><li><span class='xr-has-index'>ncol</span>: 384</li></ul></div><ul class='xr-sections'><li class='xr-section-item'><div class='xr-array-wrap'><input id='section-e923feb2-56e3-487b-8b22-c6c70e2c185a' class='xr-array-in' type='checkbox' checked><label for='section-e923feb2-56e3-487b-8b22-c6c70e2c185a' title='Show/hide data repr'><svg class='icon xr-icon-database'><use xlink:href='#icon-database'></use></svg></label><div class='xr-array-preview xr-preview'><span>0.8388 0.9382 0.9382 1.029 0.8926 ... 1.029 0.9382 0.9382 0.8388</span></div><div class='xr-array-data'><pre>array([[0.83877478, 0.9382394 , 0.9382394 , ..., 0.9382394 , 0.9382394 ,\n",
       "        0.83877478],\n",
       "       [0.83877478, 0.9382394 , 0.9382394 , ..., 0.9382394 , 0.9382394 ,\n",
       "        0.83877478],\n",
       "       [0.83877478, 0.9382394 , 0.9382394 , ..., 0.9382394 , 0.9382394 ,\n",
       "        0.83877478],\n",
       "       ...,\n",
       "       [0.83877478, 0.9382394 , 0.9382394 , ..., 0.9382394 , 0.9382394 ,\n",
       "        0.83877478],\n",
       "       [0.83877478, 0.9382394 , 0.9382394 , ..., 0.9382394 , 0.9382394 ,\n",
       "        0.83877478],\n",
       "       [0.83877478, 0.9382394 , 0.9382394 , ..., 0.9382394 , 0.9382394 ,\n",
       "        0.83877478]])</pre></div></div></li><li class='xr-section-item'><input id='section-737b71be-251e-4cf2-a03a-651e25110246' class='xr-section-summary-in' type='checkbox'  checked><label for='section-737b71be-251e-4cf2-a03a-651e25110246' class='xr-section-summary' >Coordinates: <span>(2)</span></label><div class='xr-section-inline-details'></div><div class='xr-section-details'><ul class='xr-var-list'><li class='xr-var-item'><div class='xr-var-name'><span class='xr-has-index'>time</span></div><div class='xr-var-dims'>(time)</div><div class='xr-var-dtype'>int64</div><div class='xr-var-preview xr-preview'>0 1 2 3 4 ... 4376 4377 4378 4379</div><input id='attrs-08881802-88ae-4b80-8dd1-ed78222f1bcc' class='xr-var-attrs-in' type='checkbox' disabled><label for='attrs-08881802-88ae-4b80-8dd1-ed78222f1bcc' title='Show/Hide attributes'><svg class='icon xr-icon-file-text2'><use xlink:href='#icon-file-text2'></use></svg></label><input id='data-2c9e6fc2-4e60-474c-bfd0-4cb74a9adf90' class='xr-var-data-in' type='checkbox'><label for='data-2c9e6fc2-4e60-474c-bfd0-4cb74a9adf90' title='Show/Hide data repr'><svg class='icon xr-icon-database'><use xlink:href='#icon-database'></use></svg></label><div class='xr-var-attrs'><dl class='xr-attrs'></dl></div><div class='xr-var-data'><pre>array([   0,    1,    2, ..., 4377, 4378, 4379])</pre></div></li><li class='xr-var-item'><div class='xr-var-name'><span class='xr-has-index'>ncol</span></div><div class='xr-var-dims'>(ncol)</div><div class='xr-var-dtype'>int64</div><div class='xr-var-preview xr-preview'>0 1 2 3 4 5 ... 379 380 381 382 383</div><input id='attrs-953e1765-2fbe-4558-b7f0-35e76c798025' class='xr-var-attrs-in' type='checkbox' disabled><label for='attrs-953e1765-2fbe-4558-b7f0-35e76c798025' title='Show/Hide attributes'><svg class='icon xr-icon-file-text2'><use xlink:href='#icon-file-text2'></use></svg></label><input id='data-77e1caa7-f7ca-45b5-8e15-22b31c9d89eb' class='xr-var-data-in' type='checkbox'><label for='data-77e1caa7-f7ca-45b5-8e15-22b31c9d89eb' title='Show/Hide data repr'><svg class='icon xr-icon-database'><use xlink:href='#icon-database'></use></svg></label><div class='xr-var-attrs'><dl class='xr-attrs'></dl></div><div class='xr-var-data'><pre>array([  0,   1,   2, ..., 381, 382, 383])</pre></div></li></ul></div></li><li class='xr-section-item'><input id='section-7029fc68-089b-468b-b6ee-e155f9d1664e' class='xr-section-summary-in' type='checkbox' disabled ><label for='section-7029fc68-089b-468b-b6ee-e155f9d1664e' class='xr-section-summary'  title='Expand/collapse section'>Attributes: <span>(0)</span></label><div class='xr-section-inline-details'></div><div class='xr-section-details'><dl class='xr-attrs'></dl></div></li></ul></div></div>"
      ],
      "text/plain": [
       "<xarray.DataArray 'area_wgt' (time: 4380, ncol: 384)>\n",
       "array([[0.83877478, 0.9382394 , 0.9382394 , ..., 0.9382394 , 0.9382394 ,\n",
       "        0.83877478],\n",
       "       [0.83877478, 0.9382394 , 0.9382394 , ..., 0.9382394 , 0.9382394 ,\n",
       "        0.83877478],\n",
       "       [0.83877478, 0.9382394 , 0.9382394 , ..., 0.9382394 , 0.9382394 ,\n",
       "        0.83877478],\n",
       "       ...,\n",
       "       [0.83877478, 0.9382394 , 0.9382394 , ..., 0.9382394 , 0.9382394 ,\n",
       "        0.83877478],\n",
       "       [0.83877478, 0.9382394 , 0.9382394 , ..., 0.9382394 , 0.9382394 ,\n",
       "        0.83877478],\n",
       "       [0.83877478, 0.9382394 , 0.9382394 , ..., 0.9382394 , 0.9382394 ,\n",
       "        0.83877478]])\n",
       "Coordinates:\n",
       "  * time     (time) int64 0 1 2 3 4 5 6 7 ... 4373 4374 4375 4376 4377 4378 4379\n",
       "  * ncol     (ncol) int64 0 1 2 3 4 5 6 7 8 ... 376 377 378 379 380 381 382 383"
      ]
     },
     "execution_count": 41,
     "metadata": {},
     "output_type": "execute_result"
    }
   ],
   "source": [
    "DS['true']['area_wgt']"
   ]
  },
  {
   "cell_type": "code",
   "execution_count": 42,
   "metadata": {},
   "outputs": [],
   "source": [
    "okeh = y_pred[:, 0:60].shape"
   ]
  },
  {
   "cell_type": "code",
   "execution_count": 43,
   "metadata": {},
   "outputs": [
    {
     "data": {
      "text/plain": [
       "(1681920, 60)"
      ]
     },
     "execution_count": 43,
     "metadata": {},
     "output_type": "execute_result"
    }
   ],
   "source": [
    "okeh"
   ]
  },
  {
   "cell_type": "code",
   "execution_count": null,
   "metadata": {},
   "outputs": [],
   "source": []
  },
  {
   "cell_type": "code",
   "execution_count": 44,
   "metadata": {},
   "outputs": [
    {
     "data": {
      "text/html": [
       "<div><svg style=\"position: absolute; width: 0; height: 0; overflow: hidden\">\n",
       "<defs>\n",
       "<symbol id=\"icon-database\" viewBox=\"0 0 32 32\">\n",
       "<path d=\"M16 0c-8.837 0-16 2.239-16 5v4c0 2.761 7.163 5 16 5s16-2.239 16-5v-4c0-2.761-7.163-5-16-5z\"></path>\n",
       "<path d=\"M16 17c-8.837 0-16-2.239-16-5v6c0 2.761 7.163 5 16 5s16-2.239 16-5v-6c0 2.761-7.163 5-16 5z\"></path>\n",
       "<path d=\"M16 26c-8.837 0-16-2.239-16-5v6c0 2.761 7.163 5 16 5s16-2.239 16-5v-6c0 2.761-7.163 5-16 5z\"></path>\n",
       "</symbol>\n",
       "<symbol id=\"icon-file-text2\" viewBox=\"0 0 32 32\">\n",
       "<path d=\"M28.681 7.159c-0.694-0.947-1.662-2.053-2.724-3.116s-2.169-2.030-3.116-2.724c-1.612-1.182-2.393-1.319-2.841-1.319h-15.5c-1.378 0-2.5 1.121-2.5 2.5v27c0 1.378 1.122 2.5 2.5 2.5h23c1.378 0 2.5-1.122 2.5-2.5v-19.5c0-0.448-0.137-1.23-1.319-2.841zM24.543 5.457c0.959 0.959 1.712 1.825 2.268 2.543h-4.811v-4.811c0.718 0.556 1.584 1.309 2.543 2.268zM28 29.5c0 0.271-0.229 0.5-0.5 0.5h-23c-0.271 0-0.5-0.229-0.5-0.5v-27c0-0.271 0.229-0.5 0.5-0.5 0 0 15.499-0 15.5 0v7c0 0.552 0.448 1 1 1h7v19.5z\"></path>\n",
       "<path d=\"M23 26h-14c-0.552 0-1-0.448-1-1s0.448-1 1-1h14c0.552 0 1 0.448 1 1s-0.448 1-1 1z\"></path>\n",
       "<path d=\"M23 22h-14c-0.552 0-1-0.448-1-1s0.448-1 1-1h14c0.552 0 1 0.448 1 1s-0.448 1-1 1z\"></path>\n",
       "<path d=\"M23 18h-14c-0.552 0-1-0.448-1-1s0.448-1 1-1h14c0.552 0 1 0.448 1 1s-0.448 1-1 1z\"></path>\n",
       "</symbol>\n",
       "</defs>\n",
       "</svg>\n",
       "<style>/* CSS stylesheet for displaying xarray objects in jupyterlab.\n",
       " *\n",
       " */\n",
       "\n",
       ":root {\n",
       "  --xr-font-color0: var(--jp-content-font-color0, rgba(0, 0, 0, 1));\n",
       "  --xr-font-color2: var(--jp-content-font-color2, rgba(0, 0, 0, 0.54));\n",
       "  --xr-font-color3: var(--jp-content-font-color3, rgba(0, 0, 0, 0.38));\n",
       "  --xr-border-color: var(--jp-border-color2, #e0e0e0);\n",
       "  --xr-disabled-color: var(--jp-layout-color3, #bdbdbd);\n",
       "  --xr-background-color: var(--jp-layout-color0, white);\n",
       "  --xr-background-color-row-even: var(--jp-layout-color1, white);\n",
       "  --xr-background-color-row-odd: var(--jp-layout-color2, #eeeeee);\n",
       "}\n",
       "\n",
       "html[theme=dark],\n",
       "body[data-theme=dark],\n",
       "body.vscode-dark {\n",
       "  --xr-font-color0: rgba(255, 255, 255, 1);\n",
       "  --xr-font-color2: rgba(255, 255, 255, 0.54);\n",
       "  --xr-font-color3: rgba(255, 255, 255, 0.38);\n",
       "  --xr-border-color: #1F1F1F;\n",
       "  --xr-disabled-color: #515151;\n",
       "  --xr-background-color: #111111;\n",
       "  --xr-background-color-row-even: #111111;\n",
       "  --xr-background-color-row-odd: #313131;\n",
       "}\n",
       "\n",
       ".xr-wrap {\n",
       "  display: block !important;\n",
       "  min-width: 300px;\n",
       "  max-width: 700px;\n",
       "}\n",
       "\n",
       ".xr-text-repr-fallback {\n",
       "  /* fallback to plain text repr when CSS is not injected (untrusted notebook) */\n",
       "  display: none;\n",
       "}\n",
       "\n",
       ".xr-header {\n",
       "  padding-top: 6px;\n",
       "  padding-bottom: 6px;\n",
       "  margin-bottom: 4px;\n",
       "  border-bottom: solid 1px var(--xr-border-color);\n",
       "}\n",
       "\n",
       ".xr-header > div,\n",
       ".xr-header > ul {\n",
       "  display: inline;\n",
       "  margin-top: 0;\n",
       "  margin-bottom: 0;\n",
       "}\n",
       "\n",
       ".xr-obj-type,\n",
       ".xr-array-name {\n",
       "  margin-left: 2px;\n",
       "  margin-right: 10px;\n",
       "}\n",
       "\n",
       ".xr-obj-type {\n",
       "  color: var(--xr-font-color2);\n",
       "}\n",
       "\n",
       ".xr-sections {\n",
       "  padding-left: 0 !important;\n",
       "  display: grid;\n",
       "  grid-template-columns: 150px auto auto 1fr 20px 20px;\n",
       "}\n",
       "\n",
       ".xr-section-item {\n",
       "  display: contents;\n",
       "}\n",
       "\n",
       ".xr-section-item input {\n",
       "  display: none;\n",
       "}\n",
       "\n",
       ".xr-section-item input + label {\n",
       "  color: var(--xr-disabled-color);\n",
       "}\n",
       "\n",
       ".xr-section-item input:enabled + label {\n",
       "  cursor: pointer;\n",
       "  color: var(--xr-font-color2);\n",
       "}\n",
       "\n",
       ".xr-section-item input:enabled + label:hover {\n",
       "  color: var(--xr-font-color0);\n",
       "}\n",
       "\n",
       ".xr-section-summary {\n",
       "  grid-column: 1;\n",
       "  color: var(--xr-font-color2);\n",
       "  font-weight: 500;\n",
       "}\n",
       "\n",
       ".xr-section-summary > span {\n",
       "  display: inline-block;\n",
       "  padding-left: 0.5em;\n",
       "}\n",
       "\n",
       ".xr-section-summary-in:disabled + label {\n",
       "  color: var(--xr-font-color2);\n",
       "}\n",
       "\n",
       ".xr-section-summary-in + label:before {\n",
       "  display: inline-block;\n",
       "  content: '►';\n",
       "  font-size: 11px;\n",
       "  width: 15px;\n",
       "  text-align: center;\n",
       "}\n",
       "\n",
       ".xr-section-summary-in:disabled + label:before {\n",
       "  color: var(--xr-disabled-color);\n",
       "}\n",
       "\n",
       ".xr-section-summary-in:checked + label:before {\n",
       "  content: '▼';\n",
       "}\n",
       "\n",
       ".xr-section-summary-in:checked + label > span {\n",
       "  display: none;\n",
       "}\n",
       "\n",
       ".xr-section-summary,\n",
       ".xr-section-inline-details {\n",
       "  padding-top: 4px;\n",
       "  padding-bottom: 4px;\n",
       "}\n",
       "\n",
       ".xr-section-inline-details {\n",
       "  grid-column: 2 / -1;\n",
       "}\n",
       "\n",
       ".xr-section-details {\n",
       "  display: none;\n",
       "  grid-column: 1 / -1;\n",
       "  margin-bottom: 5px;\n",
       "}\n",
       "\n",
       ".xr-section-summary-in:checked ~ .xr-section-details {\n",
       "  display: contents;\n",
       "}\n",
       "\n",
       ".xr-array-wrap {\n",
       "  grid-column: 1 / -1;\n",
       "  display: grid;\n",
       "  grid-template-columns: 20px auto;\n",
       "}\n",
       "\n",
       ".xr-array-wrap > label {\n",
       "  grid-column: 1;\n",
       "  vertical-align: top;\n",
       "}\n",
       "\n",
       ".xr-preview {\n",
       "  color: var(--xr-font-color3);\n",
       "}\n",
       "\n",
       ".xr-array-preview,\n",
       ".xr-array-data {\n",
       "  padding: 0 5px !important;\n",
       "  grid-column: 2;\n",
       "}\n",
       "\n",
       ".xr-array-data,\n",
       ".xr-array-in:checked ~ .xr-array-preview {\n",
       "  display: none;\n",
       "}\n",
       "\n",
       ".xr-array-in:checked ~ .xr-array-data,\n",
       ".xr-array-preview {\n",
       "  display: inline-block;\n",
       "}\n",
       "\n",
       ".xr-dim-list {\n",
       "  display: inline-block !important;\n",
       "  list-style: none;\n",
       "  padding: 0 !important;\n",
       "  margin: 0;\n",
       "}\n",
       "\n",
       ".xr-dim-list li {\n",
       "  display: inline-block;\n",
       "  padding: 0;\n",
       "  margin: 0;\n",
       "}\n",
       "\n",
       ".xr-dim-list:before {\n",
       "  content: '(';\n",
       "}\n",
       "\n",
       ".xr-dim-list:after {\n",
       "  content: ')';\n",
       "}\n",
       "\n",
       ".xr-dim-list li:not(:last-child):after {\n",
       "  content: ',';\n",
       "  padding-right: 5px;\n",
       "}\n",
       "\n",
       ".xr-has-index {\n",
       "  font-weight: bold;\n",
       "}\n",
       "\n",
       ".xr-var-list,\n",
       ".xr-var-item {\n",
       "  display: contents;\n",
       "}\n",
       "\n",
       ".xr-var-item > div,\n",
       ".xr-var-item label,\n",
       ".xr-var-item > .xr-var-name span {\n",
       "  background-color: var(--xr-background-color-row-even);\n",
       "  margin-bottom: 0;\n",
       "}\n",
       "\n",
       ".xr-var-item > .xr-var-name:hover span {\n",
       "  padding-right: 5px;\n",
       "}\n",
       "\n",
       ".xr-var-list > li:nth-child(odd) > div,\n",
       ".xr-var-list > li:nth-child(odd) > label,\n",
       ".xr-var-list > li:nth-child(odd) > .xr-var-name span {\n",
       "  background-color: var(--xr-background-color-row-odd);\n",
       "}\n",
       "\n",
       ".xr-var-name {\n",
       "  grid-column: 1;\n",
       "}\n",
       "\n",
       ".xr-var-dims {\n",
       "  grid-column: 2;\n",
       "}\n",
       "\n",
       ".xr-var-dtype {\n",
       "  grid-column: 3;\n",
       "  text-align: right;\n",
       "  color: var(--xr-font-color2);\n",
       "}\n",
       "\n",
       ".xr-var-preview {\n",
       "  grid-column: 4;\n",
       "}\n",
       "\n",
       ".xr-var-name,\n",
       ".xr-var-dims,\n",
       ".xr-var-dtype,\n",
       ".xr-preview,\n",
       ".xr-attrs dt {\n",
       "  white-space: nowrap;\n",
       "  overflow: hidden;\n",
       "  text-overflow: ellipsis;\n",
       "  padding-right: 10px;\n",
       "}\n",
       "\n",
       ".xr-var-name:hover,\n",
       ".xr-var-dims:hover,\n",
       ".xr-var-dtype:hover,\n",
       ".xr-attrs dt:hover {\n",
       "  overflow: visible;\n",
       "  width: auto;\n",
       "  z-index: 1;\n",
       "}\n",
       "\n",
       ".xr-var-attrs,\n",
       ".xr-var-data {\n",
       "  display: none;\n",
       "  background-color: var(--xr-background-color) !important;\n",
       "  padding-bottom: 5px !important;\n",
       "}\n",
       "\n",
       ".xr-var-attrs-in:checked ~ .xr-var-attrs,\n",
       ".xr-var-data-in:checked ~ .xr-var-data {\n",
       "  display: block;\n",
       "}\n",
       "\n",
       ".xr-var-data > table {\n",
       "  float: right;\n",
       "}\n",
       "\n",
       ".xr-var-name span,\n",
       ".xr-var-data,\n",
       ".xr-attrs {\n",
       "  padding-left: 25px !important;\n",
       "}\n",
       "\n",
       ".xr-attrs,\n",
       ".xr-var-attrs,\n",
       ".xr-var-data {\n",
       "  grid-column: 1 / -1;\n",
       "}\n",
       "\n",
       "dl.xr-attrs {\n",
       "  padding: 0;\n",
       "  margin: 0;\n",
       "  display: grid;\n",
       "  grid-template-columns: 125px auto;\n",
       "}\n",
       "\n",
       ".xr-attrs dt,\n",
       ".xr-attrs dd {\n",
       "  padding: 0;\n",
       "  margin: 0;\n",
       "  float: left;\n",
       "  padding-right: 10px;\n",
       "  width: auto;\n",
       "}\n",
       "\n",
       ".xr-attrs dt {\n",
       "  font-weight: normal;\n",
       "  grid-column: 1;\n",
       "}\n",
       "\n",
       ".xr-attrs dt:hover span {\n",
       "  display: inline-block;\n",
       "  background: var(--xr-background-color);\n",
       "  padding-right: 10px;\n",
       "}\n",
       "\n",
       ".xr-attrs dd {\n",
       "  grid-column: 2;\n",
       "  white-space: pre-wrap;\n",
       "  word-break: break-all;\n",
       "}\n",
       "\n",
       ".xr-icon-database,\n",
       ".xr-icon-file-text2 {\n",
       "  display: inline-block;\n",
       "  vertical-align: middle;\n",
       "  width: 1em;\n",
       "  height: 1.5em !important;\n",
       "  stroke-width: 0;\n",
       "  stroke: currentColor;\n",
       "  fill: currentColor;\n",
       "}\n",
       "</style><pre class='xr-text-repr-fallback'>&lt;xarray.DataArray &#x27;dp&#x27; (lev: 60, time: 4380, ncol: 384)&gt;\n",
       "array([[[   4.49334817,    4.49334817,    4.49334817, ...,\n",
       "            4.49334817,    4.49334817,    4.49334817],\n",
       "        [   4.49334817,    4.49334817,    4.49334817, ...,\n",
       "            4.49334817,    4.49334817,    4.49334817],\n",
       "        [   4.49334817,    4.49334817,    4.49334817, ...,\n",
       "            4.49334817,    4.49334817,    4.49334817],\n",
       "        ...,\n",
       "        [   4.49334817,    4.49334817,    4.49334817, ...,\n",
       "            4.49334817,    4.49334817,    4.49334817],\n",
       "        [   4.49334817,    4.49334817,    4.49334817, ...,\n",
       "            4.49334817,    4.49334817,    4.49334817],\n",
       "        [   4.49334817,    4.49334817,    4.49334817, ...,\n",
       "            4.49334817,    4.49334817,    4.49334817]],\n",
       "\n",
       "       [[   8.05875326,    8.05875326,    8.05875326, ...,\n",
       "            8.05875326,    8.05875326,    8.05875326],\n",
       "        [   8.05875326,    8.05875326,    8.05875326, ...,\n",
       "            8.05875326,    8.05875326,    8.05875326],\n",
       "        [   8.05875326,    8.05875326,    8.05875326, ...,\n",
       "            8.05875326,    8.05875326,    8.05875326],\n",
       "...\n",
       "        [1459.9266813 , 1471.22505066, 1430.42324241, ...,\n",
       "         1385.27574414, 1465.39475656, 1464.28781425],\n",
       "        [1458.73305834, 1470.35831927, 1429.63945825, ...,\n",
       "         1385.80204525, 1466.67312371, 1465.17957177],\n",
       "        [1459.75239868, 1471.00650404, 1431.74712721, ...,\n",
       "         1387.53251194, 1467.96758963, 1467.26054248]],\n",
       "\n",
       "       [[1489.97206792, 1502.89740105, 1458.63716644, ...,\n",
       "         1384.42388415, 1458.37787713, 1460.30758745],\n",
       "        [1489.4934162 , 1501.23566766, 1458.43904255, ...,\n",
       "         1384.08881605, 1457.67663963, 1459.64745319],\n",
       "        [1487.3687768 , 1500.10258501, 1455.3836193 , ...,\n",
       "         1382.80318621, 1457.16745813, 1458.11426899],\n",
       "        ...,\n",
       "        [1481.41055125, 1492.87518424, 1451.47294806, ...,\n",
       "         1405.66107192, 1486.95909317, 1485.83586141],\n",
       "        [1480.19936327, 1491.99569827, 1450.67762996, ...,\n",
       "         1406.19511793, 1488.25627241, 1486.74074177],\n",
       "        [1481.23370393, 1492.65342155, 1452.81631478, ...,\n",
       "         1407.95104968, 1489.56978733, 1488.85233547]]])\n",
       "Coordinates:\n",
       "  * time     (time) int64 0 1 2 3 4 5 6 7 ... 4373 4374 4375 4376 4377 4378 4379\n",
       "  * ncol     (ncol) int64 0 1 2 3 4 5 6 7 8 ... 376 377 378 379 380 381 382 383\n",
       "  * lev      (lev) float64 0.07835 0.1411 0.2529 0.4493 ... 963.6 978.0 992.6</pre><div class='xr-wrap' style='display:none'><div class='xr-header'><div class='xr-obj-type'>xarray.DataArray</div><div class='xr-array-name'>'dp'</div><ul class='xr-dim-list'><li><span class='xr-has-index'>lev</span>: 60</li><li><span class='xr-has-index'>time</span>: 4380</li><li><span class='xr-has-index'>ncol</span>: 384</li></ul></div><ul class='xr-sections'><li class='xr-section-item'><div class='xr-array-wrap'><input id='section-f820509c-6404-489c-a165-f546c55345fa' class='xr-array-in' type='checkbox' checked><label for='section-f820509c-6404-489c-a165-f546c55345fa' title='Show/hide data repr'><svg class='icon xr-icon-database'><use xlink:href='#icon-database'></use></svg></label><div class='xr-array-preview xr-preview'><span>4.493 4.493 4.493 4.493 ... 1.439e+03 1.408e+03 1.49e+03 1.489e+03</span></div><div class='xr-array-data'><pre>array([[[   4.49334817,    4.49334817,    4.49334817, ...,\n",
       "            4.49334817,    4.49334817,    4.49334817],\n",
       "        [   4.49334817,    4.49334817,    4.49334817, ...,\n",
       "            4.49334817,    4.49334817,    4.49334817],\n",
       "        [   4.49334817,    4.49334817,    4.49334817, ...,\n",
       "            4.49334817,    4.49334817,    4.49334817],\n",
       "        ...,\n",
       "        [   4.49334817,    4.49334817,    4.49334817, ...,\n",
       "            4.49334817,    4.49334817,    4.49334817],\n",
       "        [   4.49334817,    4.49334817,    4.49334817, ...,\n",
       "            4.49334817,    4.49334817,    4.49334817],\n",
       "        [   4.49334817,    4.49334817,    4.49334817, ...,\n",
       "            4.49334817,    4.49334817,    4.49334817]],\n",
       "\n",
       "       [[   8.05875326,    8.05875326,    8.05875326, ...,\n",
       "            8.05875326,    8.05875326,    8.05875326],\n",
       "        [   8.05875326,    8.05875326,    8.05875326, ...,\n",
       "            8.05875326,    8.05875326,    8.05875326],\n",
       "        [   8.05875326,    8.05875326,    8.05875326, ...,\n",
       "            8.05875326,    8.05875326,    8.05875326],\n",
       "...\n",
       "        [1459.9266813 , 1471.22505066, 1430.42324241, ...,\n",
       "         1385.27574414, 1465.39475656, 1464.28781425],\n",
       "        [1458.73305834, 1470.35831927, 1429.63945825, ...,\n",
       "         1385.80204525, 1466.67312371, 1465.17957177],\n",
       "        [1459.75239868, 1471.00650404, 1431.74712721, ...,\n",
       "         1387.53251194, 1467.96758963, 1467.26054248]],\n",
       "\n",
       "       [[1489.97206792, 1502.89740105, 1458.63716644, ...,\n",
       "         1384.42388415, 1458.37787713, 1460.30758745],\n",
       "        [1489.4934162 , 1501.23566766, 1458.43904255, ...,\n",
       "         1384.08881605, 1457.67663963, 1459.64745319],\n",
       "        [1487.3687768 , 1500.10258501, 1455.3836193 , ...,\n",
       "         1382.80318621, 1457.16745813, 1458.11426899],\n",
       "        ...,\n",
       "        [1481.41055125, 1492.87518424, 1451.47294806, ...,\n",
       "         1405.66107192, 1486.95909317, 1485.83586141],\n",
       "        [1480.19936327, 1491.99569827, 1450.67762996, ...,\n",
       "         1406.19511793, 1488.25627241, 1486.74074177],\n",
       "        [1481.23370393, 1492.65342155, 1452.81631478, ...,\n",
       "         1407.95104968, 1489.56978733, 1488.85233547]]])</pre></div></div></li><li class='xr-section-item'><input id='section-4bb0f9df-79f0-4f48-bc67-81e9955e13ea' class='xr-section-summary-in' type='checkbox'  checked><label for='section-4bb0f9df-79f0-4f48-bc67-81e9955e13ea' class='xr-section-summary' >Coordinates: <span>(3)</span></label><div class='xr-section-inline-details'></div><div class='xr-section-details'><ul class='xr-var-list'><li class='xr-var-item'><div class='xr-var-name'><span class='xr-has-index'>time</span></div><div class='xr-var-dims'>(time)</div><div class='xr-var-dtype'>int64</div><div class='xr-var-preview xr-preview'>0 1 2 3 4 ... 4376 4377 4378 4379</div><input id='attrs-25b9fe3f-1572-4adb-a1f8-1de5fe5491bd' class='xr-var-attrs-in' type='checkbox' disabled><label for='attrs-25b9fe3f-1572-4adb-a1f8-1de5fe5491bd' title='Show/Hide attributes'><svg class='icon xr-icon-file-text2'><use xlink:href='#icon-file-text2'></use></svg></label><input id='data-4b5e1451-bb0b-4653-b4b5-b0ce61c99a61' class='xr-var-data-in' type='checkbox'><label for='data-4b5e1451-bb0b-4653-b4b5-b0ce61c99a61' title='Show/Hide data repr'><svg class='icon xr-icon-database'><use xlink:href='#icon-database'></use></svg></label><div class='xr-var-attrs'><dl class='xr-attrs'></dl></div><div class='xr-var-data'><pre>array([   0,    1,    2, ..., 4377, 4378, 4379])</pre></div></li><li class='xr-var-item'><div class='xr-var-name'><span class='xr-has-index'>ncol</span></div><div class='xr-var-dims'>(ncol)</div><div class='xr-var-dtype'>int64</div><div class='xr-var-preview xr-preview'>0 1 2 3 4 5 ... 379 380 381 382 383</div><input id='attrs-26f8e874-5d83-4718-b5ce-3878bdf6b5b4' class='xr-var-attrs-in' type='checkbox' disabled><label for='attrs-26f8e874-5d83-4718-b5ce-3878bdf6b5b4' title='Show/Hide attributes'><svg class='icon xr-icon-file-text2'><use xlink:href='#icon-file-text2'></use></svg></label><input id='data-d4ac6caa-722c-4b62-b47a-93d456c69e08' class='xr-var-data-in' type='checkbox'><label for='data-d4ac6caa-722c-4b62-b47a-93d456c69e08' title='Show/Hide data repr'><svg class='icon xr-icon-database'><use xlink:href='#icon-database'></use></svg></label><div class='xr-var-attrs'><dl class='xr-attrs'></dl></div><div class='xr-var-data'><pre>array([  0,   1,   2, ..., 381, 382, 383])</pre></div></li><li class='xr-var-item'><div class='xr-var-name'><span class='xr-has-index'>lev</span></div><div class='xr-var-dims'>(lev)</div><div class='xr-var-dtype'>float64</div><div class='xr-var-preview xr-preview'>0.07835 0.1411 ... 978.0 992.6</div><input id='attrs-6788b824-1305-42a4-bb62-3cf0fb3765fb' class='xr-var-attrs-in' type='checkbox' ><label for='attrs-6788b824-1305-42a4-bb62-3cf0fb3765fb' title='Show/Hide attributes'><svg class='icon xr-icon-file-text2'><use xlink:href='#icon-file-text2'></use></svg></label><input id='data-fe23e068-415f-4118-9dfd-c0d83e3c8bd8' class='xr-var-data-in' type='checkbox'><label for='data-fe23e068-415f-4118-9dfd-c0d83e3c8bd8' title='Show/Hide data repr'><svg class='icon xr-icon-database'><use xlink:href='#icon-database'></use></svg></label><div class='xr-var-attrs'><dl class='xr-attrs'><dt><span>long_name :</span></dt><dd>hybrid level at midpoints (1000*(A+B))</dd><dt><span>units :</span></dt><dd>hPa</dd><dt><span>positive :</span></dt><dd>down</dd><dt><span>standard_name :</span></dt><dd>atmosphere_hybrid_sigma_pressure_coordinate</dd><dt><span>formula_terms :</span></dt><dd>a: hyam b: hybm p0: P0 ps: PS</dd></dl></div><div class='xr-var-data'><pre>array([7.834781e-02, 1.411083e-01, 2.529233e-01, 4.492506e-01, 7.863462e-01,\n",
       "       1.347356e+00, 2.244777e+00, 3.616431e+00, 5.615836e+00, 8.403253e+00,\n",
       "       1.214449e+01, 1.701683e+01, 2.321080e+01, 3.091435e+01, 4.027758e+01,\n",
       "       5.137463e+01, 6.418923e+01, 7.863966e+01, 9.463009e+01, 1.120913e+02,\n",
       "       1.309778e+02, 1.512213e+02, 1.726739e+02, 1.950877e+02, 2.181559e+02,\n",
       "       2.416004e+02, 2.652585e+02, 2.891223e+02, 3.133121e+02, 3.380070e+02,\n",
       "       3.633735e+02, 3.895233e+02, 4.165079e+02, 4.443314e+02, 4.729572e+02,\n",
       "       5.022919e+02, 5.321523e+02, 5.622394e+02, 5.921493e+02, 6.214328e+02,\n",
       "       6.496899e+02, 6.766565e+02, 7.022422e+02, 7.264986e+02, 7.495376e+02,\n",
       "       7.714452e+02, 7.922343e+02, 8.118567e+02, 8.302596e+02, 8.474507e+02,\n",
       "       8.635359e+02, 8.787159e+02, 8.932460e+02, 9.073852e+02, 9.213544e+02,\n",
       "       9.353167e+02, 9.493781e+02, 9.635996e+02, 9.780134e+02, 9.926355e+02])</pre></div></li></ul></div></li><li class='xr-section-item'><input id='section-9f0bc0ed-6a26-45e8-86fa-f65ceadefa62' class='xr-section-summary-in' type='checkbox' disabled ><label for='section-9f0bc0ed-6a26-45e8-86fa-f65ceadefa62' class='xr-section-summary'  title='Expand/collapse section'>Attributes: <span>(0)</span></label><div class='xr-section-inline-details'></div><div class='xr-section-details'><dl class='xr-attrs'></dl></div></li></ul></div></div>"
      ],
      "text/plain": [
       "<xarray.DataArray 'dp' (lev: 60, time: 4380, ncol: 384)>\n",
       "array([[[   4.49334817,    4.49334817,    4.49334817, ...,\n",
       "            4.49334817,    4.49334817,    4.49334817],\n",
       "        [   4.49334817,    4.49334817,    4.49334817, ...,\n",
       "            4.49334817,    4.49334817,    4.49334817],\n",
       "        [   4.49334817,    4.49334817,    4.49334817, ...,\n",
       "            4.49334817,    4.49334817,    4.49334817],\n",
       "        ...,\n",
       "        [   4.49334817,    4.49334817,    4.49334817, ...,\n",
       "            4.49334817,    4.49334817,    4.49334817],\n",
       "        [   4.49334817,    4.49334817,    4.49334817, ...,\n",
       "            4.49334817,    4.49334817,    4.49334817],\n",
       "        [   4.49334817,    4.49334817,    4.49334817, ...,\n",
       "            4.49334817,    4.49334817,    4.49334817]],\n",
       "\n",
       "       [[   8.05875326,    8.05875326,    8.05875326, ...,\n",
       "            8.05875326,    8.05875326,    8.05875326],\n",
       "        [   8.05875326,    8.05875326,    8.05875326, ...,\n",
       "            8.05875326,    8.05875326,    8.05875326],\n",
       "        [   8.05875326,    8.05875326,    8.05875326, ...,\n",
       "            8.05875326,    8.05875326,    8.05875326],\n",
       "...\n",
       "        [1459.9266813 , 1471.22505066, 1430.42324241, ...,\n",
       "         1385.27574414, 1465.39475656, 1464.28781425],\n",
       "        [1458.73305834, 1470.35831927, 1429.63945825, ...,\n",
       "         1385.80204525, 1466.67312371, 1465.17957177],\n",
       "        [1459.75239868, 1471.00650404, 1431.74712721, ...,\n",
       "         1387.53251194, 1467.96758963, 1467.26054248]],\n",
       "\n",
       "       [[1489.97206792, 1502.89740105, 1458.63716644, ...,\n",
       "         1384.42388415, 1458.37787713, 1460.30758745],\n",
       "        [1489.4934162 , 1501.23566766, 1458.43904255, ...,\n",
       "         1384.08881605, 1457.67663963, 1459.64745319],\n",
       "        [1487.3687768 , 1500.10258501, 1455.3836193 , ...,\n",
       "         1382.80318621, 1457.16745813, 1458.11426899],\n",
       "        ...,\n",
       "        [1481.41055125, 1492.87518424, 1451.47294806, ...,\n",
       "         1405.66107192, 1486.95909317, 1485.83586141],\n",
       "        [1480.19936327, 1491.99569827, 1450.67762996, ...,\n",
       "         1406.19511793, 1488.25627241, 1486.74074177],\n",
       "        [1481.23370393, 1492.65342155, 1452.81631478, ...,\n",
       "         1407.95104968, 1489.56978733, 1488.85233547]]])\n",
       "Coordinates:\n",
       "  * time     (time) int64 0 1 2 3 4 5 6 7 ... 4373 4374 4375 4376 4377 4378 4379\n",
       "  * ncol     (ncol) int64 0 1 2 3 4 5 6 7 8 ... 376 377 378 379 380 381 382 383\n",
       "  * lev      (lev) float64 0.07835 0.1411 0.2529 0.4493 ... 963.6 978.0 992.6"
      ]
     },
     "execution_count": 44,
     "metadata": {},
     "output_type": "execute_result"
    }
   ],
   "source": [
    "DS['true']['dp']"
   ]
  },
  {
   "cell_type": "code",
   "execution_count": 45,
   "metadata": {},
   "outputs": [
    {
     "data": {
      "text/html": [
       "<div><svg style=\"position: absolute; width: 0; height: 0; overflow: hidden\">\n",
       "<defs>\n",
       "<symbol id=\"icon-database\" viewBox=\"0 0 32 32\">\n",
       "<path d=\"M16 0c-8.837 0-16 2.239-16 5v4c0 2.761 7.163 5 16 5s16-2.239 16-5v-4c0-2.761-7.163-5-16-5z\"></path>\n",
       "<path d=\"M16 17c-8.837 0-16-2.239-16-5v6c0 2.761 7.163 5 16 5s16-2.239 16-5v-6c0 2.761-7.163 5-16 5z\"></path>\n",
       "<path d=\"M16 26c-8.837 0-16-2.239-16-5v6c0 2.761 7.163 5 16 5s16-2.239 16-5v-6c0 2.761-7.163 5-16 5z\"></path>\n",
       "</symbol>\n",
       "<symbol id=\"icon-file-text2\" viewBox=\"0 0 32 32\">\n",
       "<path d=\"M28.681 7.159c-0.694-0.947-1.662-2.053-2.724-3.116s-2.169-2.030-3.116-2.724c-1.612-1.182-2.393-1.319-2.841-1.319h-15.5c-1.378 0-2.5 1.121-2.5 2.5v27c0 1.378 1.122 2.5 2.5 2.5h23c1.378 0 2.5-1.122 2.5-2.5v-19.5c0-0.448-0.137-1.23-1.319-2.841zM24.543 5.457c0.959 0.959 1.712 1.825 2.268 2.543h-4.811v-4.811c0.718 0.556 1.584 1.309 2.543 2.268zM28 29.5c0 0.271-0.229 0.5-0.5 0.5h-23c-0.271 0-0.5-0.229-0.5-0.5v-27c0-0.271 0.229-0.5 0.5-0.5 0 0 15.499-0 15.5 0v7c0 0.552 0.448 1 1 1h7v19.5z\"></path>\n",
       "<path d=\"M23 26h-14c-0.552 0-1-0.448-1-1s0.448-1 1-1h14c0.552 0 1 0.448 1 1s-0.448 1-1 1z\"></path>\n",
       "<path d=\"M23 22h-14c-0.552 0-1-0.448-1-1s0.448-1 1-1h14c0.552 0 1 0.448 1 1s-0.448 1-1 1z\"></path>\n",
       "<path d=\"M23 18h-14c-0.552 0-1-0.448-1-1s0.448-1 1-1h14c0.552 0 1 0.448 1 1s-0.448 1-1 1z\"></path>\n",
       "</symbol>\n",
       "</defs>\n",
       "</svg>\n",
       "<style>/* CSS stylesheet for displaying xarray objects in jupyterlab.\n",
       " *\n",
       " */\n",
       "\n",
       ":root {\n",
       "  --xr-font-color0: var(--jp-content-font-color0, rgba(0, 0, 0, 1));\n",
       "  --xr-font-color2: var(--jp-content-font-color2, rgba(0, 0, 0, 0.54));\n",
       "  --xr-font-color3: var(--jp-content-font-color3, rgba(0, 0, 0, 0.38));\n",
       "  --xr-border-color: var(--jp-border-color2, #e0e0e0);\n",
       "  --xr-disabled-color: var(--jp-layout-color3, #bdbdbd);\n",
       "  --xr-background-color: var(--jp-layout-color0, white);\n",
       "  --xr-background-color-row-even: var(--jp-layout-color1, white);\n",
       "  --xr-background-color-row-odd: var(--jp-layout-color2, #eeeeee);\n",
       "}\n",
       "\n",
       "html[theme=dark],\n",
       "body[data-theme=dark],\n",
       "body.vscode-dark {\n",
       "  --xr-font-color0: rgba(255, 255, 255, 1);\n",
       "  --xr-font-color2: rgba(255, 255, 255, 0.54);\n",
       "  --xr-font-color3: rgba(255, 255, 255, 0.38);\n",
       "  --xr-border-color: #1F1F1F;\n",
       "  --xr-disabled-color: #515151;\n",
       "  --xr-background-color: #111111;\n",
       "  --xr-background-color-row-even: #111111;\n",
       "  --xr-background-color-row-odd: #313131;\n",
       "}\n",
       "\n",
       ".xr-wrap {\n",
       "  display: block !important;\n",
       "  min-width: 300px;\n",
       "  max-width: 700px;\n",
       "}\n",
       "\n",
       ".xr-text-repr-fallback {\n",
       "  /* fallback to plain text repr when CSS is not injected (untrusted notebook) */\n",
       "  display: none;\n",
       "}\n",
       "\n",
       ".xr-header {\n",
       "  padding-top: 6px;\n",
       "  padding-bottom: 6px;\n",
       "  margin-bottom: 4px;\n",
       "  border-bottom: solid 1px var(--xr-border-color);\n",
       "}\n",
       "\n",
       ".xr-header > div,\n",
       ".xr-header > ul {\n",
       "  display: inline;\n",
       "  margin-top: 0;\n",
       "  margin-bottom: 0;\n",
       "}\n",
       "\n",
       ".xr-obj-type,\n",
       ".xr-array-name {\n",
       "  margin-left: 2px;\n",
       "  margin-right: 10px;\n",
       "}\n",
       "\n",
       ".xr-obj-type {\n",
       "  color: var(--xr-font-color2);\n",
       "}\n",
       "\n",
       ".xr-sections {\n",
       "  padding-left: 0 !important;\n",
       "  display: grid;\n",
       "  grid-template-columns: 150px auto auto 1fr 20px 20px;\n",
       "}\n",
       "\n",
       ".xr-section-item {\n",
       "  display: contents;\n",
       "}\n",
       "\n",
       ".xr-section-item input {\n",
       "  display: none;\n",
       "}\n",
       "\n",
       ".xr-section-item input + label {\n",
       "  color: var(--xr-disabled-color);\n",
       "}\n",
       "\n",
       ".xr-section-item input:enabled + label {\n",
       "  cursor: pointer;\n",
       "  color: var(--xr-font-color2);\n",
       "}\n",
       "\n",
       ".xr-section-item input:enabled + label:hover {\n",
       "  color: var(--xr-font-color0);\n",
       "}\n",
       "\n",
       ".xr-section-summary {\n",
       "  grid-column: 1;\n",
       "  color: var(--xr-font-color2);\n",
       "  font-weight: 500;\n",
       "}\n",
       "\n",
       ".xr-section-summary > span {\n",
       "  display: inline-block;\n",
       "  padding-left: 0.5em;\n",
       "}\n",
       "\n",
       ".xr-section-summary-in:disabled + label {\n",
       "  color: var(--xr-font-color2);\n",
       "}\n",
       "\n",
       ".xr-section-summary-in + label:before {\n",
       "  display: inline-block;\n",
       "  content: '►';\n",
       "  font-size: 11px;\n",
       "  width: 15px;\n",
       "  text-align: center;\n",
       "}\n",
       "\n",
       ".xr-section-summary-in:disabled + label:before {\n",
       "  color: var(--xr-disabled-color);\n",
       "}\n",
       "\n",
       ".xr-section-summary-in:checked + label:before {\n",
       "  content: '▼';\n",
       "}\n",
       "\n",
       ".xr-section-summary-in:checked + label > span {\n",
       "  display: none;\n",
       "}\n",
       "\n",
       ".xr-section-summary,\n",
       ".xr-section-inline-details {\n",
       "  padding-top: 4px;\n",
       "  padding-bottom: 4px;\n",
       "}\n",
       "\n",
       ".xr-section-inline-details {\n",
       "  grid-column: 2 / -1;\n",
       "}\n",
       "\n",
       ".xr-section-details {\n",
       "  display: none;\n",
       "  grid-column: 1 / -1;\n",
       "  margin-bottom: 5px;\n",
       "}\n",
       "\n",
       ".xr-section-summary-in:checked ~ .xr-section-details {\n",
       "  display: contents;\n",
       "}\n",
       "\n",
       ".xr-array-wrap {\n",
       "  grid-column: 1 / -1;\n",
       "  display: grid;\n",
       "  grid-template-columns: 20px auto;\n",
       "}\n",
       "\n",
       ".xr-array-wrap > label {\n",
       "  grid-column: 1;\n",
       "  vertical-align: top;\n",
       "}\n",
       "\n",
       ".xr-preview {\n",
       "  color: var(--xr-font-color3);\n",
       "}\n",
       "\n",
       ".xr-array-preview,\n",
       ".xr-array-data {\n",
       "  padding: 0 5px !important;\n",
       "  grid-column: 2;\n",
       "}\n",
       "\n",
       ".xr-array-data,\n",
       ".xr-array-in:checked ~ .xr-array-preview {\n",
       "  display: none;\n",
       "}\n",
       "\n",
       ".xr-array-in:checked ~ .xr-array-data,\n",
       ".xr-array-preview {\n",
       "  display: inline-block;\n",
       "}\n",
       "\n",
       ".xr-dim-list {\n",
       "  display: inline-block !important;\n",
       "  list-style: none;\n",
       "  padding: 0 !important;\n",
       "  margin: 0;\n",
       "}\n",
       "\n",
       ".xr-dim-list li {\n",
       "  display: inline-block;\n",
       "  padding: 0;\n",
       "  margin: 0;\n",
       "}\n",
       "\n",
       ".xr-dim-list:before {\n",
       "  content: '(';\n",
       "}\n",
       "\n",
       ".xr-dim-list:after {\n",
       "  content: ')';\n",
       "}\n",
       "\n",
       ".xr-dim-list li:not(:last-child):after {\n",
       "  content: ',';\n",
       "  padding-right: 5px;\n",
       "}\n",
       "\n",
       ".xr-has-index {\n",
       "  font-weight: bold;\n",
       "}\n",
       "\n",
       ".xr-var-list,\n",
       ".xr-var-item {\n",
       "  display: contents;\n",
       "}\n",
       "\n",
       ".xr-var-item > div,\n",
       ".xr-var-item label,\n",
       ".xr-var-item > .xr-var-name span {\n",
       "  background-color: var(--xr-background-color-row-even);\n",
       "  margin-bottom: 0;\n",
       "}\n",
       "\n",
       ".xr-var-item > .xr-var-name:hover span {\n",
       "  padding-right: 5px;\n",
       "}\n",
       "\n",
       ".xr-var-list > li:nth-child(odd) > div,\n",
       ".xr-var-list > li:nth-child(odd) > label,\n",
       ".xr-var-list > li:nth-child(odd) > .xr-var-name span {\n",
       "  background-color: var(--xr-background-color-row-odd);\n",
       "}\n",
       "\n",
       ".xr-var-name {\n",
       "  grid-column: 1;\n",
       "}\n",
       "\n",
       ".xr-var-dims {\n",
       "  grid-column: 2;\n",
       "}\n",
       "\n",
       ".xr-var-dtype {\n",
       "  grid-column: 3;\n",
       "  text-align: right;\n",
       "  color: var(--xr-font-color2);\n",
       "}\n",
       "\n",
       ".xr-var-preview {\n",
       "  grid-column: 4;\n",
       "}\n",
       "\n",
       ".xr-var-name,\n",
       ".xr-var-dims,\n",
       ".xr-var-dtype,\n",
       ".xr-preview,\n",
       ".xr-attrs dt {\n",
       "  white-space: nowrap;\n",
       "  overflow: hidden;\n",
       "  text-overflow: ellipsis;\n",
       "  padding-right: 10px;\n",
       "}\n",
       "\n",
       ".xr-var-name:hover,\n",
       ".xr-var-dims:hover,\n",
       ".xr-var-dtype:hover,\n",
       ".xr-attrs dt:hover {\n",
       "  overflow: visible;\n",
       "  width: auto;\n",
       "  z-index: 1;\n",
       "}\n",
       "\n",
       ".xr-var-attrs,\n",
       ".xr-var-data {\n",
       "  display: none;\n",
       "  background-color: var(--xr-background-color) !important;\n",
       "  padding-bottom: 5px !important;\n",
       "}\n",
       "\n",
       ".xr-var-attrs-in:checked ~ .xr-var-attrs,\n",
       ".xr-var-data-in:checked ~ .xr-var-data {\n",
       "  display: block;\n",
       "}\n",
       "\n",
       ".xr-var-data > table {\n",
       "  float: right;\n",
       "}\n",
       "\n",
       ".xr-var-name span,\n",
       ".xr-var-data,\n",
       ".xr-attrs {\n",
       "  padding-left: 25px !important;\n",
       "}\n",
       "\n",
       ".xr-attrs,\n",
       ".xr-var-attrs,\n",
       ".xr-var-data {\n",
       "  grid-column: 1 / -1;\n",
       "}\n",
       "\n",
       "dl.xr-attrs {\n",
       "  padding: 0;\n",
       "  margin: 0;\n",
       "  display: grid;\n",
       "  grid-template-columns: 125px auto;\n",
       "}\n",
       "\n",
       ".xr-attrs dt,\n",
       ".xr-attrs dd {\n",
       "  padding: 0;\n",
       "  margin: 0;\n",
       "  float: left;\n",
       "  padding-right: 10px;\n",
       "  width: auto;\n",
       "}\n",
       "\n",
       ".xr-attrs dt {\n",
       "  font-weight: normal;\n",
       "  grid-column: 1;\n",
       "}\n",
       "\n",
       ".xr-attrs dt:hover span {\n",
       "  display: inline-block;\n",
       "  background: var(--xr-background-color);\n",
       "  padding-right: 10px;\n",
       "}\n",
       "\n",
       ".xr-attrs dd {\n",
       "  grid-column: 2;\n",
       "  white-space: pre-wrap;\n",
       "  word-break: break-all;\n",
       "}\n",
       "\n",
       ".xr-icon-database,\n",
       ".xr-icon-file-text2 {\n",
       "  display: inline-block;\n",
       "  vertical-align: middle;\n",
       "  width: 1em;\n",
       "  height: 1.5em !important;\n",
       "  stroke-width: 0;\n",
       "  stroke: currentColor;\n",
       "  fill: currentColor;\n",
       "}\n",
       "</style><pre class='xr-text-repr-fallback'>&lt;xarray.DataArray &#x27;area_wgt&#x27; (time: 4380, ncol: 384)&gt;\n",
       "array([[0.83877478, 0.9382394 , 0.9382394 , ..., 0.9382394 , 0.9382394 ,\n",
       "        0.83877478],\n",
       "       [0.83877478, 0.9382394 , 0.9382394 , ..., 0.9382394 , 0.9382394 ,\n",
       "        0.83877478],\n",
       "       [0.83877478, 0.9382394 , 0.9382394 , ..., 0.9382394 , 0.9382394 ,\n",
       "        0.83877478],\n",
       "       ...,\n",
       "       [0.83877478, 0.9382394 , 0.9382394 , ..., 0.9382394 , 0.9382394 ,\n",
       "        0.83877478],\n",
       "       [0.83877478, 0.9382394 , 0.9382394 , ..., 0.9382394 , 0.9382394 ,\n",
       "        0.83877478],\n",
       "       [0.83877478, 0.9382394 , 0.9382394 , ..., 0.9382394 , 0.9382394 ,\n",
       "        0.83877478]])\n",
       "Coordinates:\n",
       "  * time     (time) int64 0 1 2 3 4 5 6 7 ... 4373 4374 4375 4376 4377 4378 4379\n",
       "  * ncol     (ncol) int64 0 1 2 3 4 5 6 7 8 ... 376 377 378 379 380 381 382 383</pre><div class='xr-wrap' style='display:none'><div class='xr-header'><div class='xr-obj-type'>xarray.DataArray</div><div class='xr-array-name'>'area_wgt'</div><ul class='xr-dim-list'><li><span class='xr-has-index'>time</span>: 4380</li><li><span class='xr-has-index'>ncol</span>: 384</li></ul></div><ul class='xr-sections'><li class='xr-section-item'><div class='xr-array-wrap'><input id='section-530ba22e-5310-4395-b169-7147d0a06b46' class='xr-array-in' type='checkbox' checked><label for='section-530ba22e-5310-4395-b169-7147d0a06b46' title='Show/hide data repr'><svg class='icon xr-icon-database'><use xlink:href='#icon-database'></use></svg></label><div class='xr-array-preview xr-preview'><span>0.8388 0.9382 0.9382 1.029 0.8926 ... 1.029 0.9382 0.9382 0.8388</span></div><div class='xr-array-data'><pre>array([[0.83877478, 0.9382394 , 0.9382394 , ..., 0.9382394 , 0.9382394 ,\n",
       "        0.83877478],\n",
       "       [0.83877478, 0.9382394 , 0.9382394 , ..., 0.9382394 , 0.9382394 ,\n",
       "        0.83877478],\n",
       "       [0.83877478, 0.9382394 , 0.9382394 , ..., 0.9382394 , 0.9382394 ,\n",
       "        0.83877478],\n",
       "       ...,\n",
       "       [0.83877478, 0.9382394 , 0.9382394 , ..., 0.9382394 , 0.9382394 ,\n",
       "        0.83877478],\n",
       "       [0.83877478, 0.9382394 , 0.9382394 , ..., 0.9382394 , 0.9382394 ,\n",
       "        0.83877478],\n",
       "       [0.83877478, 0.9382394 , 0.9382394 , ..., 0.9382394 , 0.9382394 ,\n",
       "        0.83877478]])</pre></div></div></li><li class='xr-section-item'><input id='section-2c5ac38c-a421-479a-bc80-5b85e543ba98' class='xr-section-summary-in' type='checkbox'  checked><label for='section-2c5ac38c-a421-479a-bc80-5b85e543ba98' class='xr-section-summary' >Coordinates: <span>(2)</span></label><div class='xr-section-inline-details'></div><div class='xr-section-details'><ul class='xr-var-list'><li class='xr-var-item'><div class='xr-var-name'><span class='xr-has-index'>time</span></div><div class='xr-var-dims'>(time)</div><div class='xr-var-dtype'>int64</div><div class='xr-var-preview xr-preview'>0 1 2 3 4 ... 4376 4377 4378 4379</div><input id='attrs-05e40f07-bc08-4ba4-8597-64d100c39c28' class='xr-var-attrs-in' type='checkbox' disabled><label for='attrs-05e40f07-bc08-4ba4-8597-64d100c39c28' title='Show/Hide attributes'><svg class='icon xr-icon-file-text2'><use xlink:href='#icon-file-text2'></use></svg></label><input id='data-2bc0ebf1-da0c-4b4c-be84-133009f317c0' class='xr-var-data-in' type='checkbox'><label for='data-2bc0ebf1-da0c-4b4c-be84-133009f317c0' title='Show/Hide data repr'><svg class='icon xr-icon-database'><use xlink:href='#icon-database'></use></svg></label><div class='xr-var-attrs'><dl class='xr-attrs'></dl></div><div class='xr-var-data'><pre>array([   0,    1,    2, ..., 4377, 4378, 4379])</pre></div></li><li class='xr-var-item'><div class='xr-var-name'><span class='xr-has-index'>ncol</span></div><div class='xr-var-dims'>(ncol)</div><div class='xr-var-dtype'>int64</div><div class='xr-var-preview xr-preview'>0 1 2 3 4 5 ... 379 380 381 382 383</div><input id='attrs-40a6dc1b-bd91-436b-b5bf-36551dbfe849' class='xr-var-attrs-in' type='checkbox' disabled><label for='attrs-40a6dc1b-bd91-436b-b5bf-36551dbfe849' title='Show/Hide attributes'><svg class='icon xr-icon-file-text2'><use xlink:href='#icon-file-text2'></use></svg></label><input id='data-ea1b23c9-6736-4b98-90a1-fa07b5b5a4e3' class='xr-var-data-in' type='checkbox'><label for='data-ea1b23c9-6736-4b98-90a1-fa07b5b5a4e3' title='Show/Hide data repr'><svg class='icon xr-icon-database'><use xlink:href='#icon-database'></use></svg></label><div class='xr-var-attrs'><dl class='xr-attrs'></dl></div><div class='xr-var-data'><pre>array([  0,   1,   2, ..., 381, 382, 383])</pre></div></li></ul></div></li><li class='xr-section-item'><input id='section-3541ee63-1143-45e7-bcfc-02a51e1c3b7b' class='xr-section-summary-in' type='checkbox' disabled ><label for='section-3541ee63-1143-45e7-bcfc-02a51e1c3b7b' class='xr-section-summary'  title='Expand/collapse section'>Attributes: <span>(0)</span></label><div class='xr-section-inline-details'></div><div class='xr-section-details'><dl class='xr-attrs'></dl></div></li></ul></div></div>"
      ],
      "text/plain": [
       "<xarray.DataArray 'area_wgt' (time: 4380, ncol: 384)>\n",
       "array([[0.83877478, 0.9382394 , 0.9382394 , ..., 0.9382394 , 0.9382394 ,\n",
       "        0.83877478],\n",
       "       [0.83877478, 0.9382394 , 0.9382394 , ..., 0.9382394 , 0.9382394 ,\n",
       "        0.83877478],\n",
       "       [0.83877478, 0.9382394 , 0.9382394 , ..., 0.9382394 , 0.9382394 ,\n",
       "        0.83877478],\n",
       "       ...,\n",
       "       [0.83877478, 0.9382394 , 0.9382394 , ..., 0.9382394 , 0.9382394 ,\n",
       "        0.83877478],\n",
       "       [0.83877478, 0.9382394 , 0.9382394 , ..., 0.9382394 , 0.9382394 ,\n",
       "        0.83877478],\n",
       "       [0.83877478, 0.9382394 , 0.9382394 , ..., 0.9382394 , 0.9382394 ,\n",
       "        0.83877478]])\n",
       "Coordinates:\n",
       "  * time     (time) int64 0 1 2 3 4 5 6 7 ... 4373 4374 4375 4376 4377 4378 4379\n",
       "  * ncol     (ncol) int64 0 1 2 3 4 5 6 7 8 ... 376 377 378 379 380 381 382 383"
      ]
     },
     "execution_count": 45,
     "metadata": {},
     "output_type": "execute_result"
    }
   ],
   "source": [
    "DS['pred']['area_wgt']"
   ]
  },
  {
   "cell_type": "code",
   "execution_count": 46,
   "metadata": {},
   "outputs": [
    {
     "data": {
      "text/plain": [
       "(1681920,)"
      ]
     },
     "execution_count": 46,
     "metadata": {},
     "output_type": "execute_result"
    }
   ],
   "source": [
    "hola = np.array(ds_grid['area_wgt'])\n",
    "hola.shape"
   ]
  },
  {
   "cell_type": "code",
   "execution_count": 47,
   "metadata": {},
   "outputs": [],
   "source": [
    "adios = np.reshape(hola, (-1, 384))"
   ]
  },
  {
   "cell_type": "code",
   "execution_count": 48,
   "metadata": {},
   "outputs": [
    {
     "data": {
      "text/plain": [
       "(4380, 384)"
      ]
     },
     "execution_count": 48,
     "metadata": {},
     "output_type": "execute_result"
    }
   ],
   "source": [
    "adios.shape"
   ]
  },
  {
   "cell_type": "code",
   "execution_count": null,
   "metadata": {},
   "outputs": [],
   "source": []
  },
  {
   "cell_type": "code",
   "execution_count": null,
   "metadata": {},
   "outputs": [],
   "source": []
  },
  {
   "cell_type": "code",
   "execution_count": null,
   "metadata": {},
   "outputs": [],
   "source": []
  }
 ],
 "metadata": {
  "kernelspec": {
   "display_name": "Python 3 (ipykernel)",
   "language": "python",
   "name": "python3"
  },
  "language_info": {
   "codemirror_mode": {
    "name": "ipython",
    "version": 3
   },
   "file_extension": ".py",
   "mimetype": "text/x-python",
   "name": "python",
   "nbconvert_exporter": "python",
   "pygments_lexer": "ipython3",
   "version": "3.9.13"
  },
  "orig_nbformat": 4
 },
 "nbformat": 4,
 "nbformat_minor": 2
}
