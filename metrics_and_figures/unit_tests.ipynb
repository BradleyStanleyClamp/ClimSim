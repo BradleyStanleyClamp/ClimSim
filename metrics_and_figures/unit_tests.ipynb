{
 "cells": [
  {
   "cell_type": "markdown",
   "metadata": {},
   "source": [
    "### Importing packages for original notebook"
   ]
  },
  {
   "cell_type": "code",
   "execution_count": 1,
   "metadata": {},
   "outputs": [],
   "source": [
    "# Original metrics imports\n",
    "\n",
    "import numpy as np\n",
    "import xarray as xr\n",
    "import pandas as pd\n",
    "import matplotlib.pyplot as plt\n",
    "\n",
    "# set dimemsion names for xarray datasets\n",
    "dim_name_level  = 'lev'\n",
    "dim_name_sample = 'sample'"
   ]
  },
  {
   "cell_type": "markdown",
   "metadata": {},
   "source": [
    "### Importing data_utils.py"
   ]
  },
  {
   "cell_type": "code",
   "execution_count": 2,
   "metadata": {},
   "outputs": [
    {
     "name": "stderr",
     "output_type": "stream",
     "text": [
      "2023-08-15 23:10:03.117465: I tensorflow/core/platform/cpu_feature_guard.cc:182] This TensorFlow binary is optimized to use available CPU instructions in performance-critical operations.\n",
      "To enable the following instructions: AVX2 FMA, in other operations, rebuild TensorFlow with the appropriate compiler flags.\n",
      "2023-08-15 23:10:04.092779: W tensorflow/compiler/tf2tensorrt/utils/py_utils.cc:38] TF-TRT Warning: Could not find TensorRT\n"
     ]
    }
   ],
   "source": [
    "from data_utils import *"
   ]
  },
  {
   "cell_type": "markdown",
   "metadata": {},
   "source": [
    "### Sungduk version"
   ]
  },
  {
   "cell_type": "code",
   "execution_count": 3,
   "metadata": {},
   "outputs": [],
   "source": [
    "FN_MODEL_OUTPUT = {'MLP':  '/ocean/projects/atm200007p/jlin96/neurips_proj/figure_ingredients/001_backup_phase-7_retrained_models_step2_lot-147_trial_0027.best.h5.npy',\n",
    "                   'RPN':  '/ocean/projects/atm200007p/jlin96/neurips_proj/figure_ingredients/rpn_pred_v1_stride6.npy',\n",
    "                   'CNN':  '/ocean/projects/atm200007p/jlin96/neurips_proj/figure_ingredients/val_predict_cnn_reshaped_stride6_FINAL.npy',\n",
    "                   # 'cVAE': './model_outputs/cvae_preds_bestcrps.h5',\n",
    "                   'cVAE': '/ocean/projects/atm200007p/jlin96/neurips_proj/figure_ingredients/cvae.h5',\n",
    "                   'HSR': '/ocean/projects/atm200007p/jlin96/neurips_proj/figure_ingredients/hsr_preds_bestcrps.h5',\n",
    "                  }\n",
    "\n",
    "# model name\n",
    "# (model name is used for the output)\n",
    "model_name = 'MLP'\n",
    "\n",
    "# input of validation dataset (npy)\n",
    "fn_x_true = '/ocean/projects/atm200007p/jlin96/neurips_proj/e3sm_train_npy/val_input_stride6.npy'\n",
    "\n",
    "# true output of validation dataset (npy)\n",
    "fn_y_true = '/ocean/projects/atm200007p/jlin96/neurips_proj/e3sm_train_npy/val_target_stride6.npy'\n",
    "\n",
    "# Model predicted output of varlidation dataset (npy)\n",
    "fn_y_pred = FN_MODEL_OUTPUT[model_name]\n",
    "\n",
    "# model grid information (nc)\n",
    "fn_grid = '/ocean/projects/atm200007p/jlin96/neurips_proj/ClimSim_release/grid_info/E3SM-MMF_ne4_grid-info.orig.nc'\n",
    "\n",
    "# normalization scale factors (nc)\n",
    "fn_mli_mean  = '/ocean/projects/atm200007p/jlin96/neurips_proj/ClimSim_release/norm_factors/mli_mean.nc'\n",
    "fn_mli_min   = '/ocean/projects/atm200007p/jlin96/neurips_proj/ClimSim_release/norm_factors/mli_min.nc'\n",
    "fn_mli_max   = '/ocean/projects/atm200007p/jlin96/neurips_proj/ClimSim_release/norm_factors/mli_max.nc'\n",
    "fn_mlo_scale = '/ocean/projects/atm200007p/jlin96/neurips_proj/ClimSim_release/norm_factors/mlo_scale.nc'\n",
    "\n",
    "# fn_save_output\n",
    "fn_save_metrics = f'./metrics/{model_name}.metrics.csv'\n",
    "fn_save_metrics_avg = f'./metrics/{model_name}.metrics.lev-avg.csv'\n",
    "\n",
    "# physical constatns from (E3SM_ROOT/share/util/shr_const_mod.F90)\n",
    "grav    = 9.80616    # acceleration of gravity ~ m/s^2\n",
    "cp      = 1.00464e3  # specific heat of dry air   ~ J/kg/K\n",
    "lv      = 2.501e6    # latent heat of evaporation ~ J/kg\n",
    "lf      = 3.337e5    # latent heat of fusion      ~ J/kg\n",
    "ls      = lv + lf    # latent heat of sublimation ~ J/kg\n",
    "rho_air = 101325./ (6.02214e26*1.38065e-23/28.966) / 273.15 # density of dry air at STP  ~ kg/m^3\n",
    "                                                            # ~ 1.2923182846924677\n",
    "                                                            # SHR_CONST_PSTD/(SHR_CONST_RDAIR*SHR_CONST_TKFRZ)\n",
    "                                                            # SHR_CONST_RDAIR   = SHR_CONST_RGAS/SHR_CONST_MWDAIR\n",
    "                                                            # SHR_CONST_RGAS    = SHR_CONST_AVOGAD*SHR_CONST_BOLTZ\n",
    "rho_h20 = 1.e3       # density of fresh water     ~ kg/m^ 3\n",
    "\n",
    "vars_mlo_energy_conv = {'ptend_t':cp,\n",
    "                        'ptend_q0001':lv,\n",
    "                        'cam_out_NETSW':1.,\n",
    "                        'cam_out_FLWDS':1.,\n",
    "                        'cam_out_PRECSC':lv*rho_h20,\n",
    "                        'cam_out_PRECC':lv*rho_h20,\n",
    "                        'cam_out_SOLS':1.,\n",
    "                        'cam_out_SOLL':1.,\n",
    "                        'cam_out_SOLSD':1.,\n",
    "                        'cam_out_SOLLD':1.\n",
    "                       }\n",
    "\n",
    "# load input dataset\n",
    "x_true = np.load(fn_x_true).astype(np.float64)\n",
    "y_true = np.load(fn_y_true).astype(np.float64)\n",
    "if fn_y_pred[-3:] == '.h5':\n",
    "    y_pred = xr.open_dataset(fn_y_pred)['pred'].values\n",
    "else:\n",
    "    y_pred = np.load(fn_y_pred).astype(np.float64)\n",
    "N_samples = y_pred.shape[0] \n",
    "\n",
    "# load norm/scale factors\n",
    "mlo_scale = xr.open_dataset(fn_mlo_scale)\n",
    "mli_mean  = xr.open_dataset(fn_mli_mean)\n",
    "mli_min   = xr.open_dataset(fn_mli_min)\n",
    "mli_max   = xr.open_dataset(fn_mli_max)\n",
    "\n",
    "# load grid information\n",
    "ds_grid = xr.open_dataset(fn_grid) # has ncol:384\n",
    "N_ncol = len(ds_grid['ncol']) # length of ncol dimension (nlat * nlon)\n",
    "\n",
    "# make area-weights\n",
    "ds_grid['area_wgt'] = ds_grid['area'] / ds_grid['area'].mean('ncol')\n",
    "\n",
    "# map ds_grid's ncol dimension -> the N_samples dimension of npy-loayd arrays (e.g., y_pred)\n",
    "to_xarray = {'area_wgt': (dim_name_sample,np.tile(ds_grid['area_wgt'], int(N_samples/len(ds_grid['ncol'])))),\n",
    "            }\n",
    "to_xarray = xr.Dataset(to_xarray)\n",
    "\n",
    "# add nsample-mapped grid variables back to ds_grid\n",
    "ds_grid = xr.merge([ds_grid  [['P0', 'hyai', 'hyam','hybi','hybm','lat','lon','area']],\n",
    "                    to_xarray[['area_wgt']]])\n",
    "\n",
    "# list of ML output variables\n",
    "vars_mlo = ['ptend_t','ptend_q0001','cam_out_NETSW','cam_out_FLWDS','cam_out_PRECSC',\n",
    "            'cam_out_PRECC','cam_out_SOLS','cam_out_SOLL','cam_out_SOLSD','cam_out_SOLLD'] # mlo mean ML output.\n",
    "\n",
    "# length of each variable\n",
    "vars_mlo_len = {'ptend_t':60,\n",
    "                'ptend_q0001':60,\n",
    "                'cam_out_NETSW':1,\n",
    "                'cam_out_FLWDS':1,\n",
    "                'cam_out_PRECSC':1,\n",
    "                'cam_out_PRECC':1,\n",
    "                'cam_out_SOLS':1,\n",
    "                'cam_out_SOLL':1,\n",
    "                'cam_out_SOLSD':1,\n",
    "                'cam_out_SOLLD':1\n",
    "               }\n",
    "\n",
    "# map the length of dimension to the name of dimension\n",
    "len_to_dim = {60:dim_name_level,\n",
    "              N_samples: dim_name_sample}\n",
    "\n",
    "# Here, we first construct a dictionary of {var name: (dimension name, array-like)},\n",
    "# then, map the dictionary to an Xarray Dataset.\n",
    "# (ref: https://docs.xarray.dev/en/stable/generated/xarray.Dataset.html)\n",
    "\n",
    "DS = {}\n",
    "\n",
    "for kds in ['true', 'pred']:\n",
    "    if kds=='true':\n",
    "        work = y_true\n",
    "    elif kds=='pred':\n",
    "        work = y_pred\n",
    "\n",
    "    # [1] Construct dictionary for xarray dataset\n",
    "    #     format is key for variable name /\n",
    "    #               value for a turple of (dimension names, data).\n",
    "    to_xarray = {}\n",
    "    for k, kvar in enumerate(vars_mlo):\n",
    "\n",
    "        # length of variable (ie, number of levels)\n",
    "        kvar_len = vars_mlo_len[kvar]\n",
    "\n",
    "        # set dimensions of variable\n",
    "        if kvar_len == 60:\n",
    "            kvar_dims = (dim_name_sample, dim_name_level)\n",
    "        elif kvar_len == 1:\n",
    "            kvar_dims = dim_name_sample\n",
    "\n",
    "        # set start and end indices of variable in the loaded numpy array\n",
    "        # then, add 'kvar':(kvar_dims, <np_array>) to dictionary\n",
    "        if k==0: ind1=0\n",
    "        ind2 = ind1 + kvar_len\n",
    "\n",
    "        # scaled output\n",
    "        kvar_data = np.squeeze(work[:,ind1:ind2])\n",
    "        # unscaled output\n",
    "        kvar_data = kvar_data / mlo_scale[kvar].values\n",
    "\n",
    "        to_xarray[kvar] = (kvar_dims, kvar_data)\n",
    "\n",
    "        ind1 = ind2\n",
    "\n",
    "    # [2] convert dict to xarray dataset\n",
    "    DS[kds] = xr.Dataset(to_xarray)\n",
    "\n",
    "    # [3] add surface pressure ('state_ps') from ml input\n",
    "    # normalized ps\n",
    "    state_ps =  xr.DataArray(x_true[:,120], dims=('sample'), name='state_ps')\n",
    "    # denormalized ps\n",
    "    state_ps = state_ps * (mli_max['state_ps'] - mli_min['state_ps']) + mli_mean['state_ps']\n",
    "    DS[kds]['state_ps'] = state_ps\n",
    "\n",
    "    # [4] add grid information\n",
    "    DS[kds] = xr.merge([DS[kds], ds_grid])\n",
    "\n",
    "    # [5] add pressure thickness of each level, dp\n",
    "    # FYI, in a hybrid sigma vertical coordinate system, pressure at level z is\n",
    "    # P[x,z] = hyam[z]*P0 + hybm[z]*PS[x,z],\n",
    "    # where, hyam and hybm are \n",
    "    tmp = DS[kds]['P0']*DS[kds]['hyai'] + DS[kds]['state_ps']*DS[kds]['hybi']\n",
    "    tmp = tmp.isel(ilev=slice(1,61)).values - tmp.isel(ilev=slice(0,60)).values\n",
    "    tmp = tmp.transpose()\n",
    "    DS[kds]['dp'] = xr.DataArray(tmp, dims=('sample', 'lev'))\n",
    "\n",
    "    # [6] break (sample) to (ncol,time)\n",
    "    N_timestep = int(N_samples/N_ncol)\n",
    "    dim_ncol     = np.arange(N_ncol)\n",
    "    dim_timestep = np.arange(N_timestep)\n",
    "    new_ind = pd.MultiIndex.from_product([dim_timestep, dim_ncol],\n",
    "                                         names=['time', 'ncol'])\n",
    "    DS[kds] = DS[kds].assign_coords(sample=new_ind).unstack('sample')\n",
    "\n",
    "# [1] Weight vertical levels by dp/g that is equivalent to a mass of air within a grid cell per unit area [kg/m2]\n",
    "# [2] Weight horizontal area of each grid cell by a[x]/mean(a[x]).\n",
    "# [3] Unit conversion to a common energy unit\n",
    "\n",
    "DS_ENERGY = {}\n",
    "for kds in ['true','pred']:\n",
    "    # Make a copy to keep original dataset\n",
    "    DS_ENERGY[kds] = DS[kds].copy(deep=True)\n",
    "\n",
    "    # vertical weighting / area weighting / unit conversion\n",
    "    for kvar in vars_mlo:\n",
    "\n",
    "        # [1] weight vertical levels by dp/g\n",
    "        #     ONLY for vertically-resolved variables, e.g., ptend_{t,q0001}\n",
    "        # dp/g = - \\rho * dz\n",
    "        if vars_mlo_len[kvar] == 60:\n",
    "            DS_ENERGY[kds][kvar] = DS_ENERGY[kds][kvar] * DS_ENERGY[kds]['dp']/grav\n",
    "\n",
    "        # [2] weight area\n",
    "        #     for ALL variables\n",
    "        DS_ENERGY[kds][kvar] = DS_ENERGY[kds]['area_wgt'] * DS_ENERGY[kds][kvar]\n",
    "\n",
    "        # [3] convert units to W/m2\n",
    "        #     for variables with different units, e.g., ptend_{t,q0001}, precsc, precc\n",
    "        DS_ENERGY[kds][kvar] =  vars_mlo_energy_conv[kvar] * DS_ENERGY[kds][kvar]\n"
   ]
  },
  {
   "cell_type": "code",
   "execution_count": 4,
   "metadata": {},
   "outputs": [
    {
     "data": {
      "text/plain": [
       "array([[ 1.50306918e-02,  2.49113763e-02,  6.33468952e-02, ...,\n",
       "         4.47187562e+00,  1.90149031e+00, -1.43307518e+00],\n",
       "       [ 1.77264882e-02,  2.30794595e-02,  7.46828344e-02, ...,\n",
       "         4.25452349e+00,  1.38797065e+00, -2.30128018e+00],\n",
       "       [ 1.49848568e-02,  3.32651641e-02,  6.22291081e-02, ...,\n",
       "        -1.42263246e-01, -2.10414987e+00, -2.96664012e+00],\n",
       "       ...,\n",
       "       [-3.58889074e-03,  4.15972963e-03, -3.79946533e-02, ...,\n",
       "        -5.83624483e+00, -4.72771262e+00, -1.04185159e+01],\n",
       "       [-1.33169705e-03, -6.56815159e-04, -4.07090036e-02, ...,\n",
       "        -3.12313991e+00, -6.76441827e+00, -1.30581222e+01],\n",
       "       [-5.01235620e-03, -5.59752634e-03, -3.49614343e-02, ...,\n",
       "        -1.15787190e+00, -7.14604993e+00, -1.59112957e+01]])"
      ]
     },
     "execution_count": 4,
     "metadata": {},
     "output_type": "execute_result"
    }
   ],
   "source": [
    "ptend_t_check = DS_ENERGY['true']['ptend_t'][42,:,:].values\n",
    "ptend_t_check"
   ]
  },
  {
   "cell_type": "code",
   "execution_count": 5,
   "metadata": {},
   "outputs": [
    {
     "data": {
      "text/plain": [
       "array([[  0.        ,   0.        ,   0.        , ...,  -2.74203415,\n",
       "          0.66898269,   1.57286221],\n",
       "       [  0.        ,   0.        ,   0.        , ...,   0.74758948,\n",
       "          4.52463957,   8.91198655],\n",
       "       [  0.        ,   0.        ,   0.        , ..., -12.97049343,\n",
       "        -11.32664595,   1.57625109],\n",
       "       ...,\n",
       "       [  0.        ,   0.        ,   0.        , ...,  -1.29968077,\n",
       "          7.98803317,  10.84303509],\n",
       "       [  0.        ,   0.        ,   0.        , ...,   2.84016395,\n",
       "          8.48974947,  10.26747987],\n",
       "       [  0.        ,   0.        ,   0.        , ...,  -4.6976471 ,\n",
       "          0.13164726,   2.33216457]])"
      ]
     },
     "execution_count": 5,
     "metadata": {},
     "output_type": "execute_result"
    }
   ],
   "source": [
    "ptend_q_check = DS_ENERGY['true']['ptend_q0001'][49,:,:].values\n",
    "ptend_q_check"
   ]
  },
  {
   "cell_type": "code",
   "execution_count": 6,
   "metadata": {},
   "outputs": [
    {
     "data": {
      "text/plain": [
       "array([0.00000000e+00, 0.00000000e+00, 0.00000000e+00, 0.00000000e+00,\n",
       "       0.00000000e+00, 0.00000000e+00, 0.00000000e+00, 0.00000000e+00,\n",
       "       0.00000000e+00, 0.00000000e+00, 0.00000000e+00, 0.00000000e+00,\n",
       "       0.00000000e+00, 0.00000000e+00, 0.00000000e+00, 0.00000000e+00,\n",
       "       0.00000000e+00, 0.00000000e+00, 0.00000000e+00, 0.00000000e+00,\n",
       "       0.00000000e+00, 0.00000000e+00, 0.00000000e+00, 0.00000000e+00,\n",
       "       0.00000000e+00, 0.00000000e+00, 0.00000000e+00, 0.00000000e+00,\n",
       "       0.00000000e+00, 0.00000000e+00, 0.00000000e+00, 0.00000000e+00,\n",
       "       0.00000000e+00, 0.00000000e+00, 0.00000000e+00, 0.00000000e+00,\n",
       "       0.00000000e+00, 0.00000000e+00, 0.00000000e+00, 0.00000000e+00,\n",
       "       0.00000000e+00, 0.00000000e+00, 0.00000000e+00, 0.00000000e+00,\n",
       "       0.00000000e+00, 0.00000000e+00, 0.00000000e+00, 0.00000000e+00,\n",
       "       0.00000000e+00, 0.00000000e+00, 0.00000000e+00, 0.00000000e+00,\n",
       "       0.00000000e+00, 0.00000000e+00, 0.00000000e+00, 0.00000000e+00,\n",
       "       0.00000000e+00, 0.00000000e+00, 0.00000000e+00, 0.00000000e+00,\n",
       "       0.00000000e+00, 0.00000000e+00, 0.00000000e+00, 0.00000000e+00,\n",
       "       1.25634590e+01, 3.79486135e+01, 8.90592077e-06, 2.00944878e-01,\n",
       "       1.53126271e+01, 1.26954867e+02, 4.25971110e+01, 1.91501677e+02,\n",
       "       2.03656152e+02, 1.96529744e+02, 3.15831106e+02, 4.11012799e+02,\n",
       "       3.86207091e+02, 3.48401909e+02, 4.70606999e+02, 4.02391778e+02,\n",
       "       2.12952543e-27, 1.36158113e-12, 0.00000000e+00, 5.28433993e-06,\n",
       "       2.28062902e+00, 2.04173180e+02, 5.75748234e+01, 2.35180319e+02,\n",
       "       2.51648186e+02, 2.05856467e+02, 1.55688776e+02, 1.71501801e+01,\n",
       "       1.44088013e+02, 1.57371406e+01, 2.27627597e+01, 1.16924814e+00,\n",
       "       0.00000000e+00, 1.78356233e+01, 0.00000000e+00, 3.78779761e+00,\n",
       "       9.92751996e+01, 2.02275979e+02, 4.81665428e+01, 1.41062021e+02,\n",
       "       2.73864197e+02, 1.99865599e+02, 8.42689121e+01, 6.46992907e+00,\n",
       "       1.89378425e+02, 2.14504427e+02, 1.78210640e+02, 2.87010887e+02,\n",
       "       0.00000000e+00, 2.77831658e-01, 0.00000000e+00, 0.00000000e+00,\n",
       "       4.72264741e+01, 1.27957205e+02, 1.97291932e-01, 3.61367460e+00,\n",
       "       1.21530512e+02, 9.32544773e+01, 1.06812023e+02, 1.69447628e+02,\n",
       "       1.36131124e-03, 5.68346255e+01, 1.48949987e+02, 3.56666396e+01,\n",
       "       3.57118215e+02, 3.12298489e+02, 3.64380312e+02, 2.21369009e+02,\n",
       "       2.03057962e+02, 8.12236600e-01, 3.16654960e+02, 3.46475026e+02,\n",
       "       3.07224145e+02, 2.03748588e+02, 3.26169568e+02, 2.33770731e+02,\n",
       "       1.55224831e+02, 3.16628477e+01, 1.16160390e+01, 4.91403786e+01,\n",
       "       4.39092161e+00, 1.32592396e+02, 4.99375226e+00, 2.16678235e+02,\n",
       "       4.34515171e+02, 3.04569320e+02, 4.27731536e+02, 2.58764911e+02,\n",
       "       2.56230312e+01, 3.72861177e-02, 2.74474217e+01, 8.21584413e-02,\n",
       "       2.11616020e+01, 6.33534954e+01, 1.27430670e+02, 5.96328420e+01,\n",
       "       2.81382612e+02, 4.05846478e+02, 3.41434242e+02, 3.86887121e+02,\n",
       "       4.22110577e+02, 3.50543999e+02, 3.34972983e+02, 3.65196406e+02,\n",
       "       2.59403757e+02, 1.55104244e+02, 2.37314514e+02, 1.73550335e+02,\n",
       "       1.29297488e+02, 4.11956070e+01, 1.02790481e+02, 2.65256906e+01,\n",
       "       3.41758771e+02, 3.09483465e+02, 1.42757999e+02, 6.54962191e+01,\n",
       "       2.73882849e+02, 7.45917088e+01, 1.47338502e+02, 6.02468307e-01,\n",
       "       1.86064243e+02, 9.58855081e+01, 2.72835304e+00, 1.42739678e+01,\n",
       "       4.97447021e+01, 6.76214743e+00, 1.98158536e+01, 3.17797739e-01,\n",
       "       1.14091299e+01, 8.98462442e-01, 6.63982612e+00, 6.76219242e-09,\n",
       "       0.00000000e+00, 0.00000000e+00, 0.00000000e+00, 0.00000000e+00,\n",
       "       0.00000000e+00, 0.00000000e+00, 0.00000000e+00, 0.00000000e+00,\n",
       "       0.00000000e+00, 0.00000000e+00, 0.00000000e+00, 0.00000000e+00,\n",
       "       8.19332017e+00, 0.00000000e+00, 2.63516662e+00, 0.00000000e+00,\n",
       "       0.00000000e+00, 0.00000000e+00, 0.00000000e+00, 0.00000000e+00,\n",
       "       0.00000000e+00, 0.00000000e+00, 0.00000000e+00, 0.00000000e+00,\n",
       "       0.00000000e+00, 0.00000000e+00, 0.00000000e+00, 0.00000000e+00,\n",
       "       5.52247808e-02, 0.00000000e+00, 5.45379180e-39, 0.00000000e+00,\n",
       "       0.00000000e+00, 0.00000000e+00, 0.00000000e+00, 0.00000000e+00,\n",
       "       0.00000000e+00, 0.00000000e+00, 0.00000000e+00, 0.00000000e+00,\n",
       "       0.00000000e+00, 0.00000000e+00, 0.00000000e+00, 0.00000000e+00,\n",
       "       0.00000000e+00, 0.00000000e+00, 0.00000000e+00, 0.00000000e+00,\n",
       "       0.00000000e+00, 0.00000000e+00, 0.00000000e+00, 0.00000000e+00,\n",
       "       0.00000000e+00, 0.00000000e+00, 0.00000000e+00, 0.00000000e+00,\n",
       "       0.00000000e+00, 0.00000000e+00, 0.00000000e+00, 0.00000000e+00,\n",
       "       3.65596955e+01, 1.09259734e+02, 2.14800411e+01, 2.48535302e+01,\n",
       "       1.60068991e+02, 3.59158056e+01, 1.66476244e+02, 2.16421389e+02,\n",
       "       1.98565960e-07, 2.24767821e+01, 9.56857285e+01, 1.36037453e+02,\n",
       "       2.92477259e+02, 1.76968670e+02, 1.92687808e+02, 5.52797474e+01,\n",
       "       1.81604991e-02, 4.21428682e+00, 0.00000000e+00, 1.31105889e-01,\n",
       "       2.69392280e+01, 7.65586429e+01, 3.14921310e-01, 1.73187744e+01,\n",
       "       1.17472706e+02, 3.21722613e+02, 1.53260442e+02, 7.87104517e+01,\n",
       "       8.85080801e-05, 5.43650561e-05, 5.07800471e-03, 3.42921411e+01,\n",
       "       0.00000000e+00, 0.00000000e+00, 0.00000000e+00, 0.00000000e+00,\n",
       "       1.31233092e-01, 4.10770177e+01, 0.00000000e+00, 0.00000000e+00,\n",
       "       7.74012707e+01, 1.45483460e+02, 3.95335679e-03, 5.22450797e+01,\n",
       "       1.36373799e+02, 1.11876068e+02, 4.29655456e+01, 5.02481376e+00,\n",
       "       0.00000000e+00, 0.00000000e+00, 0.00000000e+00, 0.00000000e+00,\n",
       "       0.00000000e+00, 0.00000000e+00, 0.00000000e+00, 0.00000000e+00,\n",
       "       0.00000000e+00, 0.00000000e+00, 0.00000000e+00, 0.00000000e+00,\n",
       "       2.82904684e-01, 9.67880435e+00, 0.00000000e+00, 5.00962935e+00,\n",
       "       0.00000000e+00, 0.00000000e+00, 0.00000000e+00, 0.00000000e+00,\n",
       "       0.00000000e+00, 0.00000000e+00, 0.00000000e+00, 0.00000000e+00,\n",
       "       0.00000000e+00, 0.00000000e+00, 0.00000000e+00, 0.00000000e+00,\n",
       "       0.00000000e+00, 0.00000000e+00, 0.00000000e+00, 0.00000000e+00,\n",
       "       0.00000000e+00, 0.00000000e+00, 0.00000000e+00, 0.00000000e+00,\n",
       "       0.00000000e+00, 0.00000000e+00, 0.00000000e+00, 0.00000000e+00,\n",
       "       0.00000000e+00, 0.00000000e+00, 0.00000000e+00, 0.00000000e+00,\n",
       "       0.00000000e+00, 0.00000000e+00, 0.00000000e+00, 6.28625645e-04,\n",
       "       0.00000000e+00, 0.00000000e+00, 0.00000000e+00, 0.00000000e+00,\n",
       "       0.00000000e+00, 0.00000000e+00, 0.00000000e+00, 0.00000000e+00,\n",
       "       0.00000000e+00, 0.00000000e+00, 1.83420085e-08, 1.59511925e+01,\n",
       "       1.65019641e-01, 1.37421341e+00, 5.78957946e+01, 4.94926461e+01,\n",
       "       0.00000000e+00, 0.00000000e+00, 0.00000000e+00, 1.41144207e-01,\n",
       "       0.00000000e+00, 0.00000000e+00, 2.86254043e-19, 1.22713733e-07,\n",
       "       5.41553157e-06, 4.56331666e+01, 1.79999233e+01, 8.06156340e+01,\n",
       "       9.67973294e+01, 1.21104673e+02, 1.30935441e+02, 1.11849659e+02])"
      ]
     },
     "execution_count": 6,
     "metadata": {},
     "output_type": "execute_result"
    }
   ],
   "source": [
    "sols_check = DS_ENERGY['true']['cam_out_SOLS'][49,:].values\n",
    "sols_check"
   ]
  },
  {
   "cell_type": "markdown",
   "metadata": {},
   "source": [
    "### Jerry version"
   ]
  },
  {
   "cell_type": "code",
   "execution_count": 7,
   "metadata": {},
   "outputs": [],
   "source": [
    "data_path = '/ocean/projects/atm200007p/walrus/for_jerry/train/'\n",
    "norm_path = '/ocean/projects/atm200007p/jlin96/neurips_proj/mooers_metrics/norm_factors/'\n",
    "grid_path = '/ocean/projects/atm200007p/jlin96/neurips_proj/mooers_metrics/test_data/E3SM-MMF_ne4_grid-info.orig.nc'\n",
    "target_scoring_path = '/ocean/projects/atm200007p/jlin96/neurips_proj/figure_ingredients/val_target_stride6.npy'\n",
    "cvae_pred_path = '/ocean/projects/atm200007p/shared/neurips_proj/final_metrics/predictions/cVAE/cvae_preds_manual.h5'\n",
    "hsr_pred_path = '/ocean/projects/atm200007p/shared/neurips_proj/final_metrics/predictions/HSR/hsr_preds_bestcrps.h5'\n",
    "rpn_pred_path = '/ocean/projects/atm200007p/jlin96/neurips_proj/figure_ingredients/rpn_pred_v1_stride6.npy'\n",
    "cnn_pred_path = '/ocean/projects/atm200007p/jlin96/neurips_proj/figure_ingredients/val_predict_cnn_reshaped_stride6_FINAL.npy'\n",
    "mlp_pred_path = '/ocean/projects/atm200007p/jlin96/neurips_proj/figure_ingredients/001_backup_phase-7_retrained_models_step2_lot-147_trial_0027.best.h5.npy'\n",
    "\n",
    "data_path = data_path\n",
    "input_vars = ['state_t','state_q0001','state_ps','pbuf_SOLIN', 'pbuf_LHFLX', 'pbuf_SHFLX']\n",
    "target_vars = ['ptend_t','ptend_q0001','cam_out_NETSW','cam_out_FLWDS','cam_out_PRECSC','cam_out_PRECC','cam_out_SOLS','cam_out_SOLL','cam_out_SOLSD','cam_out_SOLLD']\n",
    "grid_info = xr.open_dataset(grid_path)\n",
    "inp_mean = xr.open_dataset(norm_path + 'mli_mean.nc')\n",
    "inp_max = xr.open_dataset(norm_path + 'mli_max.nc')\n",
    "inp_min = xr.open_dataset(norm_path + 'mli_min.nc')\n",
    "out_scale = xr.open_dataset(norm_path + 'mlo_scale.nc')"
   ]
  },
  {
   "cell_type": "code",
   "execution_count": 8,
   "metadata": {},
   "outputs": [],
   "source": [
    "scoring_data = data_utils(data_path = data_path, \n",
    "                          input_vars = input_vars, \n",
    "                          target_vars = target_vars, \n",
    "                          grid_info = grid_info, \n",
    "                          inp_mean = inp_mean, \n",
    "                          inp_max = inp_max, \n",
    "                          inp_min = inp_min, \n",
    "                          out_scale = out_scale)"
   ]
  },
  {
   "cell_type": "code",
   "execution_count": 9,
   "metadata": {},
   "outputs": [],
   "source": [
    "# set regular expressions for selecting data\n",
    "scoring_data.set_regexps(data_split = 'scoring', regexps = ['E3SM-MMF.mli.0008-0[23456789]-*-*.nc', \n",
    "                                                            'E3SM-MMF.mli.0008-1[012]-*-*.nc', \n",
    "                                                            'E3SM-MMF.mli.0009-01-*-*.nc'])\n",
    "# set temporal subsampling\n",
    "scoring_data.set_stride_sample(data_split = 'scoring', stride_sample = 6)\n",
    "# create list of files to extract data from\n",
    "scoring_data.set_filelist(data_split = 'scoring')\n",
    "# load target output\n",
    "scoring_data.target_scoring = np.load(target_scoring_path)"
   ]
  },
  {
   "cell_type": "code",
   "execution_count": 10,
   "metadata": {},
   "outputs": [],
   "source": [
    "scoring_data.model_names = ['cVAE','HSR','RPN','CNN', 'MLP']\n",
    "preds = [scoring_data.get_pred_h5(load_path = cvae_pred_path), \n",
    "         scoring_data.get_pred_h5(load_path = hsr_pred_path), \n",
    "         scoring_data.get_pred_npy(load_path = rpn_pred_path), \n",
    "         scoring_data.get_pred_npy(load_path = cnn_pred_path), \n",
    "         scoring_data.get_pred_npy(load_path = mlp_pred_path)]\n",
    "scoring_data.preds_scoring = dict(zip(scoring_data.model_names, preds))"
   ]
  },
  {
   "cell_type": "code",
   "execution_count": 11,
   "metadata": {},
   "outputs": [],
   "source": [
    "assert np.sum(scoring_data.target_scoring-y_true) == 0\n",
    "assert scoring_data.target_scoring.shape == y_true.shape"
   ]
  },
  {
   "cell_type": "code",
   "execution_count": 12,
   "metadata": {},
   "outputs": [],
   "source": [
    "heating, moistening, netsw, flwds, precsc, precc, sols, soll, solsd, solld = \\\n",
    "    scoring_data.output_weighting(x_true, y_true)"
   ]
  },
  {
   "cell_type": "code",
   "execution_count": 13,
   "metadata": {},
   "outputs": [
    {
     "data": {
      "text/plain": [
       "(4380, 384, 60)"
      ]
     },
     "execution_count": 13,
     "metadata": {},
     "output_type": "execute_result"
    }
   ],
   "source": [
    "heating.shape"
   ]
  },
  {
   "cell_type": "code",
   "execution_count": 14,
   "metadata": {},
   "outputs": [
    {
     "data": {
      "text/plain": [
       "(4380, 384, 60)"
      ]
     },
     "execution_count": 14,
     "metadata": {},
     "output_type": "execute_result"
    }
   ],
   "source": [
    "moistening.shape"
   ]
  },
  {
   "cell_type": "code",
   "execution_count": 15,
   "metadata": {},
   "outputs": [
    {
     "data": {
      "text/plain": [
       "(4380, 384)"
      ]
     },
     "execution_count": 15,
     "metadata": {},
     "output_type": "execute_result"
    }
   ],
   "source": [
    "netsw.shape"
   ]
  },
  {
   "cell_type": "code",
   "execution_count": 16,
   "metadata": {},
   "outputs": [
    {
     "data": {
      "text/plain": [
       "(4380, 384)"
      ]
     },
     "execution_count": 16,
     "metadata": {},
     "output_type": "execute_result"
    }
   ],
   "source": [
    "flwds.shape"
   ]
  },
  {
   "cell_type": "code",
   "execution_count": 17,
   "metadata": {},
   "outputs": [
    {
     "data": {
      "text/plain": [
       "(4380, 384)"
      ]
     },
     "execution_count": 17,
     "metadata": {},
     "output_type": "execute_result"
    }
   ],
   "source": [
    "precsc.shape"
   ]
  },
  {
   "cell_type": "code",
   "execution_count": 18,
   "metadata": {},
   "outputs": [
    {
     "data": {
      "text/plain": [
       "(4380, 384)"
      ]
     },
     "execution_count": 18,
     "metadata": {},
     "output_type": "execute_result"
    }
   ],
   "source": [
    "precc.shape"
   ]
  },
  {
   "cell_type": "code",
   "execution_count": 19,
   "metadata": {},
   "outputs": [
    {
     "data": {
      "text/plain": [
       "(4380, 384)"
      ]
     },
     "execution_count": 19,
     "metadata": {},
     "output_type": "execute_result"
    }
   ],
   "source": [
    "sols.shape"
   ]
  },
  {
   "cell_type": "code",
   "execution_count": 20,
   "metadata": {},
   "outputs": [
    {
     "data": {
      "text/plain": [
       "(4380, 384)"
      ]
     },
     "execution_count": 20,
     "metadata": {},
     "output_type": "execute_result"
    }
   ],
   "source": [
    "soll.shape"
   ]
  },
  {
   "cell_type": "code",
   "execution_count": 21,
   "metadata": {},
   "outputs": [
    {
     "data": {
      "text/plain": [
       "(4380, 384)"
      ]
     },
     "execution_count": 21,
     "metadata": {},
     "output_type": "execute_result"
    }
   ],
   "source": [
    "solsd.shape"
   ]
  },
  {
   "cell_type": "code",
   "execution_count": 22,
   "metadata": {},
   "outputs": [
    {
     "data": {
      "text/plain": [
       "(4380, 384)"
      ]
     },
     "execution_count": 22,
     "metadata": {},
     "output_type": "execute_result"
    }
   ],
   "source": [
    "solld.shape"
   ]
  },
  {
   "cell_type": "markdown",
   "metadata": {},
   "source": [
    "### Time to compare"
   ]
  },
  {
   "cell_type": "code",
   "execution_count": 39,
   "metadata": {},
   "outputs": [],
   "source": [
    "assert(np.sum(DS_ENERGY['true']['ptend_t'].values - heating) == 0)\n",
    "assert(DS_ENERGY['true']['ptend_t'].values.shape == heating.shape)\n",
    "\n",
    "assert(np.sum(DS_ENERGY['true']['ptend_q0001'].values - moistening) == 0)\n",
    "assert(DS_ENERGY['true']['ptend_q0001'].values.shape == moistening.shape)\n",
    "\n",
    "assert(np.sum(DS_ENERGY['true']['cam_out_NETSW'].values - netsw) == 0)\n",
    "assert(DS_ENERGY['true']['cam_out_NETSW'].values.shape == netsw.shape)\n",
    "\n",
    "assert(np.sum(DS_ENERGY['true']['cam_out_FLWDS'].values - flwds) == 0)\n",
    "assert(DS_ENERGY['true']['cam_out_FLWDS'].values.shape == flwds.shape)\n",
    "\n",
    "assert(np.sum(DS_ENERGY['true']['cam_out_PRECSC'].values - precsc) == 0)\n",
    "assert(DS_ENERGY['true']['cam_out_PRECSC'].values.shape == precsc.shape)\n",
    "\n",
    "assert(np.sum(DS_ENERGY['true']['cam_out_PRECC'].values - precc) == 0)\n",
    "assert(DS_ENERGY['true']['cam_out_PRECC'].values.shape == precc.shape)\n",
    "\n",
    "assert(np.sum(DS_ENERGY['true']['cam_out_SOLS'].values - sols) == 0)\n",
    "assert(DS_ENERGY['true']['cam_out_SOLS'].values.shape == sols.shape)\n",
    "\n",
    "assert(np.sum(DS_ENERGY['true']['cam_out_SOLL'].values - soll) == 0)\n",
    "assert(DS_ENERGY['true']['cam_out_SOLL'].values.shape == soll.shape)\n",
    "\n",
    "assert(np.sum(DS_ENERGY['true']['cam_out_SOLSD'].values - solsd) == 0)\n",
    "assert(DS_ENERGY['true']['cam_out_SOLSD'].values.shape == solsd.shape)\n",
    "\n",
    "assert(np.sum(DS_ENERGY['true']['cam_out_SOLLD'].values - solld) == 0)\n",
    "assert(DS_ENERGY['true']['cam_out_SOLLD'].values.shape == solld.shape)"
   ]
  },
  {
   "cell_type": "code",
   "execution_count": null,
   "metadata": {},
   "outputs": [],
   "source": []
  }
 ],
 "metadata": {
  "kernelspec": {
   "display_name": "Python 3 (ipykernel)",
   "language": "python",
   "name": "python3"
  },
  "language_info": {
   "codemirror_mode": {
    "name": "ipython",
    "version": 3
   },
   "file_extension": ".py",
   "mimetype": "text/x-python",
   "name": "python",
   "nbconvert_exporter": "python",
   "pygments_lexer": "ipython3",
   "version": "3.9.13"
  },
  "orig_nbformat": 4
 },
 "nbformat": 4,
 "nbformat_minor": 2
}
